import pandas as pd 
from sklearn.model_selection import train_test_split 
from sklearn.metrics import accuracy_score 
from sklearn.tree import DecisionTreeClassifier
from sklearn.metrics import confusion_matrix
from sklearn.metrics import recall_score
from sklearn.metrics import precision_score
from sklearn.metrics import f1_score


df = pd.read_csv("travel_insurance_preprocessed.csv")


df.head()


target = df["Claim"]
features = df.drop("Claim", axis = 1)


features_train,features_valid,target_train,target_valid = train_test_split(features,target,test_size=0.25,random_state=12345)


model = DecisionTreeClassifier(random_state=12345)
model.fit(features_train,target_train)
predict_valid = model.predict(features_valid)
accuracy_valid = accuracy_score(target_valid,predict_valid)


accuracy_valid





class_frequency = df["Claim"].value_counts(normalize=True)
print(class_frequency)


class_frequency.plot(kind = 'bar')


predicted_valid = pd.Series(model.predict(features_valid))


predicted_valid


class_frequency = predicted_valid.value_counts(normalize = True)
print(class_frequency)


class_frequency.plot(kind = 'bar')


# Создаём константную модель, предсказывающую 0 для всех объектов
target_pred_constant = pd.Series(0, index=target.index)

# Вычисляем и выводим значение accuracy
print(accuracy_score(target, target_pred_constant))












target_zad = pd.Series([1, 0, 0, 1, 1, 0, 1, 0, 1, 1, 0, 0, 0, 1])
predictions_zad = pd.Series([1, 1, 0, 0, 1, 1, 1, 0, 0, 1, 0, 1, 0, 1])


((target_zad == 0)&(predictions_zad == 0)).sum()


counts = 0
for i in range(len(target_zad)):
    if target_zad[i] + predictions_zad[i] == 2:
        counts +=1
    else:
        continue
print(counts)





counts = 0
for i in range(len(target_zad)):
    if target_zad[i] == 0 and predictions_zad[i] == 0:
        counts +=1
    else:
        continue
print(counts)








counts = 0
for i in range(len(target_zad)):
    if target_zad[i] == 0 and predictions_zad[i] == 1:
        counts +=1
    else:
        continue
print(counts)





counts = 0
for i in range(len(target_zad)):
    if target_zad[i] == 1 and predictions_zad[i] == 0:
        counts +=1
    else:
        continue
print(counts)











confusion_matrix(target_zad, predictions_zad)


confusion_matrix(target_valid, predict_valid)








model = DecisionTreeClassifier(random_state=12345)
model.fit(features_train, target_train)
predict_valid = model.predict(features_valid)
recall=recall_score(target_valid,predict_valid)


recall





precision = precision_score(target_valid,predict_valid)


precision








f1 = 2 * precision * recall / (precision + recall)


f1


target_zad = pd.Series([1, 0, 0, 1, 1, 0, 1, 0, 1, 1, 0, 0, 0, 1])
predictions_zad = pd.Series([1, 1, 0, 0, 1, 1, 1, 0, 0, 1, 0, 1, 0, 1])


precision_zad = precision_score(target_zad, predictions_zad)
recall_zad  = recall_score(target_zad, predictions_zad)


f1 = 2 * precision_zad * recall_zad / (precision_zad + recall_zad)


f1


f1_form = f1_score(target_valid,predict_valid)


f1_form



