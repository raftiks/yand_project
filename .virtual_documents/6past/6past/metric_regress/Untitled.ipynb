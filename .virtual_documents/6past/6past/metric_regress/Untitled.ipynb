import pandas as pd 
from sklearn.preprocessing import StandardScaler
from sklearn.model_selection import train_test_split
from sklearn.linear_model import LinearRegression
from sklearn.metrics import mean_squared_error
from sklearn.metrics import r2_score
from sklearn.ensemble import RandomForestRegressor
from sklearn.metrics import mean_absolute_error


data = pd.read_csv("flights.csv")


data.head()


data_ohe = pd.get_dummies(data, drop_first=True, dtype = int)





target = data_ohe["Arrival Delay"]
features = data_ohe.drop("Arrival Delay", axis = 1)
features_train, features_valid, target_train, target_valid = train_test_split(features,target, test_size=0.25, random_state=12345)



numeric = ['Day', 'Day Of Week', 'Origin Airport Delay Rate','Destination Airport Delay Rate', 'Scheduled Time', 'Distance','Scheduled Departure Hour', 'Scheduled Departure Minute']


scaler = StandardScaler().fit(features_train[numeric])


features_train[numeric]= scaler.transform(features_train[numeric])
features_valid[numeric]= scaler.transform(features_valid[numeric])
print(features_train.shape)
print(features_valid.shape)


df = pd.read_csv("flights_preprocessed.csv")


target = df['Arrival Delay']
features = df.drop(['Arrival Delay'] , axis=1)
features_train, features_valid, target_train, target_valid = train_test_split(features, target, test_size=0.25, random_state=12345)


model = LinearRegression().fit(features_train,target_train)
predicted_valid = model.predict(features_valid)
mse = mean_squared_error(target_valid,predicted_valid)
print(f"MSE = {mse}")
print(f"RMSE = {mse ** 0.5}")


r2 = r2_score(target_valid,predicted_valid)
print(r2)


for i in range(1,16,1):
    model = RandomForestRegressor(random_state=12345, max_depth=i)
    model.fit(features_train, target_train)
    train_score = model.score(features_train,target_train)
    valid_score = model.score(features_valid, target_valid)
    print(train_score, valid_score, i)


# START_CELL_MAGIC("time", "")
model = RandomForestRegressor(n_estimators=100,  max_depth=12, random_state=12345)
model.fit(features_train, target_train)
predicted_valid = model.predict(features_valid)
r2 = r2_score(target_valid,predicted_valid)
print(r2)

# END_CELL_MAGIC


def mae(target,predictions):
    error = 0
    for i in range(target.shape[0]):
        error += abs(target[i] - predictions[i])
    return error/target.shape[0]


target = pd.Series([-0.5, 2.1, 1.5, 0.3])
predictions = pd.Series([-0.6, 1.7, 1.6, 0.2])
print(mae(target, predictions))


mae_formula = mean_absolute_error(target_valid, predicted_valid)  ## max_depth = 12
print(mae_formula)


predicted_valid1 = pd.Series(target_train.median(), index = target_valid.index) ## для медианы
mae_formula = mean_absolute_error(target_valid, predicted_valid1)
print(mae_formula)


model = LinearRegression()
model.fit(features_train, target_train)
predictions_valid = model.predict(features_valid)

print(mean_absolute_error(target_valid, predictions_valid)) 





best_mae = 10000 
best_depth = 0
for i in range(10,100,10):
    model = RandomForestRegressor(n_estimators = i, max_depth= 11, random_state=12345)
    model.fit(features_train,target_train)
    predict = pd.Series()
    mae = mean_absolute_error(target_valid, predict)
    print(mae, i)


model = RandomForestRegressor(n_estimators = 80, max_depth= 11, random_state=12345)
model.fit(features_train,target_train)
predictions_train = model.predict(features_train)
predictions_valid  = model.predict(features_valid)
print(mean_absolute_error(target_train,predictions_train),mean_absolute_error(target_valid,predictions_valid))



