{
 "cells": [
  {
   "cell_type": "code",
   "execution_count": 155,
   "id": "106b20b8-20e4-4c84-8278-6be0415d8444",
   "metadata": {},
   "outputs": [
    {
     "name": "stdout",
     "output_type": "stream",
     "text": [
      "Регион 0: Средний запас = 92.59, RMSE = 37.58\n",
      "Регион 1: Средний запас = 68.73, RMSE = 0.89\n",
      "Регион 2: Средний запас = 94.97, RMSE = 40.03\n"
     ]
    }
   ],
   "source": [
    "import pandas as pd \n",
    "from sklearn.model_selection import train_test_split\n",
    "from sklearn.linear_model import LinearRegression\n",
    "from sklearn.metrics import mean_squared_error\n",
    "from scipy import stats as st\n",
    "from numpy.random import RandomState\n",
    "import seaborn as sns\n",
    "\n",
    "# Шаг 1: Загрузка и подготовка данных (выполнено верно)\n",
    "data0 = pd.read_csv(\"geo_data_0.csv\")\n",
    "data1 = pd.read_csv(\"geo_data_1.csv\")\n",
    "data2 = pd.read_csv(\"geo_data_2.csv\")\n",
    "\n",
    "features_0 = data0.drop([\"id\", \"product\"], axis=1)\n",
    "features_1 = data1.drop([\"id\", \"product\"], axis=1)\n",
    "features_2 = data2.drop([\"id\", \"product\"], axis=1)\n",
    "\n",
    "target_0 = data0[\"product\"]\n",
    "target_1 = data1[\"product\"]\n",
    "target_2 = data2[\"product\"]\n",
    "\n",
    "# Шаг 2.1: Разделение данных (выполнено верно)\n",
    "train_features_0, valid_features_0, train_target_0, valid_target_0 = train_test_split(features_0, target_0, test_size=0.25, random_state=12345)\n",
    "train_features_1, valid_features_1, train_target_1, valid_target_1 = train_test_split(features_1, target_1, test_size=0.25, random_state=12345)\n",
    "train_features_2, valid_features_2, train_target_2, valid_target_2 = train_test_split(features_2, target_2, test_size=0.25, random_state=12345)\n",
    "\n",
    "# Шаг 2.2: Обучение и предсказание (создаём отдельные модели!)\n",
    "model_0 = LinearRegression().fit(train_features_0, train_target_0)\n",
    "model_1 = LinearRegression().fit(train_features_1, train_target_1)\n",
    "model_2 = LinearRegression().fit(train_features_2, train_target_2)\n",
    "\n",
    "predictions_0 = model_0.predict(valid_features_0)\n",
    "predictions_1 = model_1.predict(valid_features_1)\n",
    "predictions_2 = model_2.predict(valid_features_2)\n",
    "\n",
    "# Шаг 2.3: Сохранение результатов (достаточно переменных predictions_X и valid_target_X)\n",
    "result_0 = pd.DataFrame({\"actual\": valid_target_0.reset_index(drop=True), \"predict\": predictions_0})\n",
    "result_1 = pd.DataFrame({\"actual\": valid_target_1.reset_index(drop=True), \"predict\": predictions_1})\n",
    "result_2 = pd.DataFrame({\"actual\": valid_target_2.reset_index(drop=True), \"predict\": predictions_2})\n",
    "\n",
    "# Шаг 2.4: Расчёт метрик\n",
    "# Средний запас предсказанного сырья:\n",
    "mean_pred_0 = predictions_0.mean()\n",
    "mean_pred_1 = predictions_1.mean()\n",
    "mean_pred_2 = predictions_2.mean()\n",
    "\n",
    "# RMSE с корректными скобками:\n",
    "rmse_0 = mean_squared_error(valid_target_0, predictions_0) ** (1/2)  \n",
    "rmse_1 = mean_squared_error(valid_target_1, predictions_1) ** (1/2)\n",
    "rmse_2 = mean_squared_error(valid_target_2, predictions_2) ** (1/2)\n",
    "\n",
    "# Альтернатива: np.sqrt(mean_squared_error(...))\n",
    "\n",
    "print(f\"Регион 0: Средний запас = {mean_pred_0:.2f}, RMSE = {rmse_0:.2f}\")\n",
    "print(f\"Регион 1: Средний запас = {mean_pred_1:.2f}, RMSE = {rmse_1:.2f}\")\n",
    "print(f\"Регион 2: Средний запас = {mean_pred_2:.2f}, RMSE = {rmse_2:.2f}\")"
   ]
  },
  {
   "cell_type": "code",
   "execution_count": 147,
   "id": "cdbfb53c-c560-46db-975f-8e1178854d4b",
   "metadata": {},
   "outputs": [
    {
     "name": "stdout",
     "output_type": "stream",
     "text": [
      "Минимальный средний объём на скважину: 111.11 тыс. баррелей\n",
      "3320826.0431398507\n"
     ]
    }
   ],
   "source": [
    "BUDGET = 1e+07  # 10 млрд рублей бюджет\n",
    "INCOME_PER_BARREL = 450 # 450 тыс. рублей/тыс. баррелей (так как объём в тыс. баррелей!)\n",
    "N_EXPLORATION = 500  # Исследуем 500 точек\n",
    "N_BEST = 200  # Выбираем 200 лучших скважин\n",
    "\n",
    "min_total_volume = BUDGET / INCOME_PER_BARREL\n",
    "min_volume_per_well = min_total_volume / N_BEST\n",
    "print(f\"Минимальный средний объём на скважину: {min_volume_per_well:.2f} тыс. баррелей\")\n",
    "\n",
    "def oil_profit_calculation(target, probabilities, count = 200):\n",
    "    probs_sorted = pd.Series(probabilities).sort_values(ascending=False)\n",
    "    selected = target[probs_sorted.index][:count]\n",
    "    return INCOME_PER_BARREL * selected.sum() - BUDGET\n",
    "\n",
    "\n",
    "print(oil_profit_calculation(result_0[\"actual\"], result_0[\"predict\"]))"
   ]
  },
  {
   "cell_type": "markdown",
   "id": "124160a2-fa74-46c0-a88f-a94b5bdbf4b9",
   "metadata": {},
   "source": [
    "# Bootstrap"
   ]
  },
  {
   "cell_type": "code",
   "execution_count": 169,
   "id": "3b84d5f2-2de2-4669-85ab-78cfc940c1b5",
   "metadata": {
    "scrolled": true
   },
   "outputs": [
    {
     "name": "stdout",
     "output_type": "stream",
     "text": [
      "Данные по первому региону\n",
      "Средняя прибыль по региону = 380247.21 тыс.руб.\n",
      "95% доверительный интервал от -111665.67 до 850629.14 тыс.руб.\n",
      "Процент риска 6.6000%\n"
     ]
    }
   ],
   "source": [
    "import numpy as np\n",
    "import pandas as pd\n",
    "from numpy.random import RandomState\n",
    "\n",
    "# Инициализация состояний для воспроизводимости\n",
    "state = RandomState(43525)\n",
    "def bootstrap(targets, predict):\n",
    "    lost = 0\n",
    "    value = []\n",
    "    boost_samples = 1000\n",
    "    n = len(targets)\n",
    "    for i in range(boost_samples):\n",
    "        samples_target = targets.sample(replace = True, random_state = state, n = 500)\n",
    "        samples_pred = predict[samples_target.index]\n",
    "        profit_samp = oil_profit_calculation(targets, samples_pred)\n",
    "        if profit_samp < 0:\n",
    "            lost += 1\n",
    "        value.append(profit_samp)\n",
    "    val = pd.Series(value)\n",
    "    avg = val.mean()\n",
    "    upper = val.quantile(0.975)\n",
    "    lower = val.quantile(0.025)\n",
    "    risk = lost / 1000\n",
    "    return val, avg, upper, lower, risk\n",
    "\n",
    "mean_0,average_0, upper_0, lower_0, risk_0 = bootstrap(result_0['actual'], result_0['predict'])\n",
    "\n",
    "print(\"Данные по первому региону\")\n",
    "print('Средняя прибыль по региону = {:.2f} тыс.руб.'.format(average_0))\n",
    "print('95% доверительный интервал от {:.2f} до {:.2f} тыс.руб.'.format(lower_0, upper_0))\n",
    "print('Процент риска {:.4%}'.format(risk_0))\n"
   ]
  },
  {
   "cell_type": "code",
   "execution_count": 170,
   "id": "3cf3b5f6-6ec9-4fc4-b1b4-6a38a43d5f2c",
   "metadata": {},
   "outputs": [
    {
     "name": "stdout",
     "output_type": "stream",
     "text": [
      "Данные по первому региону\n",
      "Средняя прибыль по региону = 445838.05 тыс.руб.\n",
      "95% доверительный интервал от 56717.82 до 841589.53 тыс.руб.\n",
      "Процент риска 0.9000%\n"
     ]
    }
   ],
   "source": [
    "mean_1,average_1, upper_1, lower_1, risk_1 = bootstrap(result_1['actual'], result_1['predict'])\n",
    "\n",
    "print(\"Данные по первому региону\")\n",
    "print('Средняя прибыль по региону = {:.2f} тыс.руб.'.format(average_1))\n",
    "print('95% доверительный интервал от {:.2f} до {:.2f} тыс.руб.'.format(lower_1, upper_1))\n",
    "print('Процент риска {:.4%}'.format(risk_1))"
   ]
  },
  {
   "cell_type": "code",
   "execution_count": 171,
   "id": "49db7a03-3839-45f6-8784-4039112f2865",
   "metadata": {},
   "outputs": [
    {
     "name": "stdout",
     "output_type": "stream",
     "text": [
      "Данные по первому региону\n",
      "Средняя прибыль по региону = 399386.93 тыс.руб.\n",
      "95% доверительный интервал от -120259.57 до 943833.96 тыс.руб.\n",
      "Процент риска 7.8000%\n"
     ]
    }
   ],
   "source": [
    "mean_2,average_2, upper_2, lower_2, risk_2 = bootstrap(result_2['actual'], result_2['predict'])\n",
    "\n",
    "print(\"Данные по первому региону\")\n",
    "print('Средняя прибыль по региону = {:.2f} тыс.руб.'.format(average_2))\n",
    "print('95% доверительный интервал от {:.2f} до {:.2f} тыс.руб.'.format(lower_2, upper_2))\n",
    "print('Процент риска {:.4%}'.format(risk_2))"
   ]
  },
  {
   "cell_type": "code",
   "execution_count": 105,
   "id": "f6e4d769-ee80-4913-8308-86d64856eb53",
   "metadata": {},
   "outputs": [
    {
     "data": {
      "text/plain": [
       "array([ 95.89495185,  77.57258261,  77.89263965, ...,  61.50983303,\n",
       "       118.18039721, 118.16939229], shape=(25000,))"
      ]
     },
     "execution_count": 105,
     "metadata": {},
     "output_type": "execute_result"
    }
   ],
   "source": [
    "predictions_0"
   ]
  },
  {
   "cell_type": "code",
   "execution_count": 139,
   "id": "d580b768-0bd1-4af3-b78a-ff2ea2c8eadc",
   "metadata": {},
   "outputs": [
    {
     "data": {
      "text/html": [
       "<div>\n",
       "<style scoped>\n",
       "    .dataframe tbody tr th:only-of-type {\n",
       "        vertical-align: middle;\n",
       "    }\n",
       "\n",
       "    .dataframe tbody tr th {\n",
       "        vertical-align: top;\n",
       "    }\n",
       "\n",
       "    .dataframe thead th {\n",
       "        text-align: right;\n",
       "    }\n",
       "</style>\n",
       "<table border=\"1\" class=\"dataframe\">\n",
       "  <thead>\n",
       "    <tr style=\"text-align: right;\">\n",
       "      <th></th>\n",
       "      <th>actual</th>\n",
       "      <th>predict</th>\n",
       "    </tr>\n",
       "  </thead>\n",
       "  <tbody>\n",
       "    <tr>\n",
       "      <th>0</th>\n",
       "      <td>10.038645</td>\n",
       "      <td>95.894952</td>\n",
       "    </tr>\n",
       "    <tr>\n",
       "      <th>1</th>\n",
       "      <td>114.551489</td>\n",
       "      <td>77.572583</td>\n",
       "    </tr>\n",
       "    <tr>\n",
       "      <th>2</th>\n",
       "      <td>132.603635</td>\n",
       "      <td>77.892640</td>\n",
       "    </tr>\n",
       "    <tr>\n",
       "      <th>3</th>\n",
       "      <td>169.072125</td>\n",
       "      <td>90.175134</td>\n",
       "    </tr>\n",
       "    <tr>\n",
       "      <th>4</th>\n",
       "      <td>122.325180</td>\n",
       "      <td>70.510088</td>\n",
       "    </tr>\n",
       "    <tr>\n",
       "      <th>...</th>\n",
       "      <td>...</td>\n",
       "      <td>...</td>\n",
       "    </tr>\n",
       "    <tr>\n",
       "      <th>24995</th>\n",
       "      <td>170.116726</td>\n",
       "      <td>103.037104</td>\n",
       "    </tr>\n",
       "    <tr>\n",
       "      <th>24996</th>\n",
       "      <td>93.632175</td>\n",
       "      <td>85.403255</td>\n",
       "    </tr>\n",
       "    <tr>\n",
       "      <th>24997</th>\n",
       "      <td>127.352259</td>\n",
       "      <td>61.509833</td>\n",
       "    </tr>\n",
       "    <tr>\n",
       "      <th>24998</th>\n",
       "      <td>99.782700</td>\n",
       "      <td>118.180397</td>\n",
       "    </tr>\n",
       "    <tr>\n",
       "      <th>24999</th>\n",
       "      <td>177.821022</td>\n",
       "      <td>118.169392</td>\n",
       "    </tr>\n",
       "  </tbody>\n",
       "</table>\n",
       "<p>25000 rows × 2 columns</p>\n",
       "</div>"
      ],
      "text/plain": [
       "           actual     predict\n",
       "0       10.038645   95.894952\n",
       "1      114.551489   77.572583\n",
       "2      132.603635   77.892640\n",
       "3      169.072125   90.175134\n",
       "4      122.325180   70.510088\n",
       "...           ...         ...\n",
       "24995  170.116726  103.037104\n",
       "24996   93.632175   85.403255\n",
       "24997  127.352259   61.509833\n",
       "24998   99.782700  118.180397\n",
       "24999  177.821022  118.169392\n",
       "\n",
       "[25000 rows x 2 columns]"
      ]
     },
     "execution_count": 139,
     "metadata": {},
     "output_type": "execute_result"
    }
   ],
   "source": [
    "result_0"
   ]
  },
  {
   "cell_type": "code",
   "execution_count": null,
   "id": "6bbae785-3629-46a9-9d75-b9aea605b161",
   "metadata": {},
   "outputs": [],
   "source": []
  }
 ],
 "metadata": {
  "kernelspec": {
   "display_name": "Python 3 (ipykernel)",
   "language": "python",
   "name": "python3"
  },
  "language_info": {
   "codemirror_mode": {
    "name": "ipython",
    "version": 3
   },
   "file_extension": ".py",
   "mimetype": "text/x-python",
   "name": "python",
   "nbconvert_exporter": "python",
   "pygments_lexer": "ipython3",
   "version": "3.13.3"
  }
 },
 "nbformat": 4,
 "nbformat_minor": 5
}
