from scipy import stats as st
import pandas as pd
import seaborn as sns


from scipy import stats as st
import pandas as pd

sample_before = pd.Series([
    436, 397, 433, 412, 367, 353, 440, 375, 414, 
    410, 434, 356, 377, 403, 434, 377, 437, 383,
    388, 412, 350, 392, 354, 362, 392, 441, 371, 
    350, 364, 449, 413, 401, 382, 445, 366, 435,
    442, 413, 386, 390, 350, 364, 418, 369, 369, 
    368, 429, 388, 397, 393, 373, 438, 385, 365,
    447, 408, 379, 411, 358, 368, 442, 366, 431,
    400, 449, 422, 423, 427, 361, 354])

sample_after = pd.Series([
    439, 518, 452, 505, 493, 470, 498, 442, 497, 
    423, 524, 442, 459, 452, 463, 488, 497, 500,
    476, 501, 456, 425, 438, 435, 516, 453, 505, 
    441, 477, 469, 497, 502, 442, 449, 465, 429,
    442, 472, 466, 431, 490, 475, 447, 435, 482, 
    434, 525, 510, 494, 493, 495, 499, 455, 464,
    509, 432, 476, 438, 512, 423, 428, 499, 492, 
    493, 467, 493, 468, 420, 513, 427])

print("Среднее до:", sample_before.mean())
print("Среднее после:", sample_after.mean())

alpha = 0.05

# Двусторонний тест и корректировка p-value для одностороннего теста
pvalue = st.ttest_ind(sample_after, sample_before).pvalue / 2

print('p-значение: ', pvalue)

if pvalue < alpha:
    print("Отвергаем нулевую гипотезу: скорее всего средний чек увеличился")
else:
    print("Не получилось отвергнуть нулевую гипотезу: скорее всего средний чек не увеличился")





sample = pd.Series([
    439, 518, 452, 505, 493, 470, 498, 442, 497, 
    423, 524, 442, 459, 452, 463, 488, 497, 500,
    476, 501, 456, 425, 438, 435, 516, 453, 505, 
    441, 477, 469, 497, 502, 442, 449, 465, 429,
    442, 472, 466, 431, 490, 475, 447, 435, 482, 
    434, 525, 510, 494, 493, 495, 499, 455, 464,
    509, 432, 476, 438, 512, 423, 428, 499, 492,
    493, 467, 493, 468, 420, 513, 427])

size = sample.shape

print(f"среднее: {sample.mean()}")
    
interval = st.t.interval(0.95,len(sample) - 1, sample.mean(), sample.sem())
print("95%-ый доверительный интервал:", (float(interval[0]), float(interval[1])))


sample.shape








from numpy.random import RandomState
data = pd.Series([
    10.7 ,  9.58,  7.74,  8.3 , 11.82,  9.74, 10.18,  8.43,  8.71,
     6.84,  9.26, 11.61, 11.08,  8.94,  8.44, 10.41,  9.36, 10.85,
    10.41,  8.37,  8.99, 10.17,  7.78, 10.79, 10.61, 10.87,  7.43,
     8.44,  9.44,  8.26,  7.98, 11.27, 11.61,  9.84, 12.47,  7.8 ,
    10.54,  8.99,  7.33,  8.55,  8.06, 10.62, 10.41,  9.29,  9.98,
     9.46,  9.99,  8.62, 11.34, 11.21, 15.19, 20.85, 19.15, 19.01,
    15.24, 16.66, 17.62, 18.22, 17.2 , 15.76, 16.89, 15.22, 18.7 ,
    14.84, 14.88, 19.41, 18.54, 17.85, 18.31, 13.68, 18.46, 13.99,
    16.38, 16.88, 17.82, 15.17, 15.16, 18.15, 15.08, 15.91, 16.82,
    16.85, 18.04, 17.51, 18.44, 15.33, 16.07, 17.22, 15.9 , 18.03,
    17.26, 17.6 , 16.77, 17.45, 13.73, 14.95, 15.57, 19.19, 14.39,
    15.76]) 
state = RandomState(12345)
for i in range(5):
    print(data.sample(1,random_state = state, replace = True))


example_data = pd.Series([1, 2, 3, 4, 5])
print("Без возвращения")
print(example_data.sample(frac=1, replace=False, random_state=state))
print("C возвращения")
print(example_data.sample(frac=1, replace=True, random_state=state))


from numpy.random import RandomState
data = pd.Series([
    10.7 ,  9.58,  7.74,  8.3 , 11.82,  9.74, 10.18,  8.43,  8.71,
     6.84,  9.26, 11.61, 11.08,  8.94,  8.44, 10.41,  9.36, 10.85,
    10.41,  8.37,  8.99, 10.17,  7.78, 10.79, 10.61, 10.87,  7.43,
     8.44,  9.44,  8.26,  7.98, 11.27, 11.61,  9.84, 12.47,  7.8 ,
    10.54,  8.99,  7.33,  8.55,  8.06, 10.62, 10.41,  9.29,  9.98,
     9.46,  9.99,  8.62, 11.34, 11.21, 15.19, 20.85, 19.15, 19.01,
    15.24, 16.66, 17.62, 18.22, 17.2 , 15.76, 16.89, 15.22, 18.7 ,
    14.84, 14.88, 19.41, 18.54, 17.85, 18.31, 13.68, 18.46, 13.99,
    16.38, 16.88, 17.82, 15.17, 15.16, 18.15, 15.08, 15.91, 16.82,
    16.85, 18.04, 17.51, 18.44, 15.33, 16.07, 17.22, 15.9 , 18.03,
    17.26, 17.6 , 16.77, 17.45, 13.73, 14.95, 15.57, 19.19, 14.39,
    15.76]) 
state = RandomState(12345)
for i in range(10):
    subsample = data.sample(frac = 1,random_state = state, replace = True)
    print(subsample.quantile(0.99))


from numpy.random import RandomState
data = pd.Series([
    10.7 ,  9.58,  7.74,  8.3 , 11.82,  9.74, 10.18,  8.43,  8.71,
     6.84,  9.26, 11.61, 11.08,  8.94,  8.44, 10.41,  9.36, 10.85,
    10.41,  8.37,  8.99, 10.17,  7.78, 10.79, 10.61, 10.87,  7.43,
     8.44,  9.44,  8.26,  7.98, 11.27, 11.61,  9.84, 12.47,  7.8 ,
    10.54,  8.99,  7.33,  8.55,  8.06, 10.62, 10.41,  9.29,  9.98,
     9.46,  9.99,  8.62, 11.34, 11.21, 15.19, 20.85, 19.15, 19.01,
    15.24, 16.66, 17.62, 18.22, 17.2 , 15.76, 16.89, 15.22, 18.7 ,
    14.84, 14.88, 19.41, 18.54, 17.85, 18.31, 13.68, 18.46, 13.99,
    16.38, 16.88, 17.82, 15.17, 15.16, 18.15, 15.08, 15.91, 16.82,
    16.85, 18.04, 17.51, 18.44, 15.33, 16.07, 17.22, 15.9 , 18.03,
    17.26, 17.6 , 16.77, 17.45, 13.73, 14.95, 15.57, 19.19, 14.39,
    15.76]) 
state = RandomState(12345)
values = []
medians = []
for i in range(10000):
    subsample = data.sample(frac = 1,replace = True, random_state = state)
    values.append(subsample.quantile(0.99))
    medians.append(subsample.median())
    

values = pd.Series(values)
interval = st.t.interval(0.9, len(values)-1, values.mean(), values.sem())
lower = interval[0]
upper = interval[1]
print(upper)
print(lower)


medians = pd.Series(medians)
sns.histplot(medians)


samples_A = pd.Series([
     98.24,  97.77,  95.56,  99.49, 101.4 , 105.35,  95.83,  93.02,
    101.37,  95.66,  98.34, 100.75, 104.93,  97.  ,  95.46, 100.03,
    102.34,  98.23,  97.05,  97.76,  98.63,  98.82,  99.51,  99.31,
     98.58,  96.84,  93.71, 101.38, 100.6 , 103.68, 104.78, 101.51,
    100.89, 102.27,  99.87,  94.83,  95.95, 105.2 ,  97.,  95.54,
     98.38,  99.81, 103.34, 101.14, 102.19,  94.77,  94.74,  99.56,
    102.  , 100.95, 102.19, 103.75, 103.65,  95.07, 103.53, 100.42,
     98.09,  94.86, 101.47, 103.07, 100.15, 100.32, 100.89, 101.23,
     95.95, 103.69, 100.09,  96.28,  96.11,  97.63,  99.45, 100.81,
    102.18,  94.92,  98.89, 101.48, 101.29,  94.43, 101.55,  95.85,
    100.16,  97.49, 105.17, 104.83, 101.9 , 100.56, 104.91,  94.17,
    103.48, 100.55, 102.66, 100.62,  96.93, 102.67, 101.27,  98.56,
    102.41, 100.69,  99.67, 100.99])


samples_B = pd.Series([
    101.67, 102.27,  97.01, 103.46, 100.76, 101.19,  99.11,  97.59,
    101.01, 101.45,  94.8 , 101.55,  96.38,  99.03, 102.83,  97.32,
     98.25,  97.17, 101.1 , 102.57, 104.59, 105.63,  98.93, 103.87,
     98.48, 101.14, 102.24,  98.55, 105.61, 100.06,  99.  , 102.53,
    101.56, 102.68, 103.26,  96.62,  99.48, 107.6 ,  99.87, 103.58,
    105.05, 105.69,  94.52,  99.51,  99.81,  99.44,  97.35, 102.97,
     99.77,  99.59, 102.12, 104.29,  98.31,  98.83,  96.83,  99.2 ,
     97.88, 102.34, 102.04,  99.88,  99.69, 103.43, 100.71,  92.71,
     99.99,  99.39,  99.19,  99.29, 100.34, 101.08, 100.29,  93.83,
    103.63,  98.88, 105.36, 101.82, 100.86, 100.75,  99.4 ,  95.37,
    107.96,  97.69, 102.17,  99.41,  98.97,  97.96,  98.31,  97.09,
    103.92, 100.98, 102.76,  98.24,  97.  ,  98.99, 103.54,  99.72,
    101.62, 100.62, 102.79, 104.19])


AB_diff = samples_B.mean() - samples_A.mean()
print("Разность средних чеков:", AB_diff)
alpha = 0.05
count = 0 
bootstrap_samples = 1000
for i in range(bootstrap_samples):
    united_samples = pd.concat([samples_A, samples_B])
    subsample = united_samples.sample(frac = 1, replace = True, random_state =state)
    subsample_A = subsample[:len(samples_A)]
    subsample_B = subsample[len(samples_A):]
    bootstrap_diff = subsample_B.mean() - subsample_A.mean()
    if bootstrap_diff >= AB_diff:
        count += 1

p_value = 1. * count / bootstrap_samples
print(f"p_value = {p_value}")
print("p_value=", p_value)
if p_value >= alpha:
    print("Не получилось отвергнуть нулевую гипотезу: скорее всего, средний чек не увеличился")
print("Отвергаем нулевую гипотезу: скорее всего, средний чек увеличился")





target = pd.read_csv("C:/Users/tagil/yand_prac/7past/eng_target.csv")['0']
probabilities = pd.read_csv("C:/Users/tagil/yand_prac/7past/eng_probabilites.csv")['0']


target


target


probabilities


# Эта функция ищет с большей вероятности посетителей, и высчитывает вырочку
target = pd.read_csv("C:/Users/tagil/yand_prac/7past/eng_target.csv")['0']
probabilities = pd.read_csv("C:/Users/tagil/yand_prac/7past/eng_probabilites.csv")['0']
def revenue(target, probabilities, count):
   probs_sorted = probabilities.sort_values(ascending = False)
   selected = target[probs_sorted.index][:count]
   return 1000 * selected.sum()
values = [] 
botstrap_samples = 1000 
for i in range(botstrap_samples):
    target_subsample = target.sample(frac = 1, replace = True, random_state = state)
    probs_subsample = probabilities.loc[target_subsample.index]
    current_revenue = revenue(target_subsample, probs_subsample, 12)
    values.append(current_revenue)

values = pd.Series(values)
mean = values.mean()
lower = values.quantile(0.01)
print(mean)
print(lower)


target = pd.Series([1,   1,   0,   0,  1,    0])
probab = pd.Series([0.2, 0.9, 0.8, 0.3, 0.5, 0.1])
res = revenue(target, probab, 3)
print(res)


probab_sort


import pandas as pd
import numpy as np

# открываем файлы
target = pd.read_csv("C:/Users/tagil/yand_prac/7past/eng_target.csv")['0']
probabilities = pd.read_csv("C:/Users/tagil/yand_prac/7past/eng_probabilites.csv")['0']

def revenue(target, probabilities, count):
    probs_sorted = probabilities.sort_values(ascending=False)
    selected = target[probs_sorted.index][:count]
    return 1000 * selected.sum()

state = np.random.RandomState(12345)
    
values = []
for i in range(1000):
    # Формируем бутстреп-выборку с возвращением
    target_subsample = target.sample(n=25, replace=True, random_state=state)
    # Извлекаем соответствующие вероятности по тем же индексам
    probs_subsample = probabilities.loc[target_subsample.index]
    
    # Вычисляем выручку для текущей выборки
    # (предполагается, что count определен где-то выше в коде)
    current_revenue = revenue(target_subsample, probs_subsample, 10)
    values.append(current_revenue)

values = pd.Series(values)
# Вычисляем 1%-квантиль (0.01-квантиль)
lower = values.quantile(0.01)

mean = values.mean()
print("Средняя выручка:", mean)
print("1%-квантиль:", lower)















