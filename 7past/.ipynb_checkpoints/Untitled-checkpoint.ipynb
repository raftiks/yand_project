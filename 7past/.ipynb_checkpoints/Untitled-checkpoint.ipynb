{
 "cells": [
  {
   "cell_type": "code",
   "execution_count": 103,
   "id": "c7bbe190-74fb-4108-97e8-3127cb4f5c74",
   "metadata": {},
   "outputs": [],
   "source": [
    "from scipy import stats as st\n",
    "import pandas as pd\n",
    "import seaborn as sns"
   ]
  },
  {
   "cell_type": "code",
   "execution_count": 54,
   "id": "5734c4d9-e037-4b78-930c-998cdc72c7b7",
   "metadata": {},
   "outputs": [
    {
     "name": "stdout",
     "output_type": "stream",
     "text": [
      "Среднее до: 396.9714285714286\n",
      "Среднее после: 470.5285714285714\n",
      "p-значение:  3.090979110409132e-29\n",
      "Отвергаем нулевую гипотезу: скорее всего средний чек увеличился\n"
     ]
    }
   ],
   "source": [
    "from scipy import stats as st\n",
    "import pandas as pd\n",
    "\n",
    "sample_before = pd.Series([\n",
    "    436, 397, 433, 412, 367, 353, 440, 375, 414, \n",
    "    410, 434, 356, 377, 403, 434, 377, 437, 383,\n",
    "    388, 412, 350, 392, 354, 362, 392, 441, 371, \n",
    "    350, 364, 449, 413, 401, 382, 445, 366, 435,\n",
    "    442, 413, 386, 390, 350, 364, 418, 369, 369, \n",
    "    368, 429, 388, 397, 393, 373, 438, 385, 365,\n",
    "    447, 408, 379, 411, 358, 368, 442, 366, 431,\n",
    "    400, 449, 422, 423, 427, 361, 354])\n",
    "\n",
    "sample_after = pd.Series([\n",
    "    439, 518, 452, 505, 493, 470, 498, 442, 497, \n",
    "    423, 524, 442, 459, 452, 463, 488, 497, 500,\n",
    "    476, 501, 456, 425, 438, 435, 516, 453, 505, \n",
    "    441, 477, 469, 497, 502, 442, 449, 465, 429,\n",
    "    442, 472, 466, 431, 490, 475, 447, 435, 482, \n",
    "    434, 525, 510, 494, 493, 495, 499, 455, 464,\n",
    "    509, 432, 476, 438, 512, 423, 428, 499, 492, \n",
    "    493, 467, 493, 468, 420, 513, 427])\n",
    "\n",
    "print(\"Среднее до:\", sample_before.mean())\n",
    "print(\"Среднее после:\", sample_after.mean())\n",
    "\n",
    "alpha = 0.05\n",
    "\n",
    "# Двусторонний тест и корректировка p-value для одностороннего теста\n",
    "pvalue = st.ttest_ind(sample_after, sample_before).pvalue / 2\n",
    "\n",
    "print('p-значение: ', pvalue)\n",
    "\n",
    "if pvalue < alpha:\n",
    "    print(\"Отвергаем нулевую гипотезу: скорее всего средний чек увеличился\")\n",
    "else:\n",
    "    print(\"Не получилось отвергнуть нулевую гипотезу: скорее всего средний чек не увеличился\")"
   ]
  },
  {
   "cell_type": "markdown",
   "id": "7780cdf8-9d82-4402-bd82-33c726c8db71",
   "metadata": {},
   "source": [
    "# Доверительный интервал \n"
   ]
  },
  {
   "cell_type": "code",
   "execution_count": 71,
   "id": "1cea346e-de31-4172-b67e-4b1e80dcf3b7",
   "metadata": {},
   "outputs": [
    {
     "name": "stdout",
     "output_type": "stream",
     "text": [
      "среднее: 470.5285714285714\n",
      "95%-ый доверительный интервал: (463.3577536499037, 477.6993892072391)\n"
     ]
    }
   ],
   "source": [
    "sample = pd.Series([\n",
    "    439, 518, 452, 505, 493, 470, 498, 442, 497, \n",
    "    423, 524, 442, 459, 452, 463, 488, 497, 500,\n",
    "    476, 501, 456, 425, 438, 435, 516, 453, 505, \n",
    "    441, 477, 469, 497, 502, 442, 449, 465, 429,\n",
    "    442, 472, 466, 431, 490, 475, 447, 435, 482, \n",
    "    434, 525, 510, 494, 493, 495, 499, 455, 464,\n",
    "    509, 432, 476, 438, 512, 423, 428, 499, 492,\n",
    "    493, 467, 493, 468, 420, 513, 427])\n",
    "\n",
    "size = sample.shape\n",
    "\n",
    "print(f\"среднее: {sample.mean()}\")\n",
    "    \n",
    "interval = st.t.interval(0.95,len(sample) - 1, sample.mean(), sample.sem())\n",
    "print(\"95%-ый доверительный интервал:\", (float(interval[0]), float(interval[1])))"
   ]
  },
  {
   "cell_type": "code",
   "execution_count": 62,
   "id": "48c43015-4376-4ef1-9e4e-bb67463b9bfe",
   "metadata": {
    "scrolled": true
   },
   "outputs": [
    {
     "data": {
      "text/plain": [
       "(70,)"
      ]
     },
     "execution_count": 62,
     "metadata": {},
     "output_type": "execute_result"
    }
   ],
   "source": [
    "sample.shape"
   ]
  },
  {
   "cell_type": "markdown",
   "id": "8b3d0191-d34e-4114-a8be-a65053d8f835",
   "metadata": {},
   "source": [
    "# Bootstrap\n"
   ]
  },
  {
   "cell_type": "markdown",
   "id": "665328f0-8f5e-42d7-8f8c-eb73bbc3a7b0",
   "metadata": {},
   "source": [
    "Вычислить сложные величины, не прибегая к формулам, поможет техника Bootstrap (англ. «самовытягивание»). Разберём, как она работает.\n",
    "Чтобы получить нужную величину, например, среднее, из исходного набора данных формируют подвыборки (псевдовыборки). На каждой из них и вычисляют среднее. Теоретически формировать подвыборки и рассчитывать по ним нужную величину можно многократно. Так мы получим несколько значений интересующего показателя и оценим распределение."
   ]
  },
  {
   "cell_type": "code",
   "execution_count": 79,
   "id": "cb5d44f9-75d0-45b2-81e5-a78a34e69128",
   "metadata": {},
   "outputs": [
    {
     "name": "stdout",
     "output_type": "stream",
     "text": [
      "98    14.39\n",
      "dtype: float64\n",
      "29    8.26\n",
      "dtype: float64\n",
      "1    9.58\n",
      "dtype: float64\n",
      "36    10.54\n",
      "dtype: float64\n",
      "41    10.62\n",
      "dtype: float64\n"
     ]
    }
   ],
   "source": [
    "from numpy.random import RandomState\n",
    "data = pd.Series([\n",
    "    10.7 ,  9.58,  7.74,  8.3 , 11.82,  9.74, 10.18,  8.43,  8.71,\n",
    "     6.84,  9.26, 11.61, 11.08,  8.94,  8.44, 10.41,  9.36, 10.85,\n",
    "    10.41,  8.37,  8.99, 10.17,  7.78, 10.79, 10.61, 10.87,  7.43,\n",
    "     8.44,  9.44,  8.26,  7.98, 11.27, 11.61,  9.84, 12.47,  7.8 ,\n",
    "    10.54,  8.99,  7.33,  8.55,  8.06, 10.62, 10.41,  9.29,  9.98,\n",
    "     9.46,  9.99,  8.62, 11.34, 11.21, 15.19, 20.85, 19.15, 19.01,\n",
    "    15.24, 16.66, 17.62, 18.22, 17.2 , 15.76, 16.89, 15.22, 18.7 ,\n",
    "    14.84, 14.88, 19.41, 18.54, 17.85, 18.31, 13.68, 18.46, 13.99,\n",
    "    16.38, 16.88, 17.82, 15.17, 15.16, 18.15, 15.08, 15.91, 16.82,\n",
    "    16.85, 18.04, 17.51, 18.44, 15.33, 16.07, 17.22, 15.9 , 18.03,\n",
    "    17.26, 17.6 , 16.77, 17.45, 13.73, 14.95, 15.57, 19.19, 14.39,\n",
    "    15.76]) \n",
    "state = RandomState(12345)\n",
    "for i in range(5):\n",
    "    print(data.sample(1,random_state = state, replace = True))"
   ]
  },
  {
   "cell_type": "code",
   "execution_count": 80,
   "id": "753b54fd-e186-42c3-8948-64c76c4e47b2",
   "metadata": {},
   "outputs": [
    {
     "name": "stdout",
     "output_type": "stream",
     "text": [
      "Без возвращения\n",
      "4    5\n",
      "0    1\n",
      "3    4\n",
      "1    2\n",
      "2    3\n",
      "dtype: int64\n",
      "C возвращения\n",
      "1    2\n",
      "3    4\n",
      "1    2\n",
      "3    4\n",
      "0    1\n",
      "dtype: int64\n"
     ]
    }
   ],
   "source": [
    "example_data = pd.Series([1, 2, 3, 4, 5])\n",
    "print(\"Без возвращения\")\n",
    "print(example_data.sample(frac=1, replace=False, random_state=state))\n",
    "print(\"C возвращения\")\n",
    "print(example_data.sample(frac=1, replace=True, random_state=state))"
   ]
  },
  {
   "cell_type": "code",
   "execution_count": 90,
   "id": "f58ab270-796e-4617-9585-058ebda489c9",
   "metadata": {},
   "outputs": [
    {
     "name": "stdout",
     "output_type": "stream",
     "text": [
      "19.192200000000003\n",
      "20.85\n",
      "19.20660000000001\n",
      "19.028400000000012\n",
      "19.42440000000001\n",
      "19.42440000000001\n",
      "20.85\n",
      "19.42440000000001\n",
      "19.42440000000001\n",
      "19.19\n"
     ]
    }
   ],
   "source": [
    "from numpy.random import RandomState\n",
    "data = pd.Series([\n",
    "    10.7 ,  9.58,  7.74,  8.3 , 11.82,  9.74, 10.18,  8.43,  8.71,\n",
    "     6.84,  9.26, 11.61, 11.08,  8.94,  8.44, 10.41,  9.36, 10.85,\n",
    "    10.41,  8.37,  8.99, 10.17,  7.78, 10.79, 10.61, 10.87,  7.43,\n",
    "     8.44,  9.44,  8.26,  7.98, 11.27, 11.61,  9.84, 12.47,  7.8 ,\n",
    "    10.54,  8.99,  7.33,  8.55,  8.06, 10.62, 10.41,  9.29,  9.98,\n",
    "     9.46,  9.99,  8.62, 11.34, 11.21, 15.19, 20.85, 19.15, 19.01,\n",
    "    15.24, 16.66, 17.62, 18.22, 17.2 , 15.76, 16.89, 15.22, 18.7 ,\n",
    "    14.84, 14.88, 19.41, 18.54, 17.85, 18.31, 13.68, 18.46, 13.99,\n",
    "    16.38, 16.88, 17.82, 15.17, 15.16, 18.15, 15.08, 15.91, 16.82,\n",
    "    16.85, 18.04, 17.51, 18.44, 15.33, 16.07, 17.22, 15.9 , 18.03,\n",
    "    17.26, 17.6 , 16.77, 17.45, 13.73, 14.95, 15.57, 19.19, 14.39,\n",
    "    15.76]) \n",
    "state = RandomState(12345)\n",
    "for i in range(10):\n",
    "    subsample = data.sample(frac = 1,random_state = state, replace = True)\n",
    "    print(subsample.quantile(0.99))"
   ]
  },
  {
   "cell_type": "code",
   "execution_count": 106,
   "id": "bfd40ad0-b93c-459b-8381-fc1a1596f6cd",
   "metadata": {},
   "outputs": [
    {
     "name": "stdout",
     "output_type": "stream",
     "text": [
      "19.681095589020597\n",
      "19.65728905097942\n"
     ]
    }
   ],
   "source": [
    "from numpy.random import RandomState\n",
    "data = pd.Series([\n",
    "    10.7 ,  9.58,  7.74,  8.3 , 11.82,  9.74, 10.18,  8.43,  8.71,\n",
    "     6.84,  9.26, 11.61, 11.08,  8.94,  8.44, 10.41,  9.36, 10.85,\n",
    "    10.41,  8.37,  8.99, 10.17,  7.78, 10.79, 10.61, 10.87,  7.43,\n",
    "     8.44,  9.44,  8.26,  7.98, 11.27, 11.61,  9.84, 12.47,  7.8 ,\n",
    "    10.54,  8.99,  7.33,  8.55,  8.06, 10.62, 10.41,  9.29,  9.98,\n",
    "     9.46,  9.99,  8.62, 11.34, 11.21, 15.19, 20.85, 19.15, 19.01,\n",
    "    15.24, 16.66, 17.62, 18.22, 17.2 , 15.76, 16.89, 15.22, 18.7 ,\n",
    "    14.84, 14.88, 19.41, 18.54, 17.85, 18.31, 13.68, 18.46, 13.99,\n",
    "    16.38, 16.88, 17.82, 15.17, 15.16, 18.15, 15.08, 15.91, 16.82,\n",
    "    16.85, 18.04, 17.51, 18.44, 15.33, 16.07, 17.22, 15.9 , 18.03,\n",
    "    17.26, 17.6 , 16.77, 17.45, 13.73, 14.95, 15.57, 19.19, 14.39,\n",
    "    15.76]) \n",
    "state = RandomState(12345)\n",
    "values = []\n",
    "medians = []\n",
    "for i in range(10000):\n",
    "    subsample = data.sample(frac = 1,replace = True, random_state = state)\n",
    "    values.append(subsample.quantile(0.99))\n",
    "    medians.append(subsample.median())\n",
    "    \n",
    "\n",
    "values = pd.Series(values)\n",
    "interval = st.t.interval(0.9, len(values)-1, values.mean(), values.sem())\n",
    "lower = interval[0]\n",
    "upper = interval[1]\n",
    "print(upper)\n",
    "print(lower)"
   ]
  },
  {
   "cell_type": "code",
   "execution_count": 107,
   "id": "db244874-ecbe-4754-9310-791d70371e26",
   "metadata": {},
   "outputs": [
    {
     "data": {
      "text/plain": [
       "<Axes: ylabel='Count'>"
      ]
     },
     "execution_count": 107,
     "metadata": {},
     "output_type": "execute_result"
    },
    {
     "data": {
      "image/png": "[encoded data removed]",
      "text/plain": [
       "<Figure size 640x480 with 1 Axes>"
      ]
     },
     "metadata": {},
     "output_type": "display_data"
    }
   ],
   "source": [
    "medians = pd.Series(medians)\n",
    "sns.histplot(medians)"
   ]
  },
  {
   "cell_type": "code",
   "execution_count": 108,
   "id": "29536897-f71d-44b0-a6c1-b5c69321b72e",
   "metadata": {},
   "outputs": [],
   "source": [
    "samples_A = pd.Series([\n",
    "     98.24,  97.77,  95.56,  99.49, 101.4 , 105.35,  95.83,  93.02,\n",
    "    101.37,  95.66,  98.34, 100.75, 104.93,  97.  ,  95.46, 100.03,\n",
    "    102.34,  98.23,  97.05,  97.76,  98.63,  98.82,  99.51,  99.31,\n",
    "     98.58,  96.84,  93.71, 101.38, 100.6 , 103.68, 104.78, 101.51,\n",
    "    100.89, 102.27,  99.87,  94.83,  95.95, 105.2 ,  97.,  95.54,\n",
    "     98.38,  99.81, 103.34, 101.14, 102.19,  94.77,  94.74,  99.56,\n",
    "    102.  , 100.95, 102.19, 103.75, 103.65,  95.07, 103.53, 100.42,\n",
    "     98.09,  94.86, 101.47, 103.07, 100.15, 100.32, 100.89, 101.23,\n",
    "     95.95, 103.69, 100.09,  96.28,  96.11,  97.63,  99.45, 100.81,\n",
    "    102.18,  94.92,  98.89, 101.48, 101.29,  94.43, 101.55,  95.85,\n",
    "    100.16,  97.49, 105.17, 104.83, 101.9 , 100.56, 104.91,  94.17,\n",
    "    103.48, 100.55, 102.66, 100.62,  96.93, 102.67, 101.27,  98.56,\n",
    "    102.41, 100.69,  99.67, 100.99])"
   ]
  },
  {
   "cell_type": "code",
   "execution_count": 110,
   "id": "a9b0c582-7cf5-479b-ba35-e78cac5a233a",
   "metadata": {},
   "outputs": [],
   "source": [
    "samples_B = pd.Series([\n",
    "    101.67, 102.27,  97.01, 103.46, 100.76, 101.19,  99.11,  97.59,\n",
    "    101.01, 101.45,  94.8 , 101.55,  96.38,  99.03, 102.83,  97.32,\n",
    "     98.25,  97.17, 101.1 , 102.57, 104.59, 105.63,  98.93, 103.87,\n",
    "     98.48, 101.14, 102.24,  98.55, 105.61, 100.06,  99.  , 102.53,\n",
    "    101.56, 102.68, 103.26,  96.62,  99.48, 107.6 ,  99.87, 103.58,\n",
    "    105.05, 105.69,  94.52,  99.51,  99.81,  99.44,  97.35, 102.97,\n",
    "     99.77,  99.59, 102.12, 104.29,  98.31,  98.83,  96.83,  99.2 ,\n",
    "     97.88, 102.34, 102.04,  99.88,  99.69, 103.43, 100.71,  92.71,\n",
    "     99.99,  99.39,  99.19,  99.29, 100.34, 101.08, 100.29,  93.83,\n",
    "    103.63,  98.88, 105.36, 101.82, 100.86, 100.75,  99.4 ,  95.37,\n",
    "    107.96,  97.69, 102.17,  99.41,  98.97,  97.96,  98.31,  97.09,\n",
    "    103.92, 100.98, 102.76,  98.24,  97.  ,  98.99, 103.54,  99.72,\n",
    "    101.62, 100.62, 102.79, 104.19])"
   ]
  },
  {
   "cell_type": "code",
   "execution_count": 142,
   "id": "ff1ad8c1-5070-47c2-9e80-031b4eebf4c6",
   "metadata": {},
   "outputs": [
    {
     "name": "stdout",
     "output_type": "stream",
     "text": [
      "Разность средних чеков: 0.7682000000000357\n",
      "p_value = 0.036\n",
      "p_value= 0.036\n",
      "Отвергаем нулевую гипотезу: скорее всего, средний чек увеличился\n"
     ]
    }
   ],
   "source": [
    "AB_diff = samples_B.mean() - samples_A.mean()\n",
    "print(\"Разность средних чеков:\", AB_diff)\n",
    "alpha = 0.05\n",
    "count = 0 \n",
    "bootstrap_samples = 1000\n",
    "for i in range(bootstrap_samples):\n",
    "    united_samples = pd.concat([samples_A, samples_B])\n",
    "    subsample = united_samples.sample(frac = 1, replace = True, random_state =state)\n",
    "    subsample_A = subsample[:len(samples_A)]\n",
    "    subsample_B = subsample[len(samples_A):]\n",
    "    bootstrap_diff = subsample_B.mean() - subsample_A.mean()\n",
    "    if bootstrap_diff >= AB_diff:\n",
    "        count += 1\n",
    "\n",
    "p_value = 1. * count / bootstrap_samples\n",
    "print(f\"p_value = {p_value}\")\n",
    "print(\"p_value=\", p_value)\n",
    "if p_value >= alpha:\n",
    "    print(\"Не получилось отвергнуть нулевую гипотезу: скорее всего, средний чек не увеличился\")\n",
    "print(\"Отвергаем нулевую гипотезу: скорее всего, средний чек увеличился\")"
   ]
  },
  {
   "cell_type": "markdown",
   "id": "1025b353-f62b-41da-8b4e-e1c92a0434f5",
   "metadata": {},
   "source": [
    "# Работа с моделями "
   ]
  },
  {
   "cell_type": "code",
   "execution_count": 179,
   "id": "718dec46-3fc7-4c87-9e23-a2eef7916e5c",
   "metadata": {},
   "outputs": [],
   "source": [
    "target = pd.read_csv(\"C:/Users/tagil/yand_prac/7past/eng_target.csv\")['0']\n",
    "probabilities = pd.read_csv(\"C:/Users/tagil/yand_prac/7past/eng_probabilites.csv\")['0']"
   ]
  },
  {
   "cell_type": "code",
   "execution_count": 180,
   "id": "486fb876-a4a0-4b42-af10-cb7e72bc9ba3",
   "metadata": {},
   "outputs": [
    {
     "data": {
      "text/plain": [
       "0       0\n",
       "1       1\n",
       "2       1\n",
       "3       1\n",
       "4       0\n",
       "       ..\n",
       "1995    1\n",
       "1996    1\n",
       "1997    1\n",
       "1998    0\n",
       "1999    1\n",
       "Name: 0, Length: 2000, dtype: int64"
      ]
     },
     "execution_count": 180,
     "metadata": {},
     "output_type": "execute_result"
    }
   ],
   "source": [
    "target"
   ]
  },
  {
   "cell_type": "code",
   "execution_count": 181,
   "id": "88f3a104-c0cc-42c9-9301-b4c48dddee16",
   "metadata": {},
   "outputs": [
    {
     "data": {
      "text/plain": [
       "0       0\n",
       "1       1\n",
       "2       1\n",
       "3       1\n",
       "4       0\n",
       "       ..\n",
       "1995    1\n",
       "1996    1\n",
       "1997    1\n",
       "1998    0\n",
       "1999    1\n",
       "Name: 0, Length: 2000, dtype: int64"
      ]
     },
     "execution_count": 181,
     "metadata": {},
     "output_type": "execute_result"
    }
   ],
   "source": [
    "target"
   ]
  },
  {
   "cell_type": "code",
   "execution_count": 146,
   "id": "8375b712-213d-4540-a173-2db383f3565f",
   "metadata": {},
   "outputs": [
    {
     "data": {
      "text/html": [
       "<div>\n",
       "<style scoped>\n",
       "    .dataframe tbody tr th:only-of-type {\n",
       "        vertical-align: middle;\n",
       "    }\n",
       "\n",
       "    .dataframe tbody tr th {\n",
       "        vertical-align: top;\n",
       "    }\n",
       "\n",
       "    .dataframe thead th {\n",
       "        text-align: right;\n",
       "    }\n",
       "</style>\n",
       "<table border=\"1\" class=\"dataframe\">\n",
       "  <thead>\n",
       "    <tr style=\"text-align: right;\">\n",
       "      <th></th>\n",
       "      <th>0</th>\n",
       "    </tr>\n",
       "  </thead>\n",
       "  <tbody>\n",
       "    <tr>\n",
       "      <th>0</th>\n",
       "      <td>0.463149</td>\n",
       "    </tr>\n",
       "    <tr>\n",
       "      <th>1</th>\n",
       "      <td>0.593570</td>\n",
       "    </tr>\n",
       "    <tr>\n",
       "      <th>2</th>\n",
       "      <td>0.625652</td>\n",
       "    </tr>\n",
       "    <tr>\n",
       "      <th>3</th>\n",
       "      <td>0.078355</td>\n",
       "    </tr>\n",
       "    <tr>\n",
       "      <th>4</th>\n",
       "      <td>0.111616</td>\n",
       "    </tr>\n",
       "    <tr>\n",
       "      <th>...</th>\n",
       "      <td>...</td>\n",
       "    </tr>\n",
       "    <tr>\n",
       "      <th>1995</th>\n",
       "      <td>0.790908</td>\n",
       "    </tr>\n",
       "    <tr>\n",
       "      <th>1996</th>\n",
       "      <td>0.921637</td>\n",
       "    </tr>\n",
       "    <tr>\n",
       "      <th>1997</th>\n",
       "      <td>0.908005</td>\n",
       "    </tr>\n",
       "    <tr>\n",
       "      <th>1998</th>\n",
       "      <td>0.369378</td>\n",
       "    </tr>\n",
       "    <tr>\n",
       "      <th>1999</th>\n",
       "      <td>0.651391</td>\n",
       "    </tr>\n",
       "  </tbody>\n",
       "</table>\n",
       "<p>2000 rows × 1 columns</p>\n",
       "</div>"
      ],
      "text/plain": [
       "             0\n",
       "0     0.463149\n",
       "1     0.593570\n",
       "2     0.625652\n",
       "3     0.078355\n",
       "4     0.111616\n",
       "...        ...\n",
       "1995  0.790908\n",
       "1996  0.921637\n",
       "1997  0.908005\n",
       "1998  0.369378\n",
       "1999  0.651391\n",
       "\n",
       "[2000 rows x 1 columns]"
      ]
     },
     "execution_count": 146,
     "metadata": {},
     "output_type": "execute_result"
    }
   ],
   "source": [
    "probabilities"
   ]
  },
  {
   "cell_type": "code",
   "execution_count": 209,
   "id": "e243f690-0b3f-494d-941d-3b569e395607",
   "metadata": {},
   "outputs": [
    {
     "name": "stdout",
     "output_type": "stream",
     "text": [
      "9431.0\n",
      "0.0\n"
     ]
    }
   ],
   "source": [
    "# Эта функция ищет с большей вероятности посетителей, и высчитывает вырочку\n",
    "target = pd.read_csv(\"C:/Users/tagil/yand_prac/7past/eng_target.csv\")['0']\n",
    "probabilities = pd.read_csv(\"C:/Users/tagil/yand_prac/7past/eng_probabilites.csv\")['0']\n",
    "def revenue(target, probabilities, count):\n",
    "   probs_sorted = probabilities.sort_values(ascending = False)\n",
    "   selected = target[probs_sorted.index][:count]\n",
    "   return 1000 * selected.sum()\n",
    "values = [] \n",
    "botstrap_samples = 1000 \n",
    "for i in range(botstrap_samples):\n",
    "    target_subsample = target.sample(frac = 1, replace = True, random_state = state)\n",
    "    probs_subsample = probabilities.loc[target_subsample.index]\n",
    "    current_revenue = revenue(target_subsample, probs_subsample, 12)\n",
    "    values.append(current_revenue)\n",
    "\n",
    "values = pd.Series(values)\n",
    "mean = values.mean()\n",
    "lower = values.quantile(0.01)\n",
    "print(mean)\n",
    "print(lower)"
   ]
  },
  {
   "cell_type": "code",
   "execution_count": 178,
   "id": "81c36bc3-cb50-490f-822a-34f9d00f5d83",
   "metadata": {},
   "outputs": [
    {
     "name": "stdout",
     "output_type": "stream",
     "text": [
      "3000\n"
     ]
    }
   ],
   "source": [
    "target = pd.Series([1,   1,   0,   0,  1,    0])\n",
    "probab = pd.Series([0.2, 0.9, 0.8, 0.3, 0.5, 0.1])\n",
    "res = revenue(target, probab, 3)\n",
    "print(res)"
   ]
  },
  {
   "cell_type": "code",
   "execution_count": 169,
   "id": "023b9dbf-0fce-41ec-8c27-341d60d98a18",
   "metadata": {},
   "outputs": [
    {
     "data": {
      "text/plain": [
       "1    0.9\n",
       "2    0.8\n",
       "4    0.5\n",
       "3    0.3\n",
       "0    0.2\n",
       "5    0.1\n",
       "dtype: float64"
      ]
     },
     "execution_count": 169,
     "metadata": {},
     "output_type": "execute_result"
    }
   ],
   "source": [
    "probab_sort"
   ]
  },
  {
   "cell_type": "code",
   "execution_count": 211,
   "id": "311553a5-2e33-4b24-9f8b-35cf052d7e2a",
   "metadata": {},
   "outputs": [
    {
     "name": "stdout",
     "output_type": "stream",
     "text": [
      "Средняя выручка: 9167.0\n",
      "1%-квантиль: 6000.0\n"
     ]
    }
   ],
   "source": [
    "import pandas as pd\n",
    "import numpy as np\n",
    "\n",
    "# открываем файлы\n",
    "target = pd.read_csv(\"C:/Users/tagil/yand_prac/7past/eng_target.csv\")['0']\n",
    "probabilities = pd.read_csv(\"C:/Users/tagil/yand_prac/7past/eng_probabilites.csv\")['0']\n",
    "\n",
    "def revenue(target, probabilities, count):\n",
    "    probs_sorted = probabilities.sort_values(ascending=False)\n",
    "    selected = target[probs_sorted.index][:count]\n",
    "    return 1000 * selected.sum()\n",
    "\n",
    "state = np.random.RandomState(12345)\n",
    "    \n",
    "values = []\n",
    "for i in range(1000):\n",
    "    # Формируем бутстреп-выборку с возвращением\n",
    "    target_subsample = target.sample(n=25, replace=True, random_state=state)\n",
    "    # Извлекаем соответствующие вероятности по тем же индексам\n",
    "    probs_subsample = probabilities.loc[target_subsample.index]\n",
    "    \n",
    "    # Вычисляем выручку для текущей выборки\n",
    "    # (предполагается, что count определен где-то выше в коде)\n",
    "    current_revenue = revenue(target_subsample, probs_subsample, 10)\n",
    "    values.append(current_revenue)\n",
    "\n",
    "values = pd.Series(values)\n",
    "# Вычисляем 1%-квантиль (0.01-квантиль)\n",
    "lower = values.quantile(0.01)\n",
    "\n",
    "mean = values.mean()\n",
    "print(\"Средняя выручка:\", mean)\n",
    "print(\"1%-квантиль:\", lower)"
   ]
  },
  {
   "cell_type": "code",
   "execution_count": null,
   "id": "2fcec052-5126-48f7-99f6-b9aaa8c5731c",
   "metadata": {},
   "outputs": [],
   "source": []
  },
  {
   "cell_type": "code",
   "execution_count": null,
   "id": "ee80d7e8-d0c2-47b1-b7d7-ec364bb2badc",
   "metadata": {},
   "outputs": [],
   "source": []
  }
 ],
 "metadata": {
  "kernelspec": {
   "display_name": "Python 3 (ipykernel)",
   "language": "python",
   "name": "python3"
  },
  "language_info": {
   "codemirror_mode": {
    "name": "ipython",
    "version": 3
   },
   "file_extension": ".py",
   "mimetype": "text/x-python",
   "name": "python",
   "nbconvert_exporter": "python",
   "pygments_lexer": "ipython3",
   "version": "3.13.3"
  }
 },
 "nbformat": 4,
 "nbformat_minor": 5
}
