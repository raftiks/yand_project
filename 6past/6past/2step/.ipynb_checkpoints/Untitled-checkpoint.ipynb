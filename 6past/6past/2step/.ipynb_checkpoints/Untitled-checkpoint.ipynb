{
 "cells": [
  {
   "cell_type": "code",
   "execution_count": 21,
   "id": "20efc147",
   "metadata": {},
   "outputs": [],
   "source": [
    "import pandas as pd \n",
    "from sklearn.model_selection import train_test_split \n",
    "from sklearn.metrics import accuracy_score \n",
    "from sklearn.tree import DecisionTreeClassifier\n",
    "from sklearn.metrics import confusion_matrix\n",
    "from sklearn.metrics import recall_score\n",
    "from sklearn.metrics import precision_score\n",
    "from sklearn.metrics import f1_score"
   ]
  },
  {
   "cell_type": "code",
   "execution_count": 3,
   "id": "65f37c18",
   "metadata": {},
   "outputs": [],
   "source": [
    "df = pd.read_csv(\"travel_insurance_preprocessed.csv\")"
   ]
  },
  {
   "cell_type": "code",
   "execution_count": 4,
   "id": "e679f2ee",
   "metadata": {},
   "outputs": [
    {
     "data": {
      "text/html": [
       "<div>\n",
       "<style scoped>\n",
       "    .dataframe tbody tr th:only-of-type {\n",
       "        vertical-align: middle;\n",
       "    }\n",
       "\n",
       "    .dataframe tbody tr th {\n",
       "        vertical-align: top;\n",
       "    }\n",
       "\n",
       "    .dataframe thead th {\n",
       "        text-align: right;\n",
       "    }\n",
       "</style>\n",
       "<table border=\"1\" class=\"dataframe\">\n",
       "  <thead>\n",
       "    <tr style=\"text-align: right;\">\n",
       "      <th></th>\n",
       "      <th>Claim</th>\n",
       "      <th>Duration</th>\n",
       "      <th>Net Sales</th>\n",
       "      <th>Commision (in value)</th>\n",
       "      <th>Age</th>\n",
       "      <th>Agency_ART</th>\n",
       "      <th>Agency_C2B</th>\n",
       "      <th>Agency_CBH</th>\n",
       "      <th>Agency_CCR</th>\n",
       "      <th>Agency_CSR</th>\n",
       "      <th>Agency_CWT</th>\n",
       "      <th>Agency_EPX</th>\n",
       "      <th>Agency_JWT</th>\n",
       "      <th>Agency_JZI</th>\n",
       "      <th>Agency_KML</th>\n",
       "      <th>Agency_LWC</th>\n",
       "      <th>Agency_RAB</th>\n",
       "      <th>Agency_SSI</th>\n",
       "      <th>Agency_TST</th>\n",
       "      <th>Agency_TTW</th>\n",
       "      <th>Agency Type_Travel Agency</th>\n",
       "      <th>Distribution Channel_Online</th>\n",
       "      <th>Product Name_2 way Comprehensive Plan</th>\n",
       "      <th>Product Name_24 Protect</th>\n",
       "      <th>Product Name_Annual Gold Plan</th>\n",
       "      <th>Product Name_Annual Silver Plan</th>\n",
       "      <th>Product Name_Annual Travel Protect Gold</th>\n",
       "      <th>Product Name_Annual Travel Protect Platinum</th>\n",
       "      <th>Product Name_Annual Travel Protect Silver</th>\n",
       "      <th>Product Name_Basic Plan</th>\n",
       "      <th>Product Name_Bronze Plan</th>\n",
       "      <th>Product Name_Cancellation Plan</th>\n",
       "      <th>Product Name_Child Comprehensive Plan</th>\n",
       "      <th>Product Name_Comprehensive Plan</th>\n",
       "      <th>Product Name_Gold Plan</th>\n",
       "      <th>Product Name_Individual Comprehensive Plan</th>\n",
       "      <th>Product Name_Premier Plan</th>\n",
       "      <th>Product Name_Rental Vehicle Excess Insurance</th>\n",
       "      <th>Product Name_Silver Plan</th>\n",
       "      <th>Product Name_Single Trip Travel Protect Gold</th>\n",
       "      <th>Product Name_Single Trip Travel Protect Platinum</th>\n",
       "      <th>Product Name_Single Trip Travel Protect Silver</th>\n",
       "      <th>Product Name_Spouse or Parents Comprehensive Plan</th>\n",
       "      <th>Product Name_Ticket Protector</th>\n",
       "      <th>Product Name_Travel Cruise Protect</th>\n",
       "      <th>Product Name_Travel Cruise Protect Family</th>\n",
       "      <th>Product Name_Value Plan</th>\n",
       "      <th>Destination_ANGOLA</th>\n",
       "      <th>Destination_ARGENTINA</th>\n",
       "      <th>Destination_ARMENIA</th>\n",
       "      <th>Destination_AUSTRALIA</th>\n",
       "      <th>Destination_AUSTRIA</th>\n",
       "      <th>Destination_AZERBAIJAN</th>\n",
       "      <th>Destination_BAHRAIN</th>\n",
       "      <th>Destination_BANGLADESH</th>\n",
       "      <th>Destination_BARBADOS</th>\n",
       "      <th>Destination_BELARUS</th>\n",
       "      <th>Destination_BELGIUM</th>\n",
       "      <th>Destination_BENIN</th>\n",
       "      <th>Destination_BERMUDA</th>\n",
       "      <th>...</th>\n",
       "      <th>Destination_NETHERLANDS</th>\n",
       "      <th>Destination_NEW CALEDONIA</th>\n",
       "      <th>Destination_NEW ZEALAND</th>\n",
       "      <th>Destination_NIGERIA</th>\n",
       "      <th>Destination_NORTHERN MARIANA ISLANDS</th>\n",
       "      <th>Destination_NORWAY</th>\n",
       "      <th>Destination_OMAN</th>\n",
       "      <th>Destination_PAKISTAN</th>\n",
       "      <th>Destination_PANAMA</th>\n",
       "      <th>Destination_PAPUA NEW GUINEA</th>\n",
       "      <th>Destination_PERU</th>\n",
       "      <th>Destination_PHILIPPINES</th>\n",
       "      <th>Destination_POLAND</th>\n",
       "      <th>Destination_PORTUGAL</th>\n",
       "      <th>Destination_PUERTO RICO</th>\n",
       "      <th>Destination_QATAR</th>\n",
       "      <th>Destination_REPUBLIC OF MONTENEGRO</th>\n",
       "      <th>Destination_REUNION</th>\n",
       "      <th>Destination_ROMANIA</th>\n",
       "      <th>Destination_RUSSIAN FEDERATION</th>\n",
       "      <th>Destination_RWANDA</th>\n",
       "      <th>Destination_SAMOA</th>\n",
       "      <th>Destination_SAUDI ARABIA</th>\n",
       "      <th>Destination_SENEGAL</th>\n",
       "      <th>Destination_SERBIA</th>\n",
       "      <th>Destination_SEYCHELLES</th>\n",
       "      <th>Destination_SIERRA LEONE</th>\n",
       "      <th>Destination_SINGAPORE</th>\n",
       "      <th>Destination_SLOVENIA</th>\n",
       "      <th>Destination_SOLOMON ISLANDS</th>\n",
       "      <th>Destination_SOUTH AFRICA</th>\n",
       "      <th>Destination_SPAIN</th>\n",
       "      <th>Destination_SRI LANKA</th>\n",
       "      <th>Destination_SWEDEN</th>\n",
       "      <th>Destination_SWITZERLAND</th>\n",
       "      <th>Destination_TAIWAN, PROVINCE OF CHINA</th>\n",
       "      <th>Destination_TAJIKISTAN</th>\n",
       "      <th>Destination_TANZANIA, UNITED REPUBLIC OF</th>\n",
       "      <th>Destination_THAILAND</th>\n",
       "      <th>Destination_TIBET</th>\n",
       "      <th>Destination_TRINIDAD AND TOBAGO</th>\n",
       "      <th>Destination_TUNISIA</th>\n",
       "      <th>Destination_TURKEY</th>\n",
       "      <th>Destination_TURKMENISTAN</th>\n",
       "      <th>Destination_TURKS AND CAICOS ISLANDS</th>\n",
       "      <th>Destination_UGANDA</th>\n",
       "      <th>Destination_UKRAINE</th>\n",
       "      <th>Destination_UNITED ARAB EMIRATES</th>\n",
       "      <th>Destination_UNITED KINGDOM</th>\n",
       "      <th>Destination_UNITED STATES</th>\n",
       "      <th>Destination_URUGUAY</th>\n",
       "      <th>Destination_UZBEKISTAN</th>\n",
       "      <th>Destination_VANUATU</th>\n",
       "      <th>Destination_VENEZUELA</th>\n",
       "      <th>Destination_VIET NAM</th>\n",
       "      <th>Destination_VIRGIN ISLANDS, U.S.</th>\n",
       "      <th>Destination_ZAMBIA</th>\n",
       "      <th>Destination_ZIMBABWE</th>\n",
       "      <th>Gender_M</th>\n",
       "      <th>Gender_None</th>\n",
       "    </tr>\n",
       "  </thead>\n",
       "  <tbody>\n",
       "    <tr>\n",
       "      <th>0</th>\n",
       "      <td>0</td>\n",
       "      <td>-0.362710</td>\n",
       "      <td>0.087685</td>\n",
       "      <td>0.301743</td>\n",
       "      <td>-0.068243</td>\n",
       "      <td>0</td>\n",
       "      <td>0</td>\n",
       "      <td>0</td>\n",
       "      <td>0</td>\n",
       "      <td>0</td>\n",
       "      <td>0</td>\n",
       "      <td>0</td>\n",
       "      <td>0</td>\n",
       "      <td>1</td>\n",
       "      <td>0</td>\n",
       "      <td>0</td>\n",
       "      <td>0</td>\n",
       "      <td>0</td>\n",
       "      <td>0</td>\n",
       "      <td>0</td>\n",
       "      <td>0</td>\n",
       "      <td>1</td>\n",
       "      <td>0</td>\n",
       "      <td>0</td>\n",
       "      <td>0</td>\n",
       "      <td>0</td>\n",
       "      <td>0</td>\n",
       "      <td>0</td>\n",
       "      <td>0</td>\n",
       "      <td>0</td>\n",
       "      <td>0</td>\n",
       "      <td>0</td>\n",
       "      <td>0</td>\n",
       "      <td>0</td>\n",
       "      <td>0</td>\n",
       "      <td>0</td>\n",
       "      <td>0</td>\n",
       "      <td>0</td>\n",
       "      <td>0</td>\n",
       "      <td>0</td>\n",
       "      <td>0</td>\n",
       "      <td>0</td>\n",
       "      <td>0</td>\n",
       "      <td>0</td>\n",
       "      <td>0</td>\n",
       "      <td>0</td>\n",
       "      <td>1</td>\n",
       "      <td>0</td>\n",
       "      <td>0</td>\n",
       "      <td>0</td>\n",
       "      <td>0</td>\n",
       "      <td>0</td>\n",
       "      <td>0</td>\n",
       "      <td>0</td>\n",
       "      <td>0</td>\n",
       "      <td>0</td>\n",
       "      <td>0</td>\n",
       "      <td>0</td>\n",
       "      <td>0</td>\n",
       "      <td>0</td>\n",
       "      <td>...</td>\n",
       "      <td>0</td>\n",
       "      <td>0</td>\n",
       "      <td>0</td>\n",
       "      <td>0</td>\n",
       "      <td>0</td>\n",
       "      <td>0</td>\n",
       "      <td>0</td>\n",
       "      <td>0</td>\n",
       "      <td>0</td>\n",
       "      <td>0</td>\n",
       "      <td>0</td>\n",
       "      <td>0</td>\n",
       "      <td>0</td>\n",
       "      <td>0</td>\n",
       "      <td>0</td>\n",
       "      <td>0</td>\n",
       "      <td>0</td>\n",
       "      <td>0</td>\n",
       "      <td>0</td>\n",
       "      <td>0</td>\n",
       "      <td>0</td>\n",
       "      <td>0</td>\n",
       "      <td>0</td>\n",
       "      <td>0</td>\n",
       "      <td>0</td>\n",
       "      <td>0</td>\n",
       "      <td>0</td>\n",
       "      <td>0</td>\n",
       "      <td>0</td>\n",
       "      <td>0</td>\n",
       "      <td>0</td>\n",
       "      <td>0</td>\n",
       "      <td>0</td>\n",
       "      <td>0</td>\n",
       "      <td>0</td>\n",
       "      <td>1</td>\n",
       "      <td>0</td>\n",
       "      <td>0</td>\n",
       "      <td>0</td>\n",
       "      <td>0</td>\n",
       "      <td>0</td>\n",
       "      <td>0</td>\n",
       "      <td>0</td>\n",
       "      <td>0</td>\n",
       "      <td>0</td>\n",
       "      <td>0</td>\n",
       "      <td>0</td>\n",
       "      <td>0</td>\n",
       "      <td>0</td>\n",
       "      <td>0</td>\n",
       "      <td>0</td>\n",
       "      <td>0</td>\n",
       "      <td>0</td>\n",
       "      <td>0</td>\n",
       "      <td>0</td>\n",
       "      <td>0</td>\n",
       "      <td>0</td>\n",
       "      <td>0</td>\n",
       "      <td>1</td>\n",
       "      <td>0</td>\n",
       "    </tr>\n",
       "    <tr>\n",
       "      <th>1</th>\n",
       "      <td>0</td>\n",
       "      <td>0.003984</td>\n",
       "      <td>-0.386840</td>\n",
       "      <td>-0.497090</td>\n",
       "      <td>-0.282109</td>\n",
       "      <td>0</td>\n",
       "      <td>0</td>\n",
       "      <td>0</td>\n",
       "      <td>0</td>\n",
       "      <td>0</td>\n",
       "      <td>0</td>\n",
       "      <td>1</td>\n",
       "      <td>0</td>\n",
       "      <td>0</td>\n",
       "      <td>0</td>\n",
       "      <td>0</td>\n",
       "      <td>0</td>\n",
       "      <td>0</td>\n",
       "      <td>0</td>\n",
       "      <td>0</td>\n",
       "      <td>1</td>\n",
       "      <td>1</td>\n",
       "      <td>0</td>\n",
       "      <td>0</td>\n",
       "      <td>0</td>\n",
       "      <td>0</td>\n",
       "      <td>0</td>\n",
       "      <td>0</td>\n",
       "      <td>0</td>\n",
       "      <td>0</td>\n",
       "      <td>0</td>\n",
       "      <td>1</td>\n",
       "      <td>0</td>\n",
       "      <td>0</td>\n",
       "      <td>0</td>\n",
       "      <td>0</td>\n",
       "      <td>0</td>\n",
       "      <td>0</td>\n",
       "      <td>0</td>\n",
       "      <td>0</td>\n",
       "      <td>0</td>\n",
       "      <td>0</td>\n",
       "      <td>0</td>\n",
       "      <td>0</td>\n",
       "      <td>0</td>\n",
       "      <td>0</td>\n",
       "      <td>0</td>\n",
       "      <td>0</td>\n",
       "      <td>0</td>\n",
       "      <td>0</td>\n",
       "      <td>0</td>\n",
       "      <td>0</td>\n",
       "      <td>0</td>\n",
       "      <td>0</td>\n",
       "      <td>0</td>\n",
       "      <td>0</td>\n",
       "      <td>0</td>\n",
       "      <td>0</td>\n",
       "      <td>0</td>\n",
       "      <td>0</td>\n",
       "      <td>...</td>\n",
       "      <td>0</td>\n",
       "      <td>0</td>\n",
       "      <td>0</td>\n",
       "      <td>0</td>\n",
       "      <td>0</td>\n",
       "      <td>0</td>\n",
       "      <td>0</td>\n",
       "      <td>0</td>\n",
       "      <td>0</td>\n",
       "      <td>0</td>\n",
       "      <td>0</td>\n",
       "      <td>0</td>\n",
       "      <td>0</td>\n",
       "      <td>0</td>\n",
       "      <td>0</td>\n",
       "      <td>0</td>\n",
       "      <td>0</td>\n",
       "      <td>0</td>\n",
       "      <td>0</td>\n",
       "      <td>0</td>\n",
       "      <td>0</td>\n",
       "      <td>0</td>\n",
       "      <td>0</td>\n",
       "      <td>0</td>\n",
       "      <td>0</td>\n",
       "      <td>0</td>\n",
       "      <td>0</td>\n",
       "      <td>0</td>\n",
       "      <td>0</td>\n",
       "      <td>0</td>\n",
       "      <td>0</td>\n",
       "      <td>0</td>\n",
       "      <td>0</td>\n",
       "      <td>0</td>\n",
       "      <td>0</td>\n",
       "      <td>0</td>\n",
       "      <td>0</td>\n",
       "      <td>0</td>\n",
       "      <td>0</td>\n",
       "      <td>0</td>\n",
       "      <td>0</td>\n",
       "      <td>0</td>\n",
       "      <td>0</td>\n",
       "      <td>0</td>\n",
       "      <td>0</td>\n",
       "      <td>0</td>\n",
       "      <td>0</td>\n",
       "      <td>0</td>\n",
       "      <td>0</td>\n",
       "      <td>0</td>\n",
       "      <td>0</td>\n",
       "      <td>0</td>\n",
       "      <td>0</td>\n",
       "      <td>0</td>\n",
       "      <td>0</td>\n",
       "      <td>0</td>\n",
       "      <td>0</td>\n",
       "      <td>0</td>\n",
       "      <td>0</td>\n",
       "      <td>1</td>\n",
       "    </tr>\n",
       "    <tr>\n",
       "      <th>2</th>\n",
       "      <td>0</td>\n",
       "      <td>1.943603</td>\n",
       "      <td>0.809788</td>\n",
       "      <td>-0.497090</td>\n",
       "      <td>-0.282109</td>\n",
       "      <td>0</td>\n",
       "      <td>0</td>\n",
       "      <td>0</td>\n",
       "      <td>0</td>\n",
       "      <td>0</td>\n",
       "      <td>0</td>\n",
       "      <td>1</td>\n",
       "      <td>0</td>\n",
       "      <td>0</td>\n",
       "      <td>0</td>\n",
       "      <td>0</td>\n",
       "      <td>0</td>\n",
       "      <td>0</td>\n",
       "      <td>0</td>\n",
       "      <td>0</td>\n",
       "      <td>1</td>\n",
       "      <td>1</td>\n",
       "      <td>0</td>\n",
       "      <td>0</td>\n",
       "      <td>0</td>\n",
       "      <td>0</td>\n",
       "      <td>0</td>\n",
       "      <td>0</td>\n",
       "      <td>0</td>\n",
       "      <td>0</td>\n",
       "      <td>0</td>\n",
       "      <td>1</td>\n",
       "      <td>0</td>\n",
       "      <td>0</td>\n",
       "      <td>0</td>\n",
       "      <td>0</td>\n",
       "      <td>0</td>\n",
       "      <td>0</td>\n",
       "      <td>0</td>\n",
       "      <td>0</td>\n",
       "      <td>0</td>\n",
       "      <td>0</td>\n",
       "      <td>0</td>\n",
       "      <td>0</td>\n",
       "      <td>0</td>\n",
       "      <td>0</td>\n",
       "      <td>0</td>\n",
       "      <td>0</td>\n",
       "      <td>0</td>\n",
       "      <td>0</td>\n",
       "      <td>0</td>\n",
       "      <td>0</td>\n",
       "      <td>0</td>\n",
       "      <td>0</td>\n",
       "      <td>0</td>\n",
       "      <td>0</td>\n",
       "      <td>0</td>\n",
       "      <td>0</td>\n",
       "      <td>0</td>\n",
       "      <td>0</td>\n",
       "      <td>...</td>\n",
       "      <td>0</td>\n",
       "      <td>0</td>\n",
       "      <td>0</td>\n",
       "      <td>0</td>\n",
       "      <td>0</td>\n",
       "      <td>0</td>\n",
       "      <td>0</td>\n",
       "      <td>0</td>\n",
       "      <td>0</td>\n",
       "      <td>0</td>\n",
       "      <td>0</td>\n",
       "      <td>0</td>\n",
       "      <td>0</td>\n",
       "      <td>0</td>\n",
       "      <td>0</td>\n",
       "      <td>0</td>\n",
       "      <td>0</td>\n",
       "      <td>0</td>\n",
       "      <td>0</td>\n",
       "      <td>0</td>\n",
       "      <td>0</td>\n",
       "      <td>0</td>\n",
       "      <td>0</td>\n",
       "      <td>0</td>\n",
       "      <td>0</td>\n",
       "      <td>0</td>\n",
       "      <td>0</td>\n",
       "      <td>0</td>\n",
       "      <td>0</td>\n",
       "      <td>0</td>\n",
       "      <td>0</td>\n",
       "      <td>0</td>\n",
       "      <td>0</td>\n",
       "      <td>0</td>\n",
       "      <td>0</td>\n",
       "      <td>0</td>\n",
       "      <td>0</td>\n",
       "      <td>0</td>\n",
       "      <td>0</td>\n",
       "      <td>0</td>\n",
       "      <td>0</td>\n",
       "      <td>0</td>\n",
       "      <td>0</td>\n",
       "      <td>0</td>\n",
       "      <td>0</td>\n",
       "      <td>0</td>\n",
       "      <td>0</td>\n",
       "      <td>0</td>\n",
       "      <td>0</td>\n",
       "      <td>0</td>\n",
       "      <td>0</td>\n",
       "      <td>0</td>\n",
       "      <td>0</td>\n",
       "      <td>0</td>\n",
       "      <td>0</td>\n",
       "      <td>0</td>\n",
       "      <td>0</td>\n",
       "      <td>0</td>\n",
       "      <td>0</td>\n",
       "      <td>1</td>\n",
       "    </tr>\n",
       "    <tr>\n",
       "      <th>3</th>\n",
       "      <td>0</td>\n",
       "      <td>-0.420609</td>\n",
       "      <td>-1.047048</td>\n",
       "      <td>-0.497090</td>\n",
       "      <td>-0.282109</td>\n",
       "      <td>0</td>\n",
       "      <td>0</td>\n",
       "      <td>0</td>\n",
       "      <td>0</td>\n",
       "      <td>0</td>\n",
       "      <td>0</td>\n",
       "      <td>1</td>\n",
       "      <td>0</td>\n",
       "      <td>0</td>\n",
       "      <td>0</td>\n",
       "      <td>0</td>\n",
       "      <td>0</td>\n",
       "      <td>0</td>\n",
       "      <td>0</td>\n",
       "      <td>0</td>\n",
       "      <td>1</td>\n",
       "      <td>1</td>\n",
       "      <td>0</td>\n",
       "      <td>0</td>\n",
       "      <td>0</td>\n",
       "      <td>0</td>\n",
       "      <td>0</td>\n",
       "      <td>0</td>\n",
       "      <td>0</td>\n",
       "      <td>0</td>\n",
       "      <td>0</td>\n",
       "      <td>1</td>\n",
       "      <td>0</td>\n",
       "      <td>0</td>\n",
       "      <td>0</td>\n",
       "      <td>0</td>\n",
       "      <td>0</td>\n",
       "      <td>0</td>\n",
       "      <td>0</td>\n",
       "      <td>0</td>\n",
       "      <td>0</td>\n",
       "      <td>0</td>\n",
       "      <td>0</td>\n",
       "      <td>0</td>\n",
       "      <td>0</td>\n",
       "      <td>0</td>\n",
       "      <td>0</td>\n",
       "      <td>0</td>\n",
       "      <td>0</td>\n",
       "      <td>0</td>\n",
       "      <td>0</td>\n",
       "      <td>0</td>\n",
       "      <td>0</td>\n",
       "      <td>0</td>\n",
       "      <td>0</td>\n",
       "      <td>0</td>\n",
       "      <td>0</td>\n",
       "      <td>0</td>\n",
       "      <td>0</td>\n",
       "      <td>0</td>\n",
       "      <td>...</td>\n",
       "      <td>0</td>\n",
       "      <td>0</td>\n",
       "      <td>0</td>\n",
       "      <td>0</td>\n",
       "      <td>0</td>\n",
       "      <td>0</td>\n",
       "      <td>0</td>\n",
       "      <td>0</td>\n",
       "      <td>0</td>\n",
       "      <td>0</td>\n",
       "      <td>0</td>\n",
       "      <td>0</td>\n",
       "      <td>0</td>\n",
       "      <td>0</td>\n",
       "      <td>0</td>\n",
       "      <td>0</td>\n",
       "      <td>0</td>\n",
       "      <td>0</td>\n",
       "      <td>0</td>\n",
       "      <td>0</td>\n",
       "      <td>0</td>\n",
       "      <td>0</td>\n",
       "      <td>0</td>\n",
       "      <td>0</td>\n",
       "      <td>0</td>\n",
       "      <td>0</td>\n",
       "      <td>0</td>\n",
       "      <td>0</td>\n",
       "      <td>0</td>\n",
       "      <td>0</td>\n",
       "      <td>0</td>\n",
       "      <td>0</td>\n",
       "      <td>0</td>\n",
       "      <td>0</td>\n",
       "      <td>0</td>\n",
       "      <td>0</td>\n",
       "      <td>0</td>\n",
       "      <td>0</td>\n",
       "      <td>0</td>\n",
       "      <td>0</td>\n",
       "      <td>0</td>\n",
       "      <td>0</td>\n",
       "      <td>0</td>\n",
       "      <td>0</td>\n",
       "      <td>0</td>\n",
       "      <td>0</td>\n",
       "      <td>0</td>\n",
       "      <td>0</td>\n",
       "      <td>0</td>\n",
       "      <td>0</td>\n",
       "      <td>0</td>\n",
       "      <td>0</td>\n",
       "      <td>0</td>\n",
       "      <td>0</td>\n",
       "      <td>0</td>\n",
       "      <td>0</td>\n",
       "      <td>0</td>\n",
       "      <td>0</td>\n",
       "      <td>0</td>\n",
       "      <td>1</td>\n",
       "    </tr>\n",
       "    <tr>\n",
       "      <th>4</th>\n",
       "      <td>0</td>\n",
       "      <td>-0.430259</td>\n",
       "      <td>0.087685</td>\n",
       "      <td>0.301743</td>\n",
       "      <td>-0.424687</td>\n",
       "      <td>0</td>\n",
       "      <td>0</td>\n",
       "      <td>0</td>\n",
       "      <td>0</td>\n",
       "      <td>0</td>\n",
       "      <td>0</td>\n",
       "      <td>0</td>\n",
       "      <td>0</td>\n",
       "      <td>1</td>\n",
       "      <td>0</td>\n",
       "      <td>0</td>\n",
       "      <td>0</td>\n",
       "      <td>0</td>\n",
       "      <td>0</td>\n",
       "      <td>0</td>\n",
       "      <td>0</td>\n",
       "      <td>1</td>\n",
       "      <td>0</td>\n",
       "      <td>0</td>\n",
       "      <td>0</td>\n",
       "      <td>0</td>\n",
       "      <td>0</td>\n",
       "      <td>0</td>\n",
       "      <td>0</td>\n",
       "      <td>0</td>\n",
       "      <td>0</td>\n",
       "      <td>0</td>\n",
       "      <td>0</td>\n",
       "      <td>0</td>\n",
       "      <td>0</td>\n",
       "      <td>0</td>\n",
       "      <td>0</td>\n",
       "      <td>0</td>\n",
       "      <td>0</td>\n",
       "      <td>0</td>\n",
       "      <td>0</td>\n",
       "      <td>0</td>\n",
       "      <td>0</td>\n",
       "      <td>0</td>\n",
       "      <td>0</td>\n",
       "      <td>0</td>\n",
       "      <td>1</td>\n",
       "      <td>0</td>\n",
       "      <td>0</td>\n",
       "      <td>0</td>\n",
       "      <td>0</td>\n",
       "      <td>0</td>\n",
       "      <td>0</td>\n",
       "      <td>0</td>\n",
       "      <td>0</td>\n",
       "      <td>0</td>\n",
       "      <td>0</td>\n",
       "      <td>0</td>\n",
       "      <td>0</td>\n",
       "      <td>0</td>\n",
       "      <td>...</td>\n",
       "      <td>0</td>\n",
       "      <td>0</td>\n",
       "      <td>0</td>\n",
       "      <td>0</td>\n",
       "      <td>0</td>\n",
       "      <td>0</td>\n",
       "      <td>0</td>\n",
       "      <td>0</td>\n",
       "      <td>0</td>\n",
       "      <td>0</td>\n",
       "      <td>0</td>\n",
       "      <td>0</td>\n",
       "      <td>0</td>\n",
       "      <td>0</td>\n",
       "      <td>0</td>\n",
       "      <td>0</td>\n",
       "      <td>0</td>\n",
       "      <td>0</td>\n",
       "      <td>0</td>\n",
       "      <td>0</td>\n",
       "      <td>0</td>\n",
       "      <td>0</td>\n",
       "      <td>0</td>\n",
       "      <td>0</td>\n",
       "      <td>0</td>\n",
       "      <td>0</td>\n",
       "      <td>0</td>\n",
       "      <td>0</td>\n",
       "      <td>0</td>\n",
       "      <td>0</td>\n",
       "      <td>0</td>\n",
       "      <td>0</td>\n",
       "      <td>0</td>\n",
       "      <td>0</td>\n",
       "      <td>0</td>\n",
       "      <td>0</td>\n",
       "      <td>0</td>\n",
       "      <td>0</td>\n",
       "      <td>0</td>\n",
       "      <td>0</td>\n",
       "      <td>0</td>\n",
       "      <td>0</td>\n",
       "      <td>0</td>\n",
       "      <td>0</td>\n",
       "      <td>0</td>\n",
       "      <td>0</td>\n",
       "      <td>0</td>\n",
       "      <td>0</td>\n",
       "      <td>0</td>\n",
       "      <td>0</td>\n",
       "      <td>0</td>\n",
       "      <td>0</td>\n",
       "      <td>0</td>\n",
       "      <td>0</td>\n",
       "      <td>0</td>\n",
       "      <td>0</td>\n",
       "      <td>0</td>\n",
       "      <td>0</td>\n",
       "      <td>1</td>\n",
       "      <td>0</td>\n",
       "    </tr>\n",
       "  </tbody>\n",
       "</table>\n",
       "<p>5 rows × 197 columns</p>\n",
       "</div>"
      ],
      "text/plain": [
       "   Claim  Duration  Net Sales  Commision (in value)  ...  Destination_ZAMBIA  Destination_ZIMBABWE  Gender_M  Gender_None\n",
       "0      0 -0.362710   0.087685              0.301743  ...                   0                     0         1            0\n",
       "1      0  0.003984  -0.386840             -0.497090  ...                   0                     0         0            1\n",
       "2      0  1.943603   0.809788             -0.497090  ...                   0                     0         0            1\n",
       "3      0 -0.420609  -1.047048             -0.497090  ...                   0                     0         0            1\n",
       "4      0 -0.430259   0.087685              0.301743  ...                   0                     0         1            0\n",
       "\n",
       "[5 rows x 197 columns]"
      ]
     },
     "execution_count": 4,
     "metadata": {},
     "output_type": "execute_result"
    }
   ],
   "source": [
    "df.head()"
   ]
  },
  {
   "cell_type": "code",
   "execution_count": 5,
   "id": "fe2a97bb",
   "metadata": {},
   "outputs": [],
   "source": [
    "target = df[\"Claim\"]\n",
    "features = df.drop(\"Claim\", axis = 1)"
   ]
  },
  {
   "cell_type": "code",
   "execution_count": 6,
   "id": "2a70768e",
   "metadata": {},
   "outputs": [],
   "source": [
    "features_train,features_valid,target_train,target_valid = train_test_split(features,target,test_size=0.25,random_state=12345)"
   ]
  },
  {
   "cell_type": "code",
   "execution_count": 56,
   "id": "6d2d8a5f",
   "metadata": {},
   "outputs": [],
   "source": [
    "model = DecisionTreeClassifier(random_state=12345)\n",
    "model.fit(features_train,target_train)\n",
    "predict_valid = model.predict(features_valid)\n",
    "accuracy_valid = accuracy_score(target_valid,predict_valid)"
   ]
  },
  {
   "cell_type": "code",
   "execution_count": 8,
   "id": "4bbae62c",
   "metadata": {},
   "outputs": [
    {
     "data": {
      "text/plain": [
       "0.974496644295302"
      ]
     },
     "execution_count": 8,
     "metadata": {},
     "output_type": "execute_result"
    }
   ],
   "source": [
    "accuracy_valid"
   ]
  },
  {
   "cell_type": "markdown",
   "id": "69273643",
   "metadata": {},
   "source": [
    "# Проверка на адекватность модели"
   ]
  },
  {
   "cell_type": "code",
   "execution_count": 14,
   "id": "b929e677",
   "metadata": {},
   "outputs": [
    {
     "name": "stdout",
     "output_type": "stream",
     "text": [
      "Claim\n",
      "0    0.985136\n",
      "1    0.014864\n",
      "Name: proportion, dtype: float64\n"
     ]
    }
   ],
   "source": [
    "class_frequency = df[\"Claim\"].value_counts(normalize=True)\n",
    "print(class_frequency)"
   ]
  },
  {
   "cell_type": "code",
   "execution_count": 15,
   "id": "26277b23",
   "metadata": {},
   "outputs": [
    {
     "data": {
      "text/plain": [
       "<Axes: xlabel='Claim'>"
      ]
     },
     "execution_count": 15,
     "metadata": {},
     "output_type": "execute_result"
    },
    {
     "data": {
      "image/png": "[encoded data removed]",
      "text/plain": [
       "<Figure size 640x480 with 1 Axes>"
      ]
     },
     "metadata": {},
     "output_type": "display_data"
    }
   ],
   "source": [
    "class_frequency.plot(kind = 'bar')"
   ]
  },
  {
   "cell_type": "code",
   "execution_count": 16,
   "id": "7766eb95",
   "metadata": {},
   "outputs": [],
   "source": [
    "predicted_valid = pd.Series(model.predict(features_valid))"
   ]
  },
  {
   "cell_type": "code",
   "execution_count": 20,
   "id": "6e328239",
   "metadata": {
    "scrolled": true
   },
   "outputs": [
    {
     "data": {
      "text/plain": [
       "0        0\n",
       "1        0\n",
       "2        0\n",
       "3        0\n",
       "4        0\n",
       "        ..\n",
       "12660    0\n",
       "12661    0\n",
       "12662    0\n",
       "12663    0\n",
       "12664    0\n",
       "Length: 12665, dtype: int64"
      ]
     },
     "execution_count": 20,
     "metadata": {},
     "output_type": "execute_result"
    }
   ],
   "source": [
    "predicted_valid"
   ]
  },
  {
   "cell_type": "code",
   "execution_count": 23,
   "id": "f45ce751",
   "metadata": {},
   "outputs": [
    {
     "name": "stdout",
     "output_type": "stream",
     "text": [
      "0    0.985946\n",
      "1    0.014054\n",
      "Name: proportion, dtype: float64\n"
     ]
    }
   ],
   "source": [
    "class_frequency = predicted_valid.value_counts(normalize = True)\n",
    "print(class_frequency)"
   ]
  },
  {
   "cell_type": "code",
   "execution_count": 24,
   "id": "db280ed5",
   "metadata": {},
   "outputs": [
    {
     "data": {
      "text/plain": [
       "<Axes: >"
      ]
     },
     "execution_count": 24,
     "metadata": {},
     "output_type": "execute_result"
    },
    {
     "data": {
      "image/png": "[encoded data removed]",
      "text/plain": [
       "<Figure size 640x480 with 1 Axes>"
      ]
     },
     "metadata": {},
     "output_type": "display_data"
    }
   ],
   "source": [
    "class_frequency.plot(kind = 'bar')"
   ]
  },
  {
   "cell_type": "code",
   "execution_count": 31,
   "id": "d5cc5379",
   "metadata": {},
   "outputs": [
    {
     "name": "stdout",
     "output_type": "stream",
     "text": [
      "0.9851362021318595\n"
     ]
    }
   ],
   "source": [
    "# Создаём константную модель, предсказывающую 0 для всех объектов\n",
    "target_pred_constant = pd.Series(0, index=target.index)\n",
    "\n",
    "# Вычисляем и выводим значение accuracy\n",
    "print(accuracy_score(target, target_pred_constant))\n"
   ]
  },
  {
   "cell_type": "markdown",
   "id": "0f3e316b",
   "metadata": {},
   "source": [
    "Вы уже знаете, что класс с меткой «1» называется положительным, с меткой «0» — отрицательным.\n",
    "Если сравнить эти ответы с предсказаниями, получается такое деление:\n",
    "истинно положительные (англ. True Positive, TP) и истинно отрицательные ответы (англ. True Negative, TN);\n",
    "ложноположительные (англ. False Positive, FP) и ложноотрицательные ответы (англ. False Negative, FN).\n",
    "Резюмируем. Характеристики «положительный» и «отрицательный» относятся к предсказанию, а «истинный» и «ложный» — к его правильности."
   ]
  },
  {
   "cell_type": "markdown",
   "id": "b8d6d46a",
   "metadata": {},
   "source": [
    "# Истинно положительные ответы (TP)"
   ]
  },
  {
   "cell_type": "raw",
   "id": "a510bfaa",
   "metadata": {},
   "source": [
    "Что значит истинно положительный ответ (TP)? Модель пометила объект единицей, и его настоящее значение тоже — 1.\n",
    "В нашей задаче истинно положительный ответ — это количество застрахованных, которые:\n",
    "по прогнозу модели обратились за компенсацией;\n",
    "фактически запросили страховую выплату."
   ]
  },
  {
   "cell_type": "code",
   "execution_count": 32,
   "id": "6362d386",
   "metadata": {},
   "outputs": [],
   "source": [
    "target_zad = pd.Series([1, 0, 0, 1, 1, 0, 1, 0, 1, 1, 0, 0, 0, 1])\n",
    "predictions_zad = pd.Series([1, 1, 0, 0, 1, 1, 1, 0, 0, 1, 0, 1, 0, 1])"
   ]
  },
  {
   "cell_type": "code",
   "execution_count": 42,
   "id": "a6eca5df",
   "metadata": {},
   "outputs": [
    {
     "data": {
      "text/plain": [
       "4"
      ]
     },
     "execution_count": 42,
     "metadata": {},
     "output_type": "execute_result"
    }
   ],
   "source": [
    "((target_zad == 0)&(predictions_zad == 0)).sum()"
   ]
  },
  {
   "cell_type": "code",
   "execution_count": 40,
   "id": "38c35f26",
   "metadata": {},
   "outputs": [
    {
     "name": "stdout",
     "output_type": "stream",
     "text": [
      "5\n"
     ]
    }
   ],
   "source": [
    "counts = 0\n",
    "for i in range(len(target_zad)):\n",
    "    if target_zad[i] + predictions_zad[i] == 2:\n",
    "        counts +=1\n",
    "    else:\n",
    "        continue\n",
    "print(counts)"
   ]
  },
  {
   "cell_type": "markdown",
   "id": "8670b268",
   "metadata": {},
   "source": [
    "# Истинно отрицательные ответы (TN)\n",
    "В нашей задаче истинно отрицательный ответ (TN) — это количество застрахованных, которые:\n",
    "по прогнозу модели не запросили выплату;\n",
    "фактически не обратились за компенсацией по страховке."
   ]
  },
  {
   "cell_type": "code",
   "execution_count": 46,
   "id": "64e94336",
   "metadata": {},
   "outputs": [
    {
     "name": "stdout",
     "output_type": "stream",
     "text": [
      "4\n"
     ]
    }
   ],
   "source": [
    "counts = 0\n",
    "for i in range(len(target_zad)):\n",
    "    if target_zad[i] == 0 and predictions_zad[i] == 0:\n",
    "        counts +=1\n",
    "    else:\n",
    "        continue\n",
    "print(counts)"
   ]
  },
  {
   "cell_type": "markdown",
   "id": "d738c562",
   "metadata": {},
   "source": [
    "# Ложноположительные ответы (FP)"
   ]
  },
  {
   "cell_type": "markdown",
   "id": "9712620c",
   "metadata": {},
   "source": [
    "Ошибка первого рода — это ложноположительные ответы (FP). Они возникают, когда модель предсказала «1», а вот действительное значение класса — «0».\n",
    "В нашей задаче ложноположительный ответ — это количество застрахованных, которые:\n",
    "\n",
    "1) по прогнозу модели запросили выплату;\n",
    "2) фактически не обратились за компенсацией."
   ]
  },
  {
   "cell_type": "code",
   "execution_count": 47,
   "id": "d595c794",
   "metadata": {},
   "outputs": [
    {
     "name": "stdout",
     "output_type": "stream",
     "text": [
      "3\n"
     ]
    }
   ],
   "source": [
    "counts = 0\n",
    "for i in range(len(target_zad)):\n",
    "    if target_zad[i] == 0 and predictions_zad[i] == 1:\n",
    "        counts +=1\n",
    "    else:\n",
    "        continue\n",
    "print(counts)"
   ]
  },
  {
   "cell_type": "markdown",
   "id": "a6270003",
   "metadata": {},
   "source": [
    "# Ложноотрицательные ответы (FN)\n",
    "Ошибка второго рода — ложноотрицательные ответы (FN).\n",
    "Ложноотрицательные ответы появляются, когда модель предсказала «0», а действительное значение класса — «1».\n",
    "В нашей задаче ложноотрицательный ответ — это количество застрахованных, которые:\n",
    "1) по прогнозу модели не запросили выплату;\n",
    "2) фактически обратились за компенсацией."
   ]
  },
  {
   "cell_type": "code",
   "execution_count": 48,
   "id": "bb5f97ae",
   "metadata": {},
   "outputs": [
    {
     "name": "stdout",
     "output_type": "stream",
     "text": [
      "2\n"
     ]
    }
   ],
   "source": [
    "counts = 0\n",
    "for i in range(len(target_zad)):\n",
    "    if target_zad[i] == 1 and predictions_zad[i] == 0:\n",
    "        counts +=1\n",
    "    else:\n",
    "        continue\n",
    "print(counts)"
   ]
  },
  {
   "cell_type": "markdown",
   "id": "662909b1",
   "metadata": {},
   "source": [
    "# Матрица ошибок"
   ]
  },
  {
   "cell_type": "markdown",
   "id": "ebb730e2",
   "metadata": {},
   "source": [
    "TP, FP, TN, FN собираются в одну таблицу — матрицу ошибок, или матрицу неточностей (англ. сonfusion matrix).\n",
    "Матрица формируется так:\n",
    "\n",
    "1) по горизонтали («Предсказания») располагаются метки алгоритма от 0 до 1;\n",
    "2) по вертикали («Ответы») — истинные метки класса от 0 до 1."
   ]
  },
  {
   "cell_type": "markdown",
   "id": "922fec1a",
   "metadata": {},
   "source": [
    "Что получаем:\n",
    "1) По главной диагонали (от верхнего левого угла) выстроены правильные прогнозы:\n",
    "   TN в левом верхнем углу;\n",
    "   TP в правом нижнем углу.\n",
    "2) Вне главной диагонали — ошибочные варианты:\n",
    "   FP в правом верхнем углу;\n",
    "   FN в левом нижнем углу."
   ]
  },
  {
   "cell_type": "code",
   "execution_count": 50,
   "id": "907f20a7",
   "metadata": {},
   "outputs": [
    {
     "data": {
      "text/plain": [
       "array([[4, 3],\n",
       "       [2, 5]], dtype=int64)"
      ]
     },
     "execution_count": 50,
     "metadata": {},
     "output_type": "execute_result"
    }
   ],
   "source": [
    "confusion_matrix(target_zad, predictions_zad)"
   ]
  },
  {
   "cell_type": "code",
   "execution_count": 57,
   "id": "ca49ccc9",
   "metadata": {},
   "outputs": [
    {
     "data": {
      "text/plain": [
       "array([[12330,   166],\n",
       "       [  157,    12]], dtype=int64)"
      ]
     },
     "execution_count": 57,
     "metadata": {},
     "output_type": "execute_result"
    }
   ],
   "source": [
    "confusion_matrix(target_valid, predict_valid)"
   ]
  },
  {
   "cell_type": "markdown",
   "id": "b6a54614",
   "metadata": {},
   "source": [
    "# Полнота\n",
    "Полнота выявляет, какую долю положительных среди всех ответов выделила модель. Обычно они на вес золота, и важно понимать, как хорошо модель их находит. Рассчитывают по формуле: Recall = TP / (TP+FN)"
   ]
  },
  {
   "cell_type": "markdown",
   "id": "e0bcc334",
   "metadata": {},
   "source": [
    "Разберём на примере нашей задачи:\n",
    "за компенсацией обратились 100 застрахованных. \n",
    "1) Это количество всех положительных объектов, или TP + FN;\n",
    "2) модель определила из них правильно только 20;\n",
    "3) recall равна 0.2."
   ]
  },
  {
   "cell_type": "code",
   "execution_count": 25,
   "id": "c90c5348",
   "metadata": {},
   "outputs": [],
   "source": [
    "model = DecisionTreeClassifier(random_state=12345)\n",
    "model.fit(features_train, target_train)\n",
    "predict_valid = model.predict(features_valid)\n",
    "recall=recall_score(target_valid,predict_valid)"
   ]
  },
  {
   "cell_type": "code",
   "execution_count": 13,
   "id": "54d200a4",
   "metadata": {},
   "outputs": [
    {
     "data": {
      "text/plain": [
       "0.07100591715976332"
      ]
     },
     "execution_count": 13,
     "metadata": {},
     "output_type": "execute_result"
    }
   ],
   "source": [
    "recall"
   ]
  },
  {
   "cell_type": "markdown",
   "id": "c8399cf9",
   "metadata": {},
   "source": [
    "# Точность \n",
    "Точность определяет, как много отрицательных ответов нашла модель, пока искала положительные. Чем больше отрицательных, тем ниже точность.  Precision = TP / (TP+FP)"
   ]
  },
  {
   "cell_type": "code",
   "execution_count": 10,
   "id": "9b864454",
   "metadata": {},
   "outputs": [],
   "source": [
    "precision = precision_score(target_valid,predict_valid)"
   ]
  },
  {
   "cell_type": "code",
   "execution_count": 11,
   "id": "6cf4fa54",
   "metadata": {},
   "outputs": [
    {
     "data": {
      "text/plain": [
       "0.06741573033707865"
      ]
     },
     "execution_count": 11,
     "metadata": {},
     "output_type": "execute_result"
    }
   ],
   "source": [
    "precision"
   ]
  },
  {
   "cell_type": "markdown",
   "id": "30b6d89d",
   "metadata": {},
   "source": [
    "# F1-мера\n",
    "По отдельности полнота и точность не слишком информативны. Нужно одновременно повышать показатели обеих. Или обратиться к новой метрике, которая их объединит.\n",
    "Полнота и точность оценивают качество прогноза положительного класса с разных позиций. Recall описывает, как хорошо модель разобралась в особенностях этого класса и распознала его. Precision выявляет, не переусердствует ли модель, присваивая положительные метки."
   ]
  },
  {
   "cell_type": "markdown",
   "id": "c51c9149",
   "metadata": {},
   "source": [
    "Важны обе метрики. Контролировать их параллельно помогают агрегирующие метрики, одна из которых — F1-мера (англ. F1-score). Это среднее гармоническое полноты и точности. Единица в F1 означает, что соотношение полноты и точности равно 1:1. F1 = 2 * precision * recall / (precision + recall) "
   ]
  },
  {
   "cell_type": "code",
   "execution_count": 14,
   "id": "2a8264cd",
   "metadata": {},
   "outputs": [],
   "source": [
    "f1 = 2 * precision * recall / (precision + recall)"
   ]
  },
  {
   "cell_type": "code",
   "execution_count": 15,
   "id": "b191166a",
   "metadata": {},
   "outputs": [
    {
     "data": {
      "text/plain": [
       "0.069164265129683"
      ]
     },
     "execution_count": 15,
     "metadata": {},
     "output_type": "execute_result"
    }
   ],
   "source": [
    "f1"
   ]
  },
  {
   "cell_type": "code",
   "execution_count": 16,
   "id": "4cd95b93",
   "metadata": {},
   "outputs": [],
   "source": [
    "target_zad = pd.Series([1, 0, 0, 1, 1, 0, 1, 0, 1, 1, 0, 0, 0, 1])\n",
    "predictions_zad = pd.Series([1, 1, 0, 0, 1, 1, 1, 0, 0, 1, 0, 1, 0, 1])"
   ]
  },
  {
   "cell_type": "code",
   "execution_count": 18,
   "id": "ca88a9e9",
   "metadata": {},
   "outputs": [],
   "source": [
    "precision_zad = precision_score(target_zad, predictions_zad)\n",
    "recall_zad  = recall_score(target_zad, predictions_zad)"
   ]
  },
  {
   "cell_type": "code",
   "execution_count": 19,
   "id": "6c0de314",
   "metadata": {},
   "outputs": [],
   "source": [
    "f1 = 2 * precision_zad * recall_zad / (precision_zad + recall_zad)"
   ]
  },
  {
   "cell_type": "code",
   "execution_count": 20,
   "id": "7fb12705",
   "metadata": {},
   "outputs": [
    {
     "data": {
      "text/plain": [
       "0.6666666666666666"
      ]
     },
     "execution_count": 20,
     "metadata": {},
     "output_type": "execute_result"
    }
   ],
   "source": [
    "f1"
   ]
  },
  {
   "cell_type": "code",
   "execution_count": 26,
   "id": "ba0b80b1",
   "metadata": {},
   "outputs": [],
   "source": [
    "f1_form = f1_score(target_valid,predict_valid)"
   ]
  },
  {
   "cell_type": "code",
   "execution_count": 27,
   "id": "2648e631",
   "metadata": {},
   "outputs": [
    {
     "data": {
      "text/plain": [
       "0.069164265129683"
      ]
     },
     "execution_count": 27,
     "metadata": {},
     "output_type": "execute_result"
    }
   ],
   "source": [
    "f1_form"
   ]
  },
  {
   "cell_type": "code",
   "execution_count": null,
   "id": "647d72d7",
   "metadata": {},
   "outputs": [],
   "source": []
  }
 ],
 "metadata": {
  "kernelspec": {
   "display_name": "Python 3 (ipykernel)",
   "language": "python",
   "name": "python3"
  },
  "language_info": {
   "codemirror_mode": {
    "name": "ipython",
    "version": 3
   },
   "file_extension": ".py",
   "mimetype": "text/x-python",
   "name": "python",
   "nbconvert_exporter": "python",
   "pygments_lexer": "ipython3",
   "version": "3.11.5"
  }
 },
 "nbformat": 4,
 "nbformat_minor": 5
}
