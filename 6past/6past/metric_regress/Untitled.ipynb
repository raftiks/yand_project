{
 "cells": [
  {
   "cell_type": "code",
   "execution_count": 57,
   "id": "6b079ead",
   "metadata": {},
   "outputs": [],
   "source": [
    "import pandas as pd \n",
    "from sklearn.preprocessing import StandardScaler\n",
    "from sklearn.model_selection import train_test_split\n",
    "from sklearn.linear_model import LinearRegression\n",
    "from sklearn.metrics import mean_squared_error\n",
    "from sklearn.metrics import r2_score\n",
    "from sklearn.ensemble import RandomForestRegressor\n",
    "from sklearn.metrics import mean_absolute_error"
   ]
  },
  {
   "cell_type": "code",
   "execution_count": 2,
   "id": "61fe4680",
   "metadata": {},
   "outputs": [],
   "source": [
    "data = pd.read_csv(\"flights.csv\")"
   ]
  },
  {
   "cell_type": "code",
   "execution_count": 3,
   "id": "4569ce57",
   "metadata": {},
   "outputs": [
    {
     "data": {
      "text/html": [
       "<div>\n",
       "<style scoped>\n",
       "    .dataframe tbody tr th:only-of-type {\n",
       "        vertical-align: middle;\n",
       "    }\n",
       "\n",
       "    .dataframe tbody tr th {\n",
       "        vertical-align: top;\n",
       "    }\n",
       "\n",
       "    .dataframe thead th {\n",
       "        text-align: right;\n",
       "    }\n",
       "</style>\n",
       "<table border=\"1\" class=\"dataframe\">\n",
       "  <thead>\n",
       "    <tr style=\"text-align: right;\">\n",
       "      <th></th>\n",
       "      <th>Month</th>\n",
       "      <th>Day</th>\n",
       "      <th>Day Of Week</th>\n",
       "      <th>Airline</th>\n",
       "      <th>Origin Airport Delay Rate</th>\n",
       "      <th>Destination Airport Delay Rate</th>\n",
       "      <th>Scheduled Time</th>\n",
       "      <th>Distance</th>\n",
       "      <th>Scheduled Departure Hour</th>\n",
       "      <th>Scheduled Departure Minute</th>\n",
       "      <th>Arrival Delay</th>\n",
       "    </tr>\n",
       "  </thead>\n",
       "  <tbody>\n",
       "    <tr>\n",
       "      <th>0</th>\n",
       "      <td>1</td>\n",
       "      <td>2</td>\n",
       "      <td>5</td>\n",
       "      <td>WN</td>\n",
       "      <td>0.000000</td>\n",
       "      <td>0.000000</td>\n",
       "      <td>225</td>\n",
       "      <td>1390</td>\n",
       "      <td>8</td>\n",
       "      <td>55</td>\n",
       "      <td>-13.0</td>\n",
       "    </tr>\n",
       "    <tr>\n",
       "      <th>1</th>\n",
       "      <td>1</td>\n",
       "      <td>4</td>\n",
       "      <td>7</td>\n",
       "      <td>AA</td>\n",
       "      <td>0.000000</td>\n",
       "      <td>0.590909</td>\n",
       "      <td>172</td>\n",
       "      <td>1096</td>\n",
       "      <td>8</td>\n",
       "      <td>30</td>\n",
       "      <td>-12.0</td>\n",
       "    </tr>\n",
       "    <tr>\n",
       "      <th>2</th>\n",
       "      <td>1</td>\n",
       "      <td>4</td>\n",
       "      <td>7</td>\n",
       "      <td>US</td>\n",
       "      <td>0.000000</td>\n",
       "      <td>0.000000</td>\n",
       "      <td>46</td>\n",
       "      <td>130</td>\n",
       "      <td>0</td>\n",
       "      <td>30</td>\n",
       "      <td>189.0</td>\n",
       "    </tr>\n",
       "    <tr>\n",
       "      <th>3</th>\n",
       "      <td>1</td>\n",
       "      <td>3</td>\n",
       "      <td>6</td>\n",
       "      <td>WN</td>\n",
       "      <td>0.000000</td>\n",
       "      <td>0.000000</td>\n",
       "      <td>160</td>\n",
       "      <td>925</td>\n",
       "      <td>9</td>\n",
       "      <td>25</td>\n",
       "      <td>-7.0</td>\n",
       "    </tr>\n",
       "    <tr>\n",
       "      <th>4</th>\n",
       "      <td>1</td>\n",
       "      <td>5</td>\n",
       "      <td>1</td>\n",
       "      <td>EV</td>\n",
       "      <td>0.633333</td>\n",
       "      <td>0.000000</td>\n",
       "      <td>69</td>\n",
       "      <td>113</td>\n",
       "      <td>5</td>\n",
       "      <td>46</td>\n",
       "      <td>-4.0</td>\n",
       "    </tr>\n",
       "  </tbody>\n",
       "</table>\n",
       "</div>"
      ],
      "text/plain": [
       "   Month  Day  Day Of Week Airline  Origin Airport Delay Rate  \\\n",
       "0      1    2            5      WN                   0.000000   \n",
       "1      1    4            7      AA                   0.000000   \n",
       "2      1    4            7      US                   0.000000   \n",
       "3      1    3            6      WN                   0.000000   \n",
       "4      1    5            1      EV                   0.633333   \n",
       "\n",
       "   Destination Airport Delay Rate  Scheduled Time  Distance  \\\n",
       "0                        0.000000             225      1390   \n",
       "1                        0.590909             172      1096   \n",
       "2                        0.000000              46       130   \n",
       "3                        0.000000             160       925   \n",
       "4                        0.000000              69       113   \n",
       "\n",
       "   Scheduled Departure Hour  Scheduled Departure Minute  Arrival Delay  \n",
       "0                         8                          55          -13.0  \n",
       "1                         8                          30          -12.0  \n",
       "2                         0                          30          189.0  \n",
       "3                         9                          25           -7.0  \n",
       "4                         5                          46           -4.0  "
      ]
     },
     "execution_count": 3,
     "metadata": {},
     "output_type": "execute_result"
    }
   ],
   "source": [
    "data.head()"
   ]
  },
  {
   "cell_type": "code",
   "execution_count": 22,
   "id": "2e1a2d6f",
   "metadata": {},
   "outputs": [],
   "source": [
    "data_ohe = pd.get_dummies(data, drop_first=True, dtype = int)"
   ]
  },
  {
   "cell_type": "code",
   "execution_count": null,
   "id": "47b80db3",
   "metadata": {},
   "outputs": [],
   "source": []
  },
  {
   "cell_type": "code",
   "execution_count": 27,
   "id": "cbc9e7ac",
   "metadata": {},
   "outputs": [],
   "source": [
    "target = data_ohe[\"Arrival Delay\"]\n",
    "features = data_ohe.drop(\"Arrival Delay\", axis = 1)\n",
    "features_train, features_valid, target_train, target_valid = train_test_split(features,target, test_size=0.25, random_state=12345)\n"
   ]
  },
  {
   "cell_type": "code",
   "execution_count": 29,
   "id": "71f355cc",
   "metadata": {
    "scrolled": true
   },
   "outputs": [],
   "source": [
    "numeric = ['Day', 'Day Of Week', 'Origin Airport Delay Rate','Destination Airport Delay Rate', 'Scheduled Time', 'Distance','Scheduled Departure Hour', 'Scheduled Departure Minute']"
   ]
  },
  {
   "cell_type": "code",
   "execution_count": 30,
   "id": "a7d7c415",
   "metadata": {},
   "outputs": [],
   "source": [
    "scaler = StandardScaler().fit(features_train[numeric])"
   ]
  },
  {
   "cell_type": "code",
   "execution_count": 36,
   "id": "009b19e9",
   "metadata": {},
   "outputs": [
    {
     "name": "stdout",
     "output_type": "stream",
     "text": [
      "(58431, 22)\n",
      "(19478, 22)\n"
     ]
    }
   ],
   "source": [
    "features_train[numeric]= scaler.transform(features_train[numeric])\n",
    "features_valid[numeric]= scaler.transform(features_valid[numeric])\n",
    "print(features_train.shape)\n",
    "print(features_valid.shape)"
   ]
  },
  {
   "cell_type": "code",
   "execution_count": 37,
   "id": "ef070836",
   "metadata": {},
   "outputs": [],
   "source": [
    "df = pd.read_csv(\"flights_preprocessed.csv\")"
   ]
  },
  {
   "cell_type": "code",
   "execution_count": 44,
   "id": "c6f8a0f9",
   "metadata": {},
   "outputs": [],
   "source": [
    "target = df['Arrival Delay']\n",
    "features = df.drop(['Arrival Delay'] , axis=1)\n",
    "features_train, features_valid, target_train, target_valid = train_test_split(features, target, test_size=0.25, random_state=12345)"
   ]
  },
  {
   "cell_type": "markdown",
   "id": "cb1b2da1-230e-494d-b795-9f477250a783",
   "metadata": {},
   "source": [
    "# MSE"
   ]
  },
  {
   "cell_type": "raw",
   "id": "67a3fe1e-989b-4d5c-9094-8996d494d800",
   "metadata": {},
   "source": [
    "MSE (Mean Squared Error - Среднеквадратичная ошибка)\n",
    "Что измеряет: Среднее арифметическое квадратов разниц между предсказанными значениями модели (ŷ_i) и реальными значениями (y_i).\n",
    "Формула:\n",
    "MSE = (1/n) * Σ(y_i - ŷ_i)²\n",
    "Всегда неотрицательна: Чем ближе к 0, тем лучше модель."
   ]
  },
  {
   "cell_type": "markdown",
   "id": "f09049b4-3892-43f4-997e-b622cafbf97a",
   "metadata": {},
   "source": [
    "# R^2"
   ]
  },
  {
   "cell_type": "raw",
   "id": "1bca5ae9-b5ce-45ad-a6aa-59e5eaae69e3",
   "metadata": {},
   "source": [
    "Что измеряет: Долю дисперсии целевой переменной y, которая объясняется моделью. Показывает, насколько модель лучше простого предсказания средним значением (ȳ).\n",
    "\n",
    "Формула:\n",
    "R² = 1 - (SS_res / SS_tot):\n",
    "\n",
    "SS_res (Sum of Squares Residual) = Σ(y_i - ŷ_i)² - Сумма квадратов остатков (ошибок модели).\n",
    "SS_tot (Total Sum of Squares) = Σ(y_i - ȳ)² - Общая сумма квадратов (ошибок модели, которая всегда предсказывает среднее).\n",
    "\n",
    "Интерпретация:\n",
    "Диапазон: От -∞ до 1.\n",
    "R² = 1: Идеальное предсказание (все точки лежат на линии модели). SS_res = 0.\n",
    "R² = 0: Модель не лучше предсказания средним значением. Модель объясняет 0% дисперсии. (SS_res = SS_tot).\n",
    "R² < 0: Модель хуже предсказания средним значением. Возникает при очень плохой модели (SS_res > SS_tot)."
   ]
  },
  {
   "cell_type": "code",
   "execution_count": 47,
   "id": "fd7a7426",
   "metadata": {},
   "outputs": [
    {
     "name": "stdout",
     "output_type": "stream",
     "text": [
      "MSE = 2129.82405285553\n",
      "RMSE = 46.15001682400051\n"
     ]
    }
   ],
   "source": [
    "model = LinearRegression().fit(features_train,target_train)\n",
    "predicted_valid = model.predict(features_valid)\n",
    "mse = mean_squared_error(target_valid,predicted_valid)\n",
    "print(f\"MSE = {mse}\")\n",
    "print(f\"RMSE = {mse ** 0.5}\")"
   ]
  },
  {
   "cell_type": "code",
   "execution_count": 50,
   "id": "034ac584",
   "metadata": {},
   "outputs": [
    {
     "name": "stdout",
     "output_type": "stream",
     "text": [
      "0.09710497146204955\n"
     ]
    }
   ],
   "source": [
    "r2 = r2_score(target_valid,predicted_valid)\n",
    "print(r2)"
   ]
  },
  {
   "cell_type": "code",
   "execution_count": 53,
   "id": "c52263f5",
   "metadata": {},
   "outputs": [
    {
     "name": "stdout",
     "output_type": "stream",
     "text": [
      "0.03815576840207502 0.03768017026017112 1\n",
      "0.06921492812012076 0.06856965849959018 2\n",
      "0.08932438614183691 0.08748649651553397 3\n",
      "0.11093938161788508 0.10081946972118772 4\n",
      "0.13077434926024079 0.11408509823727742 5\n",
      "0.15573373775938515 0.12663922748019418 6\n",
      "0.1867114143329418 0.13882629616679 7\n",
      "0.22553804990743154 0.1505472428938046 8\n",
      "0.27122804939304745 0.15858814679139244 9\n",
      "0.32301140277147744 0.1624622902088042 10\n",
      "0.3784551354930391 0.16447073084035702 11\n",
      "0.43399599734071415 0.16455159363220306 12\n",
      "0.49065430476831606 0.16155033528060292 13\n",
      "0.5447308656763564 0.15832784317965753 14\n",
      "0.5947879439607966 0.15480539457763154 15\n"
     ]
    }
   ],
   "source": [
    "for i in range(1,16,1):\n",
    "    model = RandomForestRegressor(random_state=12345, max_depth=i)\n",
    "    model.fit(features_train, target_train)\n",
    "    train_score = model.score(features_train,target_train)\n",
    "    valid_score = model.score(features_valid, target_valid)\n",
    "    print(train_score, valid_score, i)"
   ]
  },
  {
   "cell_type": "code",
   "execution_count": 56,
   "id": "1854d721",
   "metadata": {},
   "outputs": [
    {
     "name": "stdout",
     "output_type": "stream",
     "text": [
      "0.16455159363220306\n",
      "CPU times: total: 18.5 s\n",
      "Wall time: 18.6 s\n"
     ]
    }
   ],
   "source": [
    "%%time\n",
    "model = RandomForestRegressor(n_estimators=100,  max_depth=12, random_state=12345)\n",
    "model.fit(features_train, target_train)\n",
    "predicted_valid = model.predict(features_valid)\n",
    "r2 = r2_score(target_valid,predicted_valid)\n",
    "print(r2)\n"
   ]
  },
  {
   "cell_type": "code",
   "execution_count": 62,
   "id": "a20095cb",
   "metadata": {},
   "outputs": [],
   "source": [
    "def mae(target,predictions):\n",
    "    error = 0\n",
    "    for i in range(target.shape[0]):\n",
    "        error += abs(target[i] - predictions[i])\n",
    "    return error/target.shape[0]"
   ]
  },
  {
   "cell_type": "code",
   "execution_count": 63,
   "id": "7dad6173",
   "metadata": {},
   "outputs": [
    {
     "name": "stdout",
     "output_type": "stream",
     "text": [
      "0.17500000000000004\n"
     ]
    }
   ],
   "source": [
    "target = pd.Series([-0.5, 2.1, 1.5, 0.3])\n",
    "predictions = pd.Series([-0.6, 1.7, 1.6, 0.2])\n",
    "print(mae(target, predictions))"
   ]
  },
  {
   "cell_type": "code",
   "execution_count": 67,
   "id": "9e31723f",
   "metadata": {},
   "outputs": [
    {
     "name": "stdout",
     "output_type": "stream",
     "text": [
      "25.47745895064548\n"
     ]
    }
   ],
   "source": [
    "mae_formula = mean_absolute_error(target_valid, predicted_valid)  ## max_depth = 12\n",
    "print(mae_formula)"
   ]
  },
  {
   "cell_type": "code",
   "execution_count": 68,
   "id": "52085867",
   "metadata": {},
   "outputs": [
    {
     "name": "stdout",
     "output_type": "stream",
     "text": [
      "27.22281548413595\n"
     ]
    }
   ],
   "source": [
    "predicted_valid1 = pd.Series(target_train.median(), index = target_valid.index) ## для медианы\n",
    "mae_formula = mean_absolute_error(target_valid, predicted_valid1)\n",
    "print(mae_formula)"
   ]
  },
  {
   "cell_type": "code",
   "execution_count": 69,
   "id": "a1d696ed",
   "metadata": {},
   "outputs": [
    {
     "name": "stdout",
     "output_type": "stream",
     "text": [
      "27.436250978085894\n"
     ]
    }
   ],
   "source": [
    "model = LinearRegression()\n",
    "model.fit(features_train, target_train)\n",
    "predictions_valid = model.predict(features_valid)\n",
    "\n",
    "print(mean_absolute_error(target_valid, predictions_valid)) "
   ]
  },
  {
   "cell_type": "code",
   "execution_count": null,
   "id": "d7cb555b",
   "metadata": {},
   "outputs": [],
   "source": []
  },
  {
   "cell_type": "code",
   "execution_count": 89,
   "id": "35cc67f9",
   "metadata": {},
   "outputs": [
    {
     "name": "stdout",
     "output_type": "stream",
     "text": [
      "25.720627171113502 10\n",
      "25.573148934738114 20\n",
      "25.557784475337105 30\n",
      "25.545920866528466 40\n",
      "25.536218445193832 50\n",
      "25.516633641960627 60\n",
      "25.521262429946418 70\n",
      "25.53200420061982 80\n",
      "25.52338960838184 90\n"
     ]
    }
   ],
   "source": [
    "best_mae = 10000 \n",
    "best_depth = 0\n",
    "for i in range(10,100,10):\n",
    "    model = RandomForestRegressor(n_estimators = i, max_depth= 11, random_state=12345)\n",
    "    model.fit(features_train,target_train)\n",
    "    predict = pd.Series()\n",
    "    mae = mean_absolute_error(target_valid, predict)\n",
    "    print(mae, i)"
   ]
  },
  {
   "cell_type": "code",
   "execution_count": 85,
   "id": "66f27b05",
   "metadata": {},
   "outputs": [
    {
     "name": "stdout",
     "output_type": "stream",
     "text": [
      "23.358086544726298 25.53200420061982\n"
     ]
    }
   ],
   "source": [
    "model = RandomForestRegressor(n_estimators = 80, max_depth= 11, random_state=12345)\n",
    "model.fit(features_train,target_train)\n",
    "predictions_train = model.predict(features_train)\n",
    "predictions_valid  = model.predict(features_valid)\n",
    "print(mean_absolute_error(target_train,predictions_train),mean_absolute_error(target_valid,predictions_valid))"
   ]
  },
  {
   "cell_type": "code",
   "execution_count": null,
   "id": "1416a3c7",
   "metadata": {},
   "outputs": [],
   "source": []
  }
 ],
 "metadata": {
  "kernelspec": {
   "display_name": "Python 3 (ipykernel)",
   "language": "python",
   "name": "python3"
  },
  "language_info": {
   "codemirror_mode": {
    "name": "ipython",
    "version": 3
   },
   "file_extension": ".py",
   "mimetype": "text/x-python",
   "name": "python",
   "nbconvert_exporter": "python",
   "pygments_lexer": "ipython3",
   "version": "3.13.3"
  }
 },
 "nbformat": 4,
 "nbformat_minor": 5
}
