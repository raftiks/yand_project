import pandas as pd 
from sklearn.model_selection import train_test_split
from sklearn.ensemble import RandomForestClassifier
from sklearn.metrics import accuracy_score
from sklearn.metrics import recall_score
from sklearn.metrics import precision_score
from sklearn.metrics import f1_score
from sklearn.model_selection import GridSearchCV
from sklearn.metrics import roc_curve
from sklearn.metrics import roc_auc_score
import matplotlib.pyplot as plt
import numpy as np 


df = pd.read_csv("Churn.csv")


df.head()


data_ohe = pd.get_dummies(df, drop_first=True, dtype=int )


data_ohe


df.dtypes


target = data_ohe["Exited"]
features = data_ohe.drop("Exited", axis = 1)
train_val_features, test_features, train_val_target, test_target =  train_test_split(features,target, test_size=0.2, random_state=12345)
train_features, valid_features, train_target, valid_target =  train_test_split(train_val_features,train_val_target, test_size=0.25, random_state=12345)


print([test_features.shape,train_features.shape, valid_features.shape ])


model = RandomForestClassifier(n_estimators=100, max_depth= 10, random_state=12345)
model.fit(train_features, train_target)
prediction = model.predict(valid_features)
accuracy = accuracy_score(valid_target, prediction)
f1 = f1_score(valid_target, prediction)
print(accuracy, f1)


model = RandomForestClassifier(n_estimators=100, max_depth= 10, random_state=12345)
model.fit(train_features, train_target)
prediction = model.predict(valid_features)
accuracy = accuracy_score(valid_target, prediction)
print(accuracy)


best_f1 = 0 
best_depth = 0
best_est = 0
for i in range(10,200, 20):
        model = RandomForestClassifier(n_estimators=i, max_depth= 9, random_state=12345, class_weight='balanced')
        model.fit(train_features, train_target)
        prediction = model.predict(valid_features)
        f1 = f1_score(valid_target, prediction)
        if f1 > best_f1:
            best_f1 = f1 
            best_depth = 9 
            best_est = i
print(f"max f1:{best_f1}, лушая высота: {best_depth}, лучшая est: {best_est}")


model = RandomForestClassifier(n_estimators=100, max_depth= 10, random_state=12345, class_weight='balanced')
model.fit(train_features, train_target)
prediction = model.predict(test_features)
accuracy = accuracy_score(test_target, prediction)
f1 = f1_score(test_target,prediction)
print(accuracy,f1)


param_grid = {
    'n_estimators': [50, 100, 150, 200, 250],
    'max_depth': [5, 7, 9, 11, 13, 15],
    'min_samples_split': [2, 5, 10],
    'class_weight': ['balanced', {0:1, 1:3}]
}

model = RandomForestClassifier(random_state=12345)
grid_search = GridSearchCV(model, param_grid, scoring='f1', cv=5)
grid_search.fit(train_features, train_target)
prediction = model.predict(valid_features)
f1 = f1_score(valid_target, prediction)

print(f1)


model = RandomForestClassifier(n_estimators=160, max_depth= 9, random_state=12345, class_weight='balanced')
model.fit(train_features, train_target)
prediction = model.predict(test_features)
probs = model.predict_proba(test_features)[:, 1]

best_f1 = 0
best_threshold = 0.5

for threshold in np.arange(0.3, 0.7, 0.01):
    preds = (probs > threshold).astype(int)
    current_f1 = f1_score(test_target, preds)
    if current_f1 > best_f1:
        best_f1 = current_f1
        best_threshold = threshold
print(best_f1, best_threshold)


model = RandomForestClassifier(n_estimators=160, max_depth= 9, random_state=12345, class_weight='balanced')
model.fit(train_features, train_target)
prediction = model.predict(valid_features)
probs = model.predict_proba(valid_features)[:, 1]


probabilities_test = model.predict_proba(test_features)
fpr,tpr,thresholds = roc_curve(test_target, probabilities_test[:, 1])
plt.figure()
plt.plot([0, 1], [0, 1], linestyle='--')
plt.plot(fpr,tpr)
plt.xlim([0.0, 1.0])
plt.ylim([0.0, 1.0])
plt.xlabel("False Positive Rate")
plt.ylabel('True Positive Rate')
plt.title('ROC-кривая')
plt.show()


print(roc_auc_score(test_target, probabilities_test[:, 1]))



