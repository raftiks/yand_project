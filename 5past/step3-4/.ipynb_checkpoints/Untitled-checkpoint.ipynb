{
 "cells": [
  {
   "cell_type": "code",
   "execution_count": 23,
   "id": "730af721",
   "metadata": {},
   "outputs": [],
   "source": [
    "import pandas as pd \n",
    "from sklearn.model_selection import train_test_split\n",
    "from sklearn.metrics import accuracy_score\n",
    "from sklearn.tree import DecisionTreeClassifier"
   ]
  },
  {
   "cell_type": "code",
   "execution_count": 11,
   "id": "8321d5c1",
   "metadata": {},
   "outputs": [],
   "source": [
    "df = pd.read_csv(\"train_data.csv\")"
   ]
  },
  {
   "cell_type": "code",
   "execution_count": 12,
   "id": "8d94af96",
   "metadata": {},
   "outputs": [],
   "source": [
    "df.loc[df['last_price'] > 5650000, 'price_class'] = 1\n",
    "df.loc[df['last_price'] <= 5650000, 'price_class'] = 0"
   ]
  },
  {
   "cell_type": "markdown",
   "id": "99798bbb",
   "metadata": {},
   "source": [
    "# Деление на две выборки"
   ]
  },
  {
   "cell_type": "markdown",
   "id": "c6f4f778",
   "metadata": {},
   "source": [
    "Валидационная выборка — это 25% исходных данных. Как её извлечь?\n",
    "В sklearn для этого предусмотрена функция train_test_split Прежде чем разделить набор данных, нужно указать два параметра:\n",
    "Название набора, данные которого делим;\n",
    "Размер валидационной выборки (test_size). Выражается в долях — от 0 до 1. В нашем примере test_size=0.25, поскольку работаем с 25% исходных данных."
   ]
  },
  {
   "cell_type": "code",
   "execution_count": 13,
   "id": "aa82163d",
   "metadata": {},
   "outputs": [],
   "source": [
    "df_train, df_valid = train_test_split(df, test_size=0.25, random_state=12345) #разбили на две выборки"
   ]
  },
  {
   "cell_type": "code",
   "execution_count": 14,
   "id": "b79d8bef",
   "metadata": {},
   "outputs": [],
   "source": [
    "features_valid = df_valid.drop([\"last_price\",\"price_class\"], axis = 1)\n",
    "target_valid = df_valid[\"price_class\"]"
   ]
  },
  {
   "cell_type": "code",
   "execution_count": 15,
   "id": "4c5083bc",
   "metadata": {},
   "outputs": [],
   "source": [
    "features_train = df_train.drop(['last_price', 'price_class'], axis=1)\n",
    "target_train = df_train[\"price_class\"]"
   ]
  },
  {
   "cell_type": "code",
   "execution_count": 16,
   "id": "82f15024",
   "metadata": {},
   "outputs": [
    {
     "data": {
      "text/plain": [
       "(4871, 13)"
      ]
     },
     "execution_count": 16,
     "metadata": {},
     "output_type": "execute_result"
    }
   ],
   "source": [
    "features_train.shape"
   ]
  },
  {
   "cell_type": "code",
   "execution_count": 17,
   "id": "82f7cd35",
   "metadata": {},
   "outputs": [
    {
     "data": {
      "text/plain": [
       "(4871,)"
      ]
     },
     "execution_count": 17,
     "metadata": {},
     "output_type": "execute_result"
    }
   ],
   "source": [
    "target_train.shape"
   ]
  },
  {
   "cell_type": "code",
   "execution_count": 18,
   "id": "b818580e",
   "metadata": {},
   "outputs": [
    {
     "data": {
      "text/plain": [
       "(1624, 13)"
      ]
     },
     "execution_count": 18,
     "metadata": {},
     "output_type": "execute_result"
    }
   ],
   "source": [
    "features_valid.shape"
   ]
  },
  {
   "cell_type": "code",
   "execution_count": 20,
   "id": "73c30fb7",
   "metadata": {},
   "outputs": [
    {
     "data": {
      "text/plain": [
       "(1624,)"
      ]
     },
     "execution_count": 20,
     "metadata": {},
     "output_type": "execute_result"
    }
   ],
   "source": [
    "target_valid.shape"
   ]
  },
  {
   "cell_type": "markdown",
   "id": "1749cda2",
   "metadata": {},
   "source": [
    "# Гиперпараметры\n",
    "Помимо обычных параметров, есть ещё гиперпараметры, настройки алгоритмов обучения. В решающем дереве, например, это максимальная глубина или выбор критерия — Джини либо энтропийного. Гиперпараметры помогают улучшить модель"
   ]
  },
  {
   "cell_type": "markdown",
   "id": "da70539d",
   "metadata": {},
   "source": [
    "min_samples_split -  Этот гиперпараметр запрещает создавать узлы, в которые попадает слишком мало объектов обучающей выборки.\n",
    "min_samples_leaf - Листья — это нижние узлы с ответами. А гиперпараметр не разрешает создавать лист, в котором слишком мало объектов обучающей выборки. Значения гиперпараметров установлены по умолчанию, вы можете их не прописывать или, наоборот, поменять все."
   ]
  },
  {
   "cell_type": "code",
   "execution_count": 36,
   "id": "1a85598b",
   "metadata": {},
   "outputs": [
    {
     "name": "stdout",
     "output_type": "stream",
     "text": [
      "max_depth = 1: 0.8522167487684729\n",
      "max_depth = 2: 0.8522167487684729\n",
      "max_depth = 3: 0.8466748768472906\n",
      "max_depth = 4: 0.8725369458128078\n",
      "max_depth = 5: 0.8663793103448276\n"
     ]
    }
   ],
   "source": [
    "for i in range(1,6):\n",
    "    model = DecisionTreeClassifier(max_depth=i, random_state=12345)\n",
    "    model.fit(features_train, target_train) #обучаем по обучаемым данным\n",
    "    prediction_valid = model.predict(features_valid)\n",
    "    accuracy = accuracy_score(target_valid, prediction_valid)\n",
    "    print(f\"max_depth = {i}: {accuracy}\")\n",
    "    "
   ]
  },
  {
   "cell_type": "markdown",
   "id": "11cc4140",
   "metadata": {},
   "source": [
    "# Случайный лес \n",
    "Алгоритм обучает большое количество независимых друг от друга деревьев, а потом принимает решение на основе голосования. Случайный лес помогает улучшить результат предсказания и избежать переобучения."
   ]
  },
  {
   "cell_type": "code",
   "execution_count": null,
   "id": "8c1a41d9",
   "metadata": {},
   "outputs": [],
   "source": [
    "Алгоритм обучает большое количество независимых друг от друга деревьев, а потом принимает решение на основе голосования. Случайный лес помогает улучшить результат предсказания и избежать переобучения."
   ]
  }
 ],
 "metadata": {
  "kernelspec": {
   "display_name": "Python 3 (ipykernel)",
   "language": "python",
   "name": "python3"
  },
  "language_info": {
   "codemirror_mode": {
    "name": "ipython",
    "version": 3
   },
   "file_extension": ".py",
   "mimetype": "text/x-python",
   "name": "python",
   "nbconvert_exporter": "python",
   "pygments_lexer": "ipython3",
   "version": "3.11.5"
  }
 },
 "nbformat": 4,
 "nbformat_minor": 5
}
