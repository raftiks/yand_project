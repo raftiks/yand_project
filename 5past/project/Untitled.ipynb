{
 "cells": [
  {
   "cell_type": "code",
   "execution_count": 2,
   "id": "1073536c",
   "metadata": {},
   "outputs": [
    {
     "ename": "NameError",
     "evalue": "name 'df' is not defined",
     "output_type": "error",
     "traceback": [
      "\u001b[31m---------------------------------------------------------------------------\u001b[39m",
      "\u001b[31mNameError\u001b[39m                                 Traceback (most recent call last)",
      "\u001b[36mCell\u001b[39m\u001b[36m \u001b[39m\u001b[32mIn[2]\u001b[39m\u001b[32m, line 1\u001b[39m\n\u001b[32m----> \u001b[39m\u001b[32m1\u001b[39m \u001b[43mdf\u001b[49m.head()\n",
      "\u001b[31mNameError\u001b[39m: name 'df' is not defined"
     ]
    }
   ],
   "source": [
    "df.head()"
   ]
  },
  {
   "cell_type": "code",
   "execution_count": 3,
   "id": "d07df6e9",
   "metadata": {},
   "outputs": [
    {
     "ename": "ModuleNotFoundError",
     "evalue": "No module named 'sklearn'",
     "output_type": "error",
     "traceback": [
      "\u001b[31m---------------------------------------------------------------------------\u001b[39m",
      "\u001b[31mModuleNotFoundError\u001b[39m                       Traceback (most recent call last)",
      "\u001b[36mCell\u001b[39m\u001b[36m \u001b[39m\u001b[32mIn[3]\u001b[39m\u001b[32m, line 2\u001b[39m\n\u001b[32m      1\u001b[39m \u001b[38;5;28;01mimport\u001b[39;00m\u001b[38;5;250m \u001b[39m\u001b[34;01mpandas\u001b[39;00m\u001b[38;5;250m \u001b[39m\u001b[38;5;28;01mas\u001b[39;00m\u001b[38;5;250m \u001b[39m\u001b[34;01mpd\u001b[39;00m \n\u001b[32m----> \u001b[39m\u001b[32m2\u001b[39m \u001b[38;5;28;01mfrom\u001b[39;00m\u001b[38;5;250m \u001b[39m\u001b[34;01msklearn\u001b[39;00m\u001b[34;01m.\u001b[39;00m\u001b[34;01mmodel_selection\u001b[39;00m\u001b[38;5;250m \u001b[39m\u001b[38;5;28;01mimport\u001b[39;00m train_test_split\n\u001b[32m      3\u001b[39m \u001b[38;5;28;01mfrom\u001b[39;00m\u001b[38;5;250m \u001b[39m\u001b[34;01msklearn\u001b[39;00m\u001b[34;01m.\u001b[39;00m\u001b[34;01mtree\u001b[39;00m\u001b[38;5;250m \u001b[39m\u001b[38;5;28;01mimport\u001b[39;00m DecisionTreeClassifier\n\u001b[32m      4\u001b[39m \u001b[38;5;28;01mfrom\u001b[39;00m\u001b[38;5;250m \u001b[39m\u001b[34;01msklearn\u001b[39;00m\u001b[34;01m.\u001b[39;00m\u001b[34;01mmetrics\u001b[39;00m\u001b[38;5;250m \u001b[39m\u001b[38;5;28;01mimport\u001b[39;00m accuracy_score\n",
      "\u001b[31mModuleNotFoundError\u001b[39m: No module named 'sklearn'"
     ]
    }
   ],
   "source": [
    "import pandas as pd \n",
    "from sklearn.model_selection import train_test_split\n",
    "from sklearn.tree import DecisionTreeClassifier\n",
    "from sklearn.metrics import accuracy_score\n",
    "from sklearn.linear_model import LogisticRegression\n",
    "from sklearn.ensemble import RandomForestClassifier"
   ]
  },
  {
   "cell_type": "code",
   "execution_count": 2,
   "id": "dfc33920",
   "metadata": {},
   "outputs": [],
   "source": [
    "df = pd.read_csv(\"users_behavior.csv\")"
   ]
  },
  {
   "cell_type": "code",
   "execution_count": 4,
   "id": "72100a5b",
   "metadata": {},
   "outputs": [],
   "source": [
    "target_score = df[\"is_ultra\"]"
   ]
  },
  {
   "cell_type": "code",
   "execution_count": 12,
   "id": "f9845945",
   "metadata": {},
   "outputs": [],
   "source": [
    "features = df.drop(\"is_ultra\", axis=1) "
   ]
  },
  {
   "cell_type": "code",
   "execution_count": 8,
   "id": "ac0a30da",
   "metadata": {},
   "outputs": [
    {
     "data": {
      "text/plain": [
       "0       0\n",
       "1       0\n",
       "2       0\n",
       "3       1\n",
       "4       0\n",
       "       ..\n",
       "3209    1\n",
       "3210    0\n",
       "3211    0\n",
       "3212    0\n",
       "3213    1\n",
       "Name: is_ultra, Length: 3214, dtype: int64"
      ]
     },
     "execution_count": 8,
     "metadata": {},
     "output_type": "execute_result"
    }
   ],
   "source": [
    "target_score"
   ]
  },
  {
   "cell_type": "markdown",
   "id": "6cefbdba",
   "metadata": {},
   "source": [
    "Первое разделение на обучающую+валидационную и тестовую выборки"
   ]
  },
  {
   "cell_type": "code",
   "execution_count": 67,
   "id": "e047911f",
   "metadata": {},
   "outputs": [],
   "source": [
    "train_val_features, test_features, train_val_target_score, test_target_score = train_test_split(features,target_score,test_size=0.2, random_state=12345)"
   ]
  },
  {
   "cell_type": "markdown",
   "id": "ef7c0929",
   "metadata": {},
   "source": [
    "второе разделение на обучающию и валидационную, т.к там 0.8 от всех данных значит test_size = 0.25"
   ]
  },
  {
   "cell_type": "code",
   "execution_count": 68,
   "id": "2c5788e6",
   "metadata": {},
   "outputs": [],
   "source": [
    "train_features, val_features, train_target_score, val_target_score= train_test_split(train_val_features,train_val_target_score, test_size=0.25, random_state=12345)"
   ]
  },
  {
   "cell_type": "code",
   "execution_count": 52,
   "id": "ef09a9bb",
   "metadata": {
    "scrolled": true
   },
   "outputs": [
    {
     "data": {
      "text/plain": [
       "571     0\n",
       "2356    0\n",
       "2202    0\n",
       "94      0\n",
       "2677    0\n",
       "       ..\n",
       "1178    0\n",
       "2162    0\n",
       "2778    1\n",
       "1339    0\n",
       "3091    1\n",
       "Name: is_ultra, Length: 643, dtype: int64"
      ]
     },
     "execution_count": 52,
     "metadata": {},
     "output_type": "execute_result"
    }
   ],
   "source": [
    "test_target_score"
   ]
  },
  {
   "cell_type": "code",
   "execution_count": 1,
   "id": "0dc0a009",
   "metadata": {},
   "outputs": [
    {
     "ename": "NameError",
     "evalue": "name 'val_target_score' is not defined",
     "output_type": "error",
     "traceback": [
      "\u001b[31m---------------------------------------------------------------------------\u001b[39m",
      "\u001b[31mNameError\u001b[39m                                 Traceback (most recent call last)",
      "\u001b[36mCell\u001b[39m\u001b[36m \u001b[39m\u001b[32mIn[1]\u001b[39m\u001b[32m, line 1\u001b[39m\n\u001b[32m----> \u001b[39m\u001b[32m1\u001b[39m \u001b[43mval_target_score\u001b[49m\n",
      "\u001b[31mNameError\u001b[39m: name 'val_target_score' is not defined"
     ]
    }
   ],
   "source": [
    "val_target_score"
   ]
  },
  {
   "cell_type": "code",
   "execution_count": 30,
   "id": "a96f37c6",
   "metadata": {},
   "outputs": [
    {
     "name": "stdout",
     "output_type": "stream",
     "text": [
      "Лучшая accuracy: 0.7744945567651633, высота: 7\n"
     ]
    }
   ],
   "source": [
    "best_result = 0\n",
    "best_depth = 0\n",
    "for i in range(1,8):\n",
    "    model = DecisionTreeClassifier(random_state=12345, max_depth=i)\n",
    "    model.fit(train_features,train_target_score)\n",
    "    predictions = model.predict(val_features)\n",
    "    accuracy = model.score(val_features, val_target_score)\n",
    "    if accuracy > best_result:\n",
    "        best_result = accuracy\n",
    "        best_depth = i \n",
    "print(f\"Лучшая accuracy: {best_result}, высота: {best_depth}\")"
   ]
  },
  {
   "cell_type": "code",
   "execution_count": 40,
   "id": "8a9f0303",
   "metadata": {},
   "outputs": [
    {
     "name": "stdout",
     "output_type": "stream",
     "text": [
      "Лучшая accuracy: 0.7262830482115086, лучшая модель c шагом: 1\n"
     ]
    }
   ],
   "source": [
    "best_result = 0\n",
    "best_model = 0\n",
    "for i in range(1,40):\n",
    "    model = LogisticRegression(random_state=12345, solver='lbfgs', max_iter=10000)\n",
    "    model.fit(train_features,train_target_score)\n",
    "    accuracy = model.score(val_features, val_target_score)\n",
    "    if accuracy > best_result:\n",
    "        best_result = accuracy\n",
    "        best_model = i\n",
    "        \n",
    "print(f\"Лучшая accuracy: {best_result}, лучшая модель c шагом: {best_model}\")"
   ]
  },
  {
   "cell_type": "code",
   "execution_count": 78,
   "id": "d16d9367",
   "metadata": {},
   "outputs": [
    {
     "name": "stdout",
     "output_type": "stream",
     "text": [
      "Лучшая accuracy: 0.7947122861586314, число деревьев: 10, высота: 9, RandomForestClassifier(max_depth=9, n_estimators=10, random_state=12345)\n"
     ]
    }
   ],
   "source": [
    "best_result = 0\n",
    "best_model = None\n",
    "best_depth = 0\n",
    "best_est = 0\n",
    "all_accuracy = []\n",
    "estemitors = []\n",
    "for est in range(10,101,10):\n",
    "     for depth in range(1,10):\n",
    "        model = RandomForestClassifier(random_state=12345, max_depth=depth, n_estimators = est)\n",
    "        model.fit(train_features,train_target_score)\n",
    "        accuracy = model.score(val_features, val_target_score)\n",
    "        all_accuracy.append(accuracy)\n",
    "        estemitors.append(est)\n",
    "        if accuracy > best_result:\n",
    "            best_result = accuracy\n",
    "            best_model = model\n",
    "            best_depth = depth\n",
    "            best_est = est\n",
    "            \n",
    "        \n",
    "print(f\"Лучшая accuracy: {best_result}, число деревьев: {best_est}, высота: {best_depth}, {best_model}\")"
   ]
  },
  {
   "cell_type": "raw",
   "id": "7ed677d2",
   "metadata": {},
   "source": [
    "самая оптимальная будет модель RandomForest т.к ближе к 1 \n",
    "проверим ее на тестовой выборке"
   ]
  },
  {
   "cell_type": "code",
   "execution_count": 70,
   "id": "3ecf6bb5",
   "metadata": {},
   "outputs": [
    {
     "name": "stdout",
     "output_type": "stream",
     "text": [
      "(0.7947122861586314, 0.8765560165975104)\n"
     ]
    }
   ],
   "source": [
    "model = RandomForestClassifier(random_state=12345, max_depth=9, n_estimators = 10)\n",
    "model.fit(train_features, train_target_score)\n",
    "predictions = model.predict(train_features)\n",
    "accuracy1 = model.score(test_features, test_target_score)\n",
    "accuracy2 = accuracy_score(train_target_score, predictions)\n",
    "print((accuracy1,accuracy2))"
   ]
  },
  {
   "cell_type": "code",
   "execution_count": 84,
   "id": "a31b69b8",
   "metadata": {},
   "outputs": [],
   "source": [
    "all_accuracy.sort()"
   ]
  },
  {
   "cell_type": "code",
   "execution_count": 85,
   "id": "f06aeb5f",
   "metadata": {},
   "outputs": [
    {
     "data": {
      "text/plain": [
       "[0.7309486780715396,\n",
       " 0.7325038880248833,\n",
       " 0.7387247278382582,\n",
       " 0.7387247278382582,\n",
       " 0.7465007776049767,\n",
       " 0.76049766718507,\n",
       " 0.76049766718507,\n",
       " 0.76049766718507,\n",
       " 0.76049766718507,\n",
       " 0.76049766718507,\n",
       " 0.76049766718507,\n",
       " 0.7620528771384136,\n",
       " 0.7620528771384136,\n",
       " 0.7620528771384136,\n",
       " 0.7620528771384136,\n",
       " 0.7620528771384136,\n",
       " 0.7620528771384136,\n",
       " 0.7620528771384136,\n",
       " 0.7620528771384136,\n",
       " 0.7636080870917574,\n",
       " 0.7667185069984448,\n",
       " 0.7682737169517885,\n",
       " 0.7682737169517885,\n",
       " 0.7682737169517885,\n",
       " 0.7698289269051322,\n",
       " 0.7713841368584758,\n",
       " 0.7713841368584758,\n",
       " 0.7713841368584758,\n",
       " 0.7713841368584758,\n",
       " 0.7713841368584758,\n",
       " 0.7713841368584758,\n",
       " 0.7713841368584758,\n",
       " 0.7729393468118196,\n",
       " 0.7729393468118196,\n",
       " 0.7729393468118196,\n",
       " 0.7744945567651633,\n",
       " 0.776049766718507,\n",
       " 0.776049766718507,\n",
       " 0.7776049766718507,\n",
       " 0.7776049766718507,\n",
       " 0.7776049766718507,\n",
       " 0.7791601866251944,\n",
       " 0.7791601866251944,\n",
       " 0.7791601866251944,\n",
       " 0.7791601866251944,\n",
       " 0.7791601866251944,\n",
       " 0.7791601866251944,\n",
       " 0.7791601866251944,\n",
       " 0.7791601866251944,\n",
       " 0.7791601866251944,\n",
       " 0.7807153965785381,\n",
       " 0.7807153965785381,\n",
       " 0.7807153965785381,\n",
       " 0.7807153965785381,\n",
       " 0.7807153965785381,\n",
       " 0.7807153965785381,\n",
       " 0.7807153965785381,\n",
       " 0.7807153965785381,\n",
       " 0.7807153965785381,\n",
       " 0.7822706065318819,\n",
       " 0.7822706065318819,\n",
       " 0.7838258164852255,\n",
       " 0.7838258164852255,\n",
       " 0.7838258164852255,\n",
       " 0.7838258164852255,\n",
       " 0.7838258164852255,\n",
       " 0.7853810264385692,\n",
       " 0.7853810264385692,\n",
       " 0.7853810264385692,\n",
       " 0.7853810264385692,\n",
       " 0.7853810264385692,\n",
       " 0.7853810264385692,\n",
       " 0.7853810264385692,\n",
       " 0.7853810264385692,\n",
       " 0.7869362363919129,\n",
       " 0.7869362363919129,\n",
       " 0.7869362363919129,\n",
       " 0.7869362363919129,\n",
       " 0.7869362363919129,\n",
       " 0.7869362363919129,\n",
       " 0.7869362363919129,\n",
       " 0.7884914463452566,\n",
       " 0.7884914463452566,\n",
       " 0.7884914463452566,\n",
       " 0.7884914463452566,\n",
       " 0.7900466562986003,\n",
       " 0.7900466562986003,\n",
       " 0.7916018662519441,\n",
       " 0.7916018662519441,\n",
       " 0.7947122861586314]"
      ]
     },
     "execution_count": 85,
     "metadata": {},
     "output_type": "execute_result"
    }
   ],
   "source": [
    "all_accuracy"
   ]
  },
  {
   "cell_type": "code",
   "execution_count": 80,
   "id": "b1a8673f",
   "metadata": {},
   "outputs": [
    {
     "data": {
      "text/plain": [
       "[10,\n",
       " 10,\n",
       " 10,\n",
       " 10,\n",
       " 10,\n",
       " 10,\n",
       " 10,\n",
       " 10,\n",
       " 10,\n",
       " 20,\n",
       " 20,\n",
       " 20,\n",
       " 20,\n",
       " 20,\n",
       " 20,\n",
       " 20,\n",
       " 20,\n",
       " 20,\n",
       " 30,\n",
       " 30,\n",
       " 30,\n",
       " 30,\n",
       " 30,\n",
       " 30,\n",
       " 30,\n",
       " 30,\n",
       " 30,\n",
       " 40,\n",
       " 40,\n",
       " 40,\n",
       " 40,\n",
       " 40,\n",
       " 40,\n",
       " 40,\n",
       " 40,\n",
       " 40,\n",
       " 50,\n",
       " 50,\n",
       " 50,\n",
       " 50,\n",
       " 50,\n",
       " 50,\n",
       " 50,\n",
       " 50,\n",
       " 50,\n",
       " 60,\n",
       " 60,\n",
       " 60,\n",
       " 60,\n",
       " 60,\n",
       " 60,\n",
       " 60,\n",
       " 60,\n",
       " 60,\n",
       " 70,\n",
       " 70,\n",
       " 70,\n",
       " 70,\n",
       " 70,\n",
       " 70,\n",
       " 70,\n",
       " 70,\n",
       " 70,\n",
       " 80,\n",
       " 80,\n",
       " 80,\n",
       " 80,\n",
       " 80,\n",
       " 80,\n",
       " 80,\n",
       " 80,\n",
       " 80,\n",
       " 90,\n",
       " 90,\n",
       " 90,\n",
       " 90,\n",
       " 90,\n",
       " 90,\n",
       " 90,\n",
       " 90,\n",
       " 90,\n",
       " 100,\n",
       " 100,\n",
       " 100,\n",
       " 100,\n",
       " 100,\n",
       " 100,\n",
       " 100,\n",
       " 100,\n",
       " 100]"
      ]
     },
     "execution_count": 80,
     "metadata": {},
     "output_type": "execute_result"
    }
   ],
   "source": [
    "estemitors"
   ]
  },
  {
   "cell_type": "code",
   "execution_count": 4,
   "id": "5a78427a",
   "metadata": {},
   "outputs": [
    {
     "name": "stdout",
     "output_type": "stream",
     "text": [
      "Collecting scikit-learn\n",
      "  Downloading scikit_learn-1.7.0-cp313-cp313-win_amd64.whl.metadata (14 kB)\n",
      "Requirement already satisfied: numpy>=1.22.0 in c:\\users\\tagil\\appdata\\local\\programs\\python\\python313\\lib\\site-packages (from scikit-learn) (2.2.6)\n",
      "Requirement already satisfied: scipy>=1.8.0 in c:\\users\\tagil\\appdata\\local\\programs\\python\\python313\\lib\\site-packages (from scikit-learn) (1.15.3)\n",
      "Collecting joblib>=1.2.0 (from scikit-learn)\n",
      "  Downloading joblib-1.5.1-py3-none-any.whl.metadata (5.6 kB)\n",
      "Collecting threadpoolctl>=3.1.0 (from scikit-learn)\n",
      "  Downloading threadpoolctl-3.6.0-py3-none-any.whl.metadata (13 kB)\n",
      "Downloading scikit_learn-1.7.0-cp313-cp313-win_amd64.whl (10.7 MB)\n",
      "   ---------------------------------------- 0.0/10.7 MB ? eta -:--:--\n",
      "   ---------------------------------------- 0.0/10.7 MB ? eta -:--:--\n",
      "   ---------------------------------------- 0.0/10.7 MB ? eta -:--:--\n",
      "    --------------------------------------- 0.3/10.7 MB ? eta -:--:--\n",
      "    --------------------------------------- 0.3/10.7 MB ? eta -:--:--\n",
      "   - -------------------------------------- 0.5/10.7 MB 728.3 kB/s eta 0:00:14\n",
      "   -- ------------------------------------- 0.8/10.7 MB 810.6 kB/s eta 0:00:13\n",
      "   -- ------------------------------------- 0.8/10.7 MB 810.6 kB/s eta 0:00:13\n",
      "   --- ------------------------------------ 1.0/10.7 MB 780.5 kB/s eta 0:00:13\n",
      "   ---- ----------------------------------- 1.3/10.7 MB 828.9 kB/s eta 0:00:12\n",
      "   ----- ---------------------------------- 1.6/10.7 MB 880.2 kB/s eta 0:00:11\n",
      "   ------ --------------------------------- 1.8/10.7 MB 919.8 kB/s eta 0:00:10\n",
      "   ------ --------------------------------- 1.8/10.7 MB 919.8 kB/s eta 0:00:10\n",
      "   ------- -------------------------------- 2.1/10.7 MB 912.9 kB/s eta 0:00:10\n",
      "   --------- ------------------------------ 2.6/10.7 MB 984.2 kB/s eta 0:00:09\n",
      "   ---------- ----------------------------- 2.9/10.7 MB 1.0 MB/s eta 0:00:08\n",
      "   ----------- ---------------------------- 3.1/10.7 MB 1.0 MB/s eta 0:00:08\n",
      "   ------------ --------------------------- 3.4/10.7 MB 1.0 MB/s eta 0:00:07\n",
      "   ------------- -------------------------- 3.7/10.7 MB 1.1 MB/s eta 0:00:07\n",
      "   -------------- ------------------------- 3.9/10.7 MB 1.1 MB/s eta 0:00:07\n",
      "   ---------------- ----------------------- 4.5/10.7 MB 1.2 MB/s eta 0:00:06\n",
      "   ---------------- ----------------------- 4.5/10.7 MB 1.2 MB/s eta 0:00:06\n",
      "   ------------------ --------------------- 5.0/10.7 MB 1.2 MB/s eta 0:00:05\n",
      "   ------------------- -------------------- 5.2/10.7 MB 1.2 MB/s eta 0:00:05\n",
      "   --------------------- ------------------ 5.8/10.7 MB 1.2 MB/s eta 0:00:04\n",
      "   ---------------------- ----------------- 6.0/10.7 MB 1.3 MB/s eta 0:00:04\n",
      "   ----------------------- ---------------- 6.3/10.7 MB 1.3 MB/s eta 0:00:04\n",
      "   ------------------------- -------------- 6.8/10.7 MB 1.3 MB/s eta 0:00:03\n",
      "   -------------------------- ------------- 7.1/10.7 MB 1.3 MB/s eta 0:00:03\n",
      "   ---------------------------- ----------- 7.6/10.7 MB 1.4 MB/s eta 0:00:03\n",
      "   ------------------------------ --------- 8.1/10.7 MB 1.4 MB/s eta 0:00:02\n",
      "   ------------------------------- -------- 8.4/10.7 MB 1.4 MB/s eta 0:00:02\n",
      "   --------------------------------- ------ 8.9/10.7 MB 1.4 MB/s eta 0:00:02\n",
      "   ----------------------------------- ---- 9.4/10.7 MB 1.5 MB/s eta 0:00:01\n",
      "   ------------------------------------- -- 10.0/10.7 MB 1.5 MB/s eta 0:00:01\n",
      "   ---------------------------------------  10.5/10.7 MB 1.5 MB/s eta 0:00:01\n",
      "   ---------------------------------------- 10.7/10.7 MB 1.5 MB/s eta 0:00:00\n",
      "Downloading joblib-1.5.1-py3-none-any.whl (307 kB)\n",
      "Downloading threadpoolctl-3.6.0-py3-none-any.whl (18 kB)\n",
      "Installing collected packages: threadpoolctl, joblib, scikit-learn\n",
      "Successfully installed joblib-1.5.1 scikit-learn-1.7.0 threadpoolctl-3.6.0\n",
      "Note: you may need to restart the kernel to use updated packages.\n"
     ]
    },
    {
     "name": "stderr",
     "output_type": "stream",
     "text": [
      "\n",
      "[notice] A new release of pip is available: 25.0.1 -> 25.1.1\n",
      "[notice] To update, run: python.exe -m pip install --upgrade pip\n"
     ]
    }
   ],
   "source": [
    "pip install scikit-learn"
   ]
  },
  {
   "cell_type": "code",
   "execution_count": null,
   "id": "20669c22-dbce-4849-8219-cef940f9b2a0",
   "metadata": {},
   "outputs": [],
   "source": []
  }
 ],
 "metadata": {
  "kernelspec": {
   "display_name": "Python 3 (ipykernel)",
   "language": "python",
   "name": "python3"
  },
  "language_info": {
   "codemirror_mode": {
    "name": "ipython",
    "version": 3
   },
   "file_extension": ".py",
   "mimetype": "text/x-python",
   "name": "python",
   "nbconvert_exporter": "python",
   "pygments_lexer": "ipython3",
   "version": "3.13.3"
  }
 },
 "nbformat": 4,
 "nbformat_minor": 5
}
