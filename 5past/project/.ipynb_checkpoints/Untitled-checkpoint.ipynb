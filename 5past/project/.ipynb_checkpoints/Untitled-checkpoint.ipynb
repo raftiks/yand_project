{
 "cells": [
  {
   "cell_type": "code",
   "execution_count": 41,
   "id": "d07df6e9",
   "metadata": {},
   "outputs": [],
   "source": [
    "import pandas as pd \n",
    "from sklearn.model_selection import train_test_split\n",
    "from sklearn.tree import DecisionTreeClassifier\n",
    "from sklearn.metrics import accuracy_score\n",
    "from sklearn.linear_model import LogisticRegression\n",
    "from sklearn.ensemble import RandomForestClassifier"
   ]
  },
  {
   "cell_type": "code",
   "execution_count": 2,
   "id": "dfc33920",
   "metadata": {},
   "outputs": [],
   "source": [
    "df = pd.read_csv(\"users_behavior.csv\")"
   ]
  },
  {
   "cell_type": "code",
   "execution_count": 3,
   "id": "1073536c",
   "metadata": {},
   "outputs": [
    {
     "data": {
      "text/html": [
       "<div>\n",
       "<style scoped>\n",
       "    .dataframe tbody tr th:only-of-type {\n",
       "        vertical-align: middle;\n",
       "    }\n",
       "\n",
       "    .dataframe tbody tr th {\n",
       "        vertical-align: top;\n",
       "    }\n",
       "\n",
       "    .dataframe thead th {\n",
       "        text-align: right;\n",
       "    }\n",
       "</style>\n",
       "<table border=\"1\" class=\"dataframe\">\n",
       "  <thead>\n",
       "    <tr style=\"text-align: right;\">\n",
       "      <th></th>\n",
       "      <th>calls</th>\n",
       "      <th>minutes</th>\n",
       "      <th>messages</th>\n",
       "      <th>mb_used</th>\n",
       "      <th>is_ultra</th>\n",
       "    </tr>\n",
       "  </thead>\n",
       "  <tbody>\n",
       "    <tr>\n",
       "      <th>0</th>\n",
       "      <td>40.0</td>\n",
       "      <td>311.90</td>\n",
       "      <td>83.0</td>\n",
       "      <td>19915.42</td>\n",
       "      <td>0</td>\n",
       "    </tr>\n",
       "    <tr>\n",
       "      <th>1</th>\n",
       "      <td>85.0</td>\n",
       "      <td>516.75</td>\n",
       "      <td>56.0</td>\n",
       "      <td>22696.96</td>\n",
       "      <td>0</td>\n",
       "    </tr>\n",
       "    <tr>\n",
       "      <th>2</th>\n",
       "      <td>77.0</td>\n",
       "      <td>467.66</td>\n",
       "      <td>86.0</td>\n",
       "      <td>21060.45</td>\n",
       "      <td>0</td>\n",
       "    </tr>\n",
       "    <tr>\n",
       "      <th>3</th>\n",
       "      <td>106.0</td>\n",
       "      <td>745.53</td>\n",
       "      <td>81.0</td>\n",
       "      <td>8437.39</td>\n",
       "      <td>1</td>\n",
       "    </tr>\n",
       "    <tr>\n",
       "      <th>4</th>\n",
       "      <td>66.0</td>\n",
       "      <td>418.74</td>\n",
       "      <td>1.0</td>\n",
       "      <td>14502.75</td>\n",
       "      <td>0</td>\n",
       "    </tr>\n",
       "  </tbody>\n",
       "</table>\n",
       "</div>"
      ],
      "text/plain": [
       "   calls  minutes  messages   mb_used  is_ultra\n",
       "0   40.0   311.90      83.0  19915.42         0\n",
       "1   85.0   516.75      56.0  22696.96         0\n",
       "2   77.0   467.66      86.0  21060.45         0\n",
       "3  106.0   745.53      81.0   8437.39         1\n",
       "4   66.0   418.74       1.0  14502.75         0"
      ]
     },
     "execution_count": 3,
     "metadata": {},
     "output_type": "execute_result"
    }
   ],
   "source": [
    "df.head()"
   ]
  },
  {
   "cell_type": "code",
   "execution_count": 4,
   "id": "72100a5b",
   "metadata": {},
   "outputs": [],
   "source": [
    "target_score = df[\"is_ultra\"]"
   ]
  },
  {
   "cell_type": "code",
   "execution_count": 12,
   "id": "f9845945",
   "metadata": {},
   "outputs": [],
   "source": [
    "features = df.drop(\"is_ultra\", axis=1) "
   ]
  },
  {
   "cell_type": "code",
   "execution_count": 8,
   "id": "ac0a30da",
   "metadata": {},
   "outputs": [
    {
     "data": {
      "text/plain": [
       "0       0\n",
       "1       0\n",
       "2       0\n",
       "3       1\n",
       "4       0\n",
       "       ..\n",
       "3209    1\n",
       "3210    0\n",
       "3211    0\n",
       "3212    0\n",
       "3213    1\n",
       "Name: is_ultra, Length: 3214, dtype: int64"
      ]
     },
     "execution_count": 8,
     "metadata": {},
     "output_type": "execute_result"
    }
   ],
   "source": [
    "target_score"
   ]
  },
  {
   "cell_type": "markdown",
   "id": "6cefbdba",
   "metadata": {},
   "source": [
    "Первое разделение на обучающую+валидационную и тестовую выборки"
   ]
  },
  {
   "cell_type": "code",
   "execution_count": 67,
   "id": "e047911f",
   "metadata": {},
   "outputs": [],
   "source": [
    "train_val_features, test_features, train_val_target_score, test_target_score = train_test_split(features,target_score,test_size=0.2, random_state=12345)"
   ]
  },
  {
   "cell_type": "markdown",
   "id": "ef7c0929",
   "metadata": {},
   "source": [
    "второе разделение на обучающию и валидационную, т.к там 0.8 от всех данных значит test_size = 0.25"
   ]
  },
  {
   "cell_type": "code",
   "execution_count": 68,
   "id": "2c5788e6",
   "metadata": {},
   "outputs": [],
   "source": [
    "train_features, val_features, train_target_score, val_target_score= train_test_split(train_val_features,train_val_target_score, test_size=0.25, random_state=12345)"
   ]
  },
  {
   "cell_type": "code",
   "execution_count": 52,
   "id": "ef09a9bb",
   "metadata": {
    "scrolled": true
   },
   "outputs": [
    {
     "data": {
      "text/plain": [
       "571     0\n",
       "2356    0\n",
       "2202    0\n",
       "94      0\n",
       "2677    0\n",
       "       ..\n",
       "1178    0\n",
       "2162    0\n",
       "2778    1\n",
       "1339    0\n",
       "3091    1\n",
       "Name: is_ultra, Length: 643, dtype: int64"
      ]
     },
     "execution_count": 52,
     "metadata": {},
     "output_type": "execute_result"
    }
   ],
   "source": [
    "test_target_score"
   ]
  },
  {
   "cell_type": "code",
   "execution_count": 49,
   "id": "0dc0a009",
   "metadata": {},
   "outputs": [
    {
     "data": {
      "text/plain": [
       "2699    0\n",
       "242     1\n",
       "2854    0\n",
       "1638    0\n",
       "1632    0\n",
       "       ..\n",
       "2551    0\n",
       "1261    0\n",
       "1658    0\n",
       "353     0\n",
       "1806    0\n",
       "Name: is_ultra, Length: 643, dtype: int64"
      ]
     },
     "execution_count": 49,
     "metadata": {},
     "output_type": "execute_result"
    }
   ],
   "source": [
    "val_target_score"
   ]
  },
  {
   "cell_type": "code",
   "execution_count": 30,
   "id": "a96f37c6",
   "metadata": {},
   "outputs": [
    {
     "name": "stdout",
     "output_type": "stream",
     "text": [
      "Лучшая accuracy: 0.7744945567651633, высота: 7\n"
     ]
    }
   ],
   "source": [
    "best_result = 0\n",
    "best_depth = 0\n",
    "for i in range(1,8):\n",
    "    model = DecisionTreeClassifier(random_state=12345, max_depth=i)\n",
    "    model.fit(train_features,train_target_score)\n",
    "    predictions = model.predict(val_features)\n",
    "    accuracy = model.score(val_features, val_target_score)\n",
    "    if accuracy > best_result:\n",
    "        best_result = accuracy\n",
    "        best_depth = i \n",
    "print(f\"Лучшая accuracy: {best_result}, высота: {best_depth}\")"
   ]
  },
  {
   "cell_type": "code",
   "execution_count": 40,
   "id": "8a9f0303",
   "metadata": {},
   "outputs": [
    {
     "name": "stdout",
     "output_type": "stream",
     "text": [
      "Лучшая accuracy: 0.7262830482115086, лучшая модель c шагом: 1\n"
     ]
    }
   ],
   "source": [
    "best_result = 0\n",
    "best_model = 0\n",
    "for i in range(1,40):\n",
    "    model = LogisticRegression(random_state=12345, solver='lbfgs', max_iter=10000)\n",
    "    model.fit(train_features,train_target_score)\n",
    "    accuracy = model.score(val_features, val_target_score)\n",
    "    if accuracy > best_result:\n",
    "        best_result = accuracy\n",
    "        best_model = i\n",
    "        \n",
    "print(f\"Лучшая accuracy: {best_result}, лучшая модель c шагом: {best_model}\")"
   ]
  },
  {
   "cell_type": "code",
   "execution_count": 78,
   "id": "d16d9367",
   "metadata": {},
   "outputs": [
    {
     "name": "stdout",
     "output_type": "stream",
     "text": [
      "Лучшая accuracy: 0.7947122861586314, число деревьев: 10, высота: 9, RandomForestClassifier(max_depth=9, n_estimators=10, random_state=12345)\n"
     ]
    }
   ],
   "source": [
    "best_result = 0\n",
    "best_model = None\n",
    "best_depth = 0\n",
    "best_est = 0\n",
    "all_accuracy = []\n",
    "estemitors = []\n",
    "for est in range(10,101,10):\n",
    "     for depth in range(1,10):\n",
    "        model = RandomForestClassifier(random_state=12345, max_depth=depth, n_estimators = est)\n",
    "        model.fit(train_features,train_target_score)\n",
    "        accuracy = model.score(val_features, val_target_score)\n",
    "        all_accuracy.append(accuracy)\n",
    "        estemitors.append(est)\n",
    "        if accuracy > best_result:\n",
    "            best_result = accuracy\n",
    "            best_model = model\n",
    "            best_depth = depth\n",
    "            best_est = est\n",
    "            \n",
    "        \n",
    "print(f\"Лучшая accuracy: {best_result}, число деревьев: {best_est}, высота: {best_depth}, {best_model}\")"
   ]
  },
  {
   "cell_type": "raw",
   "id": "7ed677d2",
   "metadata": {},
   "source": [
    "самая оптимальная будет модель RandomForest т.к ближе к 1 \n",
    "проверим ее на тестовой выборке"
   ]
  },
  {
   "cell_type": "code",
   "execution_count": 70,
   "id": "3ecf6bb5",
   "metadata": {},
   "outputs": [
    {
     "name": "stdout",
     "output_type": "stream",
     "text": [
      "(0.7947122861586314, 0.8765560165975104)\n"
     ]
    }
   ],
   "source": [
    "model = RandomForestClassifier(random_state=12345, max_depth=9, n_estimators = 10)\n",
    "model.fit(train_features, train_target_score)\n",
    "predictions = model.predict(train_features)\n",
    "accuracy1 = model.score(test_features, test_target_score)\n",
    "accuracy2 = accuracy_score(train_target_score, predictions)\n",
    "print((accuracy1,accuracy2))"
   ]
  },
  {
   "cell_type": "code",
   "execution_count": 84,
   "id": "a31b69b8",
   "metadata": {},
   "outputs": [],
   "source": [
    "all_accuracy.sort()"
   ]
  },
  {
   "cell_type": "code",
   "execution_count": 85,
   "id": "f06aeb5f",
   "metadata": {},
   "outputs": [
    {
     "data": {
      "text/plain": [
       "[0.7309486780715396,\n",
       " 0.7325038880248833,\n",
       " 0.7387247278382582,\n",
       " 0.7387247278382582,\n",
       " 0.7465007776049767,\n",
       " 0.76049766718507,\n",
       " 0.76049766718507,\n",
       " 0.76049766718507,\n",
       " 0.76049766718507,\n",
       " 0.76049766718507,\n",
       " 0.76049766718507,\n",
       " 0.7620528771384136,\n",
       " 0.7620528771384136,\n",
       " 0.7620528771384136,\n",
       " 0.7620528771384136,\n",
       " 0.7620528771384136,\n",
       " 0.7620528771384136,\n",
       " 0.7620528771384136,\n",
       " 0.7620528771384136,\n",
       " 0.7636080870917574,\n",
       " 0.7667185069984448,\n",
       " 0.7682737169517885,\n",
       " 0.7682737169517885,\n",
       " 0.7682737169517885,\n",
       " 0.7698289269051322,\n",
       " 0.7713841368584758,\n",
       " 0.7713841368584758,\n",
       " 0.7713841368584758,\n",
       " 0.7713841368584758,\n",
       " 0.7713841368584758,\n",
       " 0.7713841368584758,\n",
       " 0.7713841368584758,\n",
       " 0.7729393468118196,\n",
       " 0.7729393468118196,\n",
       " 0.7729393468118196,\n",
       " 0.7744945567651633,\n",
       " 0.776049766718507,\n",
       " 0.776049766718507,\n",
       " 0.7776049766718507,\n",
       " 0.7776049766718507,\n",
       " 0.7776049766718507,\n",
       " 0.7791601866251944,\n",
       " 0.7791601866251944,\n",
       " 0.7791601866251944,\n",
       " 0.7791601866251944,\n",
       " 0.7791601866251944,\n",
       " 0.7791601866251944,\n",
       " 0.7791601866251944,\n",
       " 0.7791601866251944,\n",
       " 0.7791601866251944,\n",
       " 0.7807153965785381,\n",
       " 0.7807153965785381,\n",
       " 0.7807153965785381,\n",
       " 0.7807153965785381,\n",
       " 0.7807153965785381,\n",
       " 0.7807153965785381,\n",
       " 0.7807153965785381,\n",
       " 0.7807153965785381,\n",
       " 0.7807153965785381,\n",
       " 0.7822706065318819,\n",
       " 0.7822706065318819,\n",
       " 0.7838258164852255,\n",
       " 0.7838258164852255,\n",
       " 0.7838258164852255,\n",
       " 0.7838258164852255,\n",
       " 0.7838258164852255,\n",
       " 0.7853810264385692,\n",
       " 0.7853810264385692,\n",
       " 0.7853810264385692,\n",
       " 0.7853810264385692,\n",
       " 0.7853810264385692,\n",
       " 0.7853810264385692,\n",
       " 0.7853810264385692,\n",
       " 0.7853810264385692,\n",
       " 0.7869362363919129,\n",
       " 0.7869362363919129,\n",
       " 0.7869362363919129,\n",
       " 0.7869362363919129,\n",
       " 0.7869362363919129,\n",
       " 0.7869362363919129,\n",
       " 0.7869362363919129,\n",
       " 0.7884914463452566,\n",
       " 0.7884914463452566,\n",
       " 0.7884914463452566,\n",
       " 0.7884914463452566,\n",
       " 0.7900466562986003,\n",
       " 0.7900466562986003,\n",
       " 0.7916018662519441,\n",
       " 0.7916018662519441,\n",
       " 0.7947122861586314]"
      ]
     },
     "execution_count": 85,
     "metadata": {},
     "output_type": "execute_result"
    }
   ],
   "source": [
    "all_accuracy"
   ]
  },
  {
   "cell_type": "code",
   "execution_count": 80,
   "id": "b1a8673f",
   "metadata": {},
   "outputs": [
    {
     "data": {
      "text/plain": [
       "[10,\n",
       " 10,\n",
       " 10,\n",
       " 10,\n",
       " 10,\n",
       " 10,\n",
       " 10,\n",
       " 10,\n",
       " 10,\n",
       " 20,\n",
       " 20,\n",
       " 20,\n",
       " 20,\n",
       " 20,\n",
       " 20,\n",
       " 20,\n",
       " 20,\n",
       " 20,\n",
       " 30,\n",
       " 30,\n",
       " 30,\n",
       " 30,\n",
       " 30,\n",
       " 30,\n",
       " 30,\n",
       " 30,\n",
       " 30,\n",
       " 40,\n",
       " 40,\n",
       " 40,\n",
       " 40,\n",
       " 40,\n",
       " 40,\n",
       " 40,\n",
       " 40,\n",
       " 40,\n",
       " 50,\n",
       " 50,\n",
       " 50,\n",
       " 50,\n",
       " 50,\n",
       " 50,\n",
       " 50,\n",
       " 50,\n",
       " 50,\n",
       " 60,\n",
       " 60,\n",
       " 60,\n",
       " 60,\n",
       " 60,\n",
       " 60,\n",
       " 60,\n",
       " 60,\n",
       " 60,\n",
       " 70,\n",
       " 70,\n",
       " 70,\n",
       " 70,\n",
       " 70,\n",
       " 70,\n",
       " 70,\n",
       " 70,\n",
       " 70,\n",
       " 80,\n",
       " 80,\n",
       " 80,\n",
       " 80,\n",
       " 80,\n",
       " 80,\n",
       " 80,\n",
       " 80,\n",
       " 80,\n",
       " 90,\n",
       " 90,\n",
       " 90,\n",
       " 90,\n",
       " 90,\n",
       " 90,\n",
       " 90,\n",
       " 90,\n",
       " 90,\n",
       " 100,\n",
       " 100,\n",
       " 100,\n",
       " 100,\n",
       " 100,\n",
       " 100,\n",
       " 100,\n",
       " 100,\n",
       " 100]"
      ]
     },
     "execution_count": 80,
     "metadata": {},
     "output_type": "execute_result"
    }
   ],
   "source": [
    "estemitors"
   ]
  },
  {
   "cell_type": "code",
   "execution_count": null,
   "id": "5a78427a",
   "metadata": {},
   "outputs": [],
   "source": []
  }
 ],
 "metadata": {
  "kernelspec": {
   "display_name": "Python 3 (ipykernel)",
   "language": "python",
   "name": "python3"
  },
  "language_info": {
   "codemirror_mode": {
    "name": "ipython",
    "version": 3
   },
   "file_extension": ".py",
   "mimetype": "text/x-python",
   "name": "python",
   "nbconvert_exporter": "python",
   "pygments_lexer": "ipython3",
   "version": "3.11.5"
  }
 },
 "nbformat": 4,
 "nbformat_minor": 5
}
