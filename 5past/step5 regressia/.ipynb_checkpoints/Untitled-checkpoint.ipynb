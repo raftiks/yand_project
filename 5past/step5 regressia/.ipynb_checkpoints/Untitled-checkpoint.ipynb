{
 "cells": [
  {
   "cell_type": "markdown",
   "id": "ceb9e330",
   "metadata": {},
   "source": [
    "# Регрессия \n",
    "Какая метрика подходит для задачи регрессии? Средняя квадратичная ошибка!\n",
    "Что будет «правильным ответом» в вашей задаче? Полное, вплоть до последнего рубля, совпадение цены квартиры? Если абсолютная точность в задаче не важна, метрика accuracy не подходит.\n",
    "Наиболее распространённая метрика качества в задаче регрессии — средняя квадратичная ошибка. В прошлых уроках вы добивались наибольшего значения accuracy. Величина MSE, наоборот, должна быть как можно меньше."
   ]
  },
  {
   "cell_type": "code",
   "execution_count": 14,
   "id": "f289d67c",
   "metadata": {},
   "outputs": [],
   "source": [
    "import pandas as pd\n",
    "from sklearn.metrics import mean_squared_error "
   ]
  },
  {
   "cell_type": "code",
   "execution_count": 15,
   "id": "b3f7d7a0",
   "metadata": {},
   "outputs": [],
   "source": [
    "train_data = pd.read_csv(\"train_data.csv\")"
   ]
  },
  {
   "cell_type": "code",
   "execution_count": 6,
   "id": "56a28976",
   "metadata": {},
   "outputs": [],
   "source": [
    "def mse(answers, prediction):\n",
    "    mses = 0\n",
    "    for i in range(len(answers)):\n",
    "        mses += (prediction[i] - answers[i])**2\n",
    "    return mses / len(answers)\n",
    "    "
   ]
  },
  {
   "cell_type": "code",
   "execution_count": 7,
   "id": "fd5a7de2",
   "metadata": {},
   "outputs": [],
   "source": [
    "answers = [623, 253, 150, 237]\n",
    "predictions = [649, 253, 370, 148]"
   ]
  },
  {
   "cell_type": "code",
   "execution_count": 9,
   "id": "efaa869f",
   "metadata": {},
   "outputs": [
    {
     "name": "stdout",
     "output_type": "stream",
     "text": [
      "14249.25\n"
     ]
    }
   ],
   "source": [
    "print(mse(answers,predictions))"
   ]
  },
  {
   "cell_type": "code",
   "execution_count": 11,
   "id": "d2fe3a4f",
   "metadata": {},
   "outputs": [],
   "source": [
    "mse1 = mean_squared_error(answers,predictions)"
   ]
  },
  {
   "cell_type": "code",
   "execution_count": 12,
   "id": "52e80c96",
   "metadata": {},
   "outputs": [
    {
     "data": {
      "text/plain": [
       "14249.25"
      ]
     },
     "execution_count": 12,
     "metadata": {},
     "output_type": "execute_result"
    }
   ],
   "source": [
    "mse1"
   ]
  },
  {
   "cell_type": "code",
   "execution_count": 16,
   "id": "8b6020a8",
   "metadata": {},
   "outputs": [],
   "source": [
    "features = train_data.drop(\"last_price\", axis=1)"
   ]
  },
  {
   "cell_type": "code",
   "execution_count": 20,
   "id": "43d69bcd",
   "metadata": {},
   "outputs": [],
   "source": [
    "target = train_data[\"last_price\"] / 1000000"
   ]
  },
  {
   "cell_type": "code",
   "execution_count": 21,
   "id": "f5427af7",
   "metadata": {},
   "outputs": [
    {
     "data": {
      "text/html": [
       "<div>\n",
       "<style scoped>\n",
       "    .dataframe tbody tr th:only-of-type {\n",
       "        vertical-align: middle;\n",
       "    }\n",
       "\n",
       "    .dataframe tbody tr th {\n",
       "        vertical-align: top;\n",
       "    }\n",
       "\n",
       "    .dataframe thead th {\n",
       "        text-align: right;\n",
       "    }\n",
       "</style>\n",
       "<table border=\"1\" class=\"dataframe\">\n",
       "  <thead>\n",
       "    <tr style=\"text-align: right;\">\n",
       "      <th></th>\n",
       "      <th>total_area</th>\n",
       "      <th>rooms</th>\n",
       "      <th>ceiling_height</th>\n",
       "      <th>floors_total</th>\n",
       "      <th>living_area</th>\n",
       "      <th>floor</th>\n",
       "      <th>is_apartment</th>\n",
       "      <th>studio</th>\n",
       "      <th>open_plan</th>\n",
       "      <th>kitchen_area</th>\n",
       "      <th>balcony</th>\n",
       "      <th>airports_nearest</th>\n",
       "      <th>cityCenters_nearest</th>\n",
       "    </tr>\n",
       "  </thead>\n",
       "  <tbody>\n",
       "    <tr>\n",
       "      <th>0</th>\n",
       "      <td>59.0</td>\n",
       "      <td>2</td>\n",
       "      <td>2.87</td>\n",
       "      <td>4.0</td>\n",
       "      <td>31.5</td>\n",
       "      <td>2</td>\n",
       "      <td>0.0</td>\n",
       "      <td>0.0</td>\n",
       "      <td>0.0</td>\n",
       "      <td>6.6</td>\n",
       "      <td>0.0</td>\n",
       "      <td>20485.0</td>\n",
       "      <td>8180.0</td>\n",
       "    </tr>\n",
       "    <tr>\n",
       "      <th>1</th>\n",
       "      <td>109.0</td>\n",
       "      <td>4</td>\n",
       "      <td>3.15</td>\n",
       "      <td>5.0</td>\n",
       "      <td>72.0</td>\n",
       "      <td>2</td>\n",
       "      <td>0.0</td>\n",
       "      <td>0.0</td>\n",
       "      <td>0.0</td>\n",
       "      <td>12.2</td>\n",
       "      <td>0.0</td>\n",
       "      <td>42683.0</td>\n",
       "      <td>8643.0</td>\n",
       "    </tr>\n",
       "    <tr>\n",
       "      <th>2</th>\n",
       "      <td>74.5</td>\n",
       "      <td>3</td>\n",
       "      <td>2.58</td>\n",
       "      <td>10.0</td>\n",
       "      <td>49.0</td>\n",
       "      <td>9</td>\n",
       "      <td>0.0</td>\n",
       "      <td>0.0</td>\n",
       "      <td>0.0</td>\n",
       "      <td>10.8</td>\n",
       "      <td>0.0</td>\n",
       "      <td>14078.0</td>\n",
       "      <td>16670.0</td>\n",
       "    </tr>\n",
       "    <tr>\n",
       "      <th>3</th>\n",
       "      <td>37.4</td>\n",
       "      <td>1</td>\n",
       "      <td>2.50</td>\n",
       "      <td>9.0</td>\n",
       "      <td>20.0</td>\n",
       "      <td>4</td>\n",
       "      <td>0.0</td>\n",
       "      <td>0.0</td>\n",
       "      <td>0.0</td>\n",
       "      <td>6.2</td>\n",
       "      <td>2.0</td>\n",
       "      <td>17792.0</td>\n",
       "      <td>17699.0</td>\n",
       "    </tr>\n",
       "    <tr>\n",
       "      <th>4</th>\n",
       "      <td>64.9</td>\n",
       "      <td>3</td>\n",
       "      <td>2.65</td>\n",
       "      <td>12.0</td>\n",
       "      <td>41.9</td>\n",
       "      <td>11</td>\n",
       "      <td>0.0</td>\n",
       "      <td>0.0</td>\n",
       "      <td>0.0</td>\n",
       "      <td>10.4</td>\n",
       "      <td>0.0</td>\n",
       "      <td>14767.0</td>\n",
       "      <td>10573.0</td>\n",
       "    </tr>\n",
       "    <tr>\n",
       "      <th>...</th>\n",
       "      <td>...</td>\n",
       "      <td>...</td>\n",
       "      <td>...</td>\n",
       "      <td>...</td>\n",
       "      <td>...</td>\n",
       "      <td>...</td>\n",
       "      <td>...</td>\n",
       "      <td>...</td>\n",
       "      <td>...</td>\n",
       "      <td>...</td>\n",
       "      <td>...</td>\n",
       "      <td>...</td>\n",
       "      <td>...</td>\n",
       "    </tr>\n",
       "    <tr>\n",
       "      <th>6490</th>\n",
       "      <td>40.1</td>\n",
       "      <td>1</td>\n",
       "      <td>2.65</td>\n",
       "      <td>10.0</td>\n",
       "      <td>20.1</td>\n",
       "      <td>6</td>\n",
       "      <td>0.0</td>\n",
       "      <td>0.0</td>\n",
       "      <td>0.0</td>\n",
       "      <td>10.8</td>\n",
       "      <td>1.0</td>\n",
       "      <td>26495.0</td>\n",
       "      <td>14198.0</td>\n",
       "    </tr>\n",
       "    <tr>\n",
       "      <th>6491</th>\n",
       "      <td>158.5</td>\n",
       "      <td>7</td>\n",
       "      <td>2.95</td>\n",
       "      <td>7.0</td>\n",
       "      <td>57.4</td>\n",
       "      <td>7</td>\n",
       "      <td>0.0</td>\n",
       "      <td>0.0</td>\n",
       "      <td>0.0</td>\n",
       "      <td>12.4</td>\n",
       "      <td>1.0</td>\n",
       "      <td>23546.0</td>\n",
       "      <td>3088.0</td>\n",
       "    </tr>\n",
       "    <tr>\n",
       "      <th>6492</th>\n",
       "      <td>62.1</td>\n",
       "      <td>2</td>\n",
       "      <td>2.75</td>\n",
       "      <td>20.0</td>\n",
       "      <td>31.0</td>\n",
       "      <td>6</td>\n",
       "      <td>0.0</td>\n",
       "      <td>0.0</td>\n",
       "      <td>0.0</td>\n",
       "      <td>13.9</td>\n",
       "      <td>2.0</td>\n",
       "      <td>34506.0</td>\n",
       "      <td>14375.0</td>\n",
       "    </tr>\n",
       "    <tr>\n",
       "      <th>6493</th>\n",
       "      <td>66.0</td>\n",
       "      <td>3</td>\n",
       "      <td>2.50</td>\n",
       "      <td>12.0</td>\n",
       "      <td>42.2</td>\n",
       "      <td>6</td>\n",
       "      <td>0.0</td>\n",
       "      <td>0.0</td>\n",
       "      <td>0.0</td>\n",
       "      <td>10.5</td>\n",
       "      <td>0.0</td>\n",
       "      <td>12892.0</td>\n",
       "      <td>11225.0</td>\n",
       "    </tr>\n",
       "    <tr>\n",
       "      <th>6494</th>\n",
       "      <td>48.0</td>\n",
       "      <td>1</td>\n",
       "      <td>2.70</td>\n",
       "      <td>9.0</td>\n",
       "      <td>20.0</td>\n",
       "      <td>9</td>\n",
       "      <td>0.0</td>\n",
       "      <td>0.0</td>\n",
       "      <td>0.0</td>\n",
       "      <td>13.0</td>\n",
       "      <td>2.0</td>\n",
       "      <td>33641.0</td>\n",
       "      <td>14027.0</td>\n",
       "    </tr>\n",
       "  </tbody>\n",
       "</table>\n",
       "<p>6495 rows × 13 columns</p>\n",
       "</div>"
      ],
      "text/plain": [
       "      total_area  rooms  ceiling_height  floors_total  living_area  floor  \\\n",
       "0           59.0      2            2.87           4.0         31.5      2   \n",
       "1          109.0      4            3.15           5.0         72.0      2   \n",
       "2           74.5      3            2.58          10.0         49.0      9   \n",
       "3           37.4      1            2.50           9.0         20.0      4   \n",
       "4           64.9      3            2.65          12.0         41.9     11   \n",
       "...          ...    ...             ...           ...          ...    ...   \n",
       "6490        40.1      1            2.65          10.0         20.1      6   \n",
       "6491       158.5      7            2.95           7.0         57.4      7   \n",
       "6492        62.1      2            2.75          20.0         31.0      6   \n",
       "6493        66.0      3            2.50          12.0         42.2      6   \n",
       "6494        48.0      1            2.70           9.0         20.0      9   \n",
       "\n",
       "      is_apartment  studio  open_plan  kitchen_area  balcony  \\\n",
       "0              0.0     0.0        0.0           6.6      0.0   \n",
       "1              0.0     0.0        0.0          12.2      0.0   \n",
       "2              0.0     0.0        0.0          10.8      0.0   \n",
       "3              0.0     0.0        0.0           6.2      2.0   \n",
       "4              0.0     0.0        0.0          10.4      0.0   \n",
       "...            ...     ...        ...           ...      ...   \n",
       "6490           0.0     0.0        0.0          10.8      1.0   \n",
       "6491           0.0     0.0        0.0          12.4      1.0   \n",
       "6492           0.0     0.0        0.0          13.9      2.0   \n",
       "6493           0.0     0.0        0.0          10.5      0.0   \n",
       "6494           0.0     0.0        0.0          13.0      2.0   \n",
       "\n",
       "      airports_nearest  cityCenters_nearest  \n",
       "0              20485.0               8180.0  \n",
       "1              42683.0               8643.0  \n",
       "2              14078.0              16670.0  \n",
       "3              17792.0              17699.0  \n",
       "4              14767.0              10573.0  \n",
       "...                ...                  ...  \n",
       "6490           26495.0              14198.0  \n",
       "6491           23546.0               3088.0  \n",
       "6492           34506.0              14375.0  \n",
       "6493           12892.0              11225.0  \n",
       "6494           33641.0              14027.0  \n",
       "\n",
       "[6495 rows x 13 columns]"
      ]
     },
     "execution_count": 21,
     "metadata": {},
     "output_type": "execute_result"
    }
   ],
   "source": [
    "features"
   ]
  },
  {
   "cell_type": "code",
   "execution_count": 23,
   "id": "4921de17",
   "metadata": {},
   "outputs": [
    {
     "data": {
      "text/plain": [
       "8.05028371377983"
      ]
     },
     "execution_count": 23,
     "metadata": {},
     "output_type": "execute_result"
    }
   ],
   "source": [
    "target.mean()"
   ]
  },
  {
   "cell_type": "code",
   "execution_count": 25,
   "id": "7051e49b",
   "metadata": {},
   "outputs": [],
   "source": [
    "predictions = pd.Series(target.mean(), index = target.index)"
   ]
  },
  {
   "cell_type": "code",
   "execution_count": 26,
   "id": "48036b17",
   "metadata": {},
   "outputs": [
    {
     "data": {
      "text/plain": [
       "0       8.050284\n",
       "1       8.050284\n",
       "2       8.050284\n",
       "3       8.050284\n",
       "4       8.050284\n",
       "          ...   \n",
       "6490    8.050284\n",
       "6491    8.050284\n",
       "6492    8.050284\n",
       "6493    8.050284\n",
       "6494    8.050284\n",
       "Length: 6495, dtype: float64"
      ]
     },
     "execution_count": 26,
     "metadata": {},
     "output_type": "execute_result"
    }
   ],
   "source": [
    "predictions"
   ]
  },
  {
   "cell_type": "code",
   "execution_count": 27,
   "id": "f7efe225",
   "metadata": {},
   "outputs": [],
   "source": [
    "mse = mean_squared_error(target, predictions)"
   ]
  },
  {
   "cell_type": "code",
   "execution_count": 28,
   "id": "16ddf1a1",
   "metadata": {},
   "outputs": [
    {
     "data": {
      "text/plain": [
       "138.24439686023302"
      ]
     },
     "execution_count": 28,
     "metadata": {},
     "output_type": "execute_result"
    }
   ],
   "source": [
    "mse"
   ]
  },
  {
   "cell_type": "code",
   "execution_count": 31,
   "id": "2c415bde",
   "metadata": {},
   "outputs": [],
   "source": [
    "rmse = mse ** 0.5"
   ]
  },
  {
   "cell_type": "code",
   "execution_count": 32,
   "id": "bcfcf50a",
   "metadata": {},
   "outputs": [
    {
     "data": {
      "text/plain": [
       "11.757737744151"
      ]
     },
     "execution_count": 32,
     "metadata": {},
     "output_type": "execute_result"
    }
   ],
   "source": [
    "rmse"
   ]
  },
  {
   "cell_type": "code",
   "execution_count": null,
   "id": "02d6f2bc",
   "metadata": {},
   "outputs": [],
   "source": []
  },
  {
   "cell_type": "code",
   "execution_count": null,
   "id": "a6533358",
   "metadata": {},
   "outputs": [],
   "source": []
  }
 ],
 "metadata": {
  "kernelspec": {
   "display_name": "Python 3 (ipykernel)",
   "language": "python",
   "name": "python3"
  },
  "language_info": {
   "codemirror_mode": {
    "name": "ipython",
    "version": 3
   },
   "file_extension": ".py",
   "mimetype": "text/x-python",
   "name": "python",
   "nbconvert_exporter": "python",
   "pygments_lexer": "ipython3",
   "version": "3.11.5"
  }
 },
 "nbformat": 4,
 "nbformat_minor": 5
}
